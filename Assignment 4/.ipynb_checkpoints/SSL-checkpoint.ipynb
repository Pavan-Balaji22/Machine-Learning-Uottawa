{
 "cells": [
  {
   "cell_type": "code",
   "execution_count": 1,
   "metadata": {},
   "outputs": [],
   "source": [
    "import numpy as np\n",
    "import pandas as pd\n",
    "import matplotlib.pyplot as plt"
   ]
  },
  {
   "cell_type": "code",
   "execution_count": 2,
   "metadata": {},
   "outputs": [
    {
     "data": {
      "text/html": [
       "<div>\n",
       "<style scoped>\n",
       "    .dataframe tbody tr th:only-of-type {\n",
       "        vertical-align: middle;\n",
       "    }\n",
       "\n",
       "    .dataframe tbody tr th {\n",
       "        vertical-align: top;\n",
       "    }\n",
       "\n",
       "    .dataframe thead th {\n",
       "        text-align: right;\n",
       "    }\n",
       "</style>\n",
       "<table border=\"1\" class=\"dataframe\">\n",
       "  <thead>\n",
       "    <tr style=\"text-align: right;\">\n",
       "      <th></th>\n",
       "      <th>encounter_id</th>\n",
       "      <th>patient_nbr</th>\n",
       "      <th>race</th>\n",
       "      <th>gender</th>\n",
       "      <th>age</th>\n",
       "      <th>weight</th>\n",
       "      <th>admission_type_id</th>\n",
       "      <th>discharge_disposition_id</th>\n",
       "      <th>admission_source_id</th>\n",
       "      <th>time_in_hospital</th>\n",
       "      <th>...</th>\n",
       "      <th>citoglipton</th>\n",
       "      <th>insulin</th>\n",
       "      <th>glyburide-metformin</th>\n",
       "      <th>glipizide-metformin</th>\n",
       "      <th>glimepiride-pioglitazone</th>\n",
       "      <th>metformin-rosiglitazone</th>\n",
       "      <th>metformin-pioglitazone</th>\n",
       "      <th>change</th>\n",
       "      <th>diabetesMed</th>\n",
       "      <th>readmitted</th>\n",
       "    </tr>\n",
       "  </thead>\n",
       "  <tbody>\n",
       "    <tr>\n",
       "      <th>0</th>\n",
       "      <td>2278392</td>\n",
       "      <td>8222157</td>\n",
       "      <td>Caucasian</td>\n",
       "      <td>Female</td>\n",
       "      <td>[0-10)</td>\n",
       "      <td>NaN</td>\n",
       "      <td>6</td>\n",
       "      <td>25</td>\n",
       "      <td>1</td>\n",
       "      <td>1</td>\n",
       "      <td>...</td>\n",
       "      <td>No</td>\n",
       "      <td>No</td>\n",
       "      <td>No</td>\n",
       "      <td>No</td>\n",
       "      <td>No</td>\n",
       "      <td>No</td>\n",
       "      <td>No</td>\n",
       "      <td>No</td>\n",
       "      <td>No</td>\n",
       "      <td>NO</td>\n",
       "    </tr>\n",
       "    <tr>\n",
       "      <th>1</th>\n",
       "      <td>149190</td>\n",
       "      <td>55629189</td>\n",
       "      <td>Caucasian</td>\n",
       "      <td>Female</td>\n",
       "      <td>[10-20)</td>\n",
       "      <td>NaN</td>\n",
       "      <td>1</td>\n",
       "      <td>1</td>\n",
       "      <td>7</td>\n",
       "      <td>3</td>\n",
       "      <td>...</td>\n",
       "      <td>No</td>\n",
       "      <td>Up</td>\n",
       "      <td>No</td>\n",
       "      <td>No</td>\n",
       "      <td>No</td>\n",
       "      <td>No</td>\n",
       "      <td>No</td>\n",
       "      <td>Ch</td>\n",
       "      <td>Yes</td>\n",
       "      <td>&gt;30</td>\n",
       "    </tr>\n",
       "    <tr>\n",
       "      <th>2</th>\n",
       "      <td>64410</td>\n",
       "      <td>86047875</td>\n",
       "      <td>AfricanAmerican</td>\n",
       "      <td>Female</td>\n",
       "      <td>[20-30)</td>\n",
       "      <td>NaN</td>\n",
       "      <td>1</td>\n",
       "      <td>1</td>\n",
       "      <td>7</td>\n",
       "      <td>2</td>\n",
       "      <td>...</td>\n",
       "      <td>No</td>\n",
       "      <td>No</td>\n",
       "      <td>No</td>\n",
       "      <td>No</td>\n",
       "      <td>No</td>\n",
       "      <td>No</td>\n",
       "      <td>No</td>\n",
       "      <td>No</td>\n",
       "      <td>Yes</td>\n",
       "      <td>NO</td>\n",
       "    </tr>\n",
       "    <tr>\n",
       "      <th>3</th>\n",
       "      <td>500364</td>\n",
       "      <td>82442376</td>\n",
       "      <td>Caucasian</td>\n",
       "      <td>Male</td>\n",
       "      <td>[30-40)</td>\n",
       "      <td>NaN</td>\n",
       "      <td>1</td>\n",
       "      <td>1</td>\n",
       "      <td>7</td>\n",
       "      <td>2</td>\n",
       "      <td>...</td>\n",
       "      <td>No</td>\n",
       "      <td>Up</td>\n",
       "      <td>No</td>\n",
       "      <td>No</td>\n",
       "      <td>No</td>\n",
       "      <td>No</td>\n",
       "      <td>No</td>\n",
       "      <td>Ch</td>\n",
       "      <td>Yes</td>\n",
       "      <td>NO</td>\n",
       "    </tr>\n",
       "    <tr>\n",
       "      <th>4</th>\n",
       "      <td>16680</td>\n",
       "      <td>42519267</td>\n",
       "      <td>Caucasian</td>\n",
       "      <td>Male</td>\n",
       "      <td>[40-50)</td>\n",
       "      <td>NaN</td>\n",
       "      <td>1</td>\n",
       "      <td>1</td>\n",
       "      <td>7</td>\n",
       "      <td>1</td>\n",
       "      <td>...</td>\n",
       "      <td>No</td>\n",
       "      <td>Steady</td>\n",
       "      <td>No</td>\n",
       "      <td>No</td>\n",
       "      <td>No</td>\n",
       "      <td>No</td>\n",
       "      <td>No</td>\n",
       "      <td>Ch</td>\n",
       "      <td>Yes</td>\n",
       "      <td>NO</td>\n",
       "    </tr>\n",
       "  </tbody>\n",
       "</table>\n",
       "<p>5 rows × 50 columns</p>\n",
       "</div>"
      ],
      "text/plain": [
       "   encounter_id  patient_nbr             race  gender      age weight  \\\n",
       "0       2278392      8222157        Caucasian  Female   [0-10)    NaN   \n",
       "1        149190     55629189        Caucasian  Female  [10-20)    NaN   \n",
       "2         64410     86047875  AfricanAmerican  Female  [20-30)    NaN   \n",
       "3        500364     82442376        Caucasian    Male  [30-40)    NaN   \n",
       "4         16680     42519267        Caucasian    Male  [40-50)    NaN   \n",
       "\n",
       "   admission_type_id  discharge_disposition_id  admission_source_id  \\\n",
       "0                  6                        25                    1   \n",
       "1                  1                         1                    7   \n",
       "2                  1                         1                    7   \n",
       "3                  1                         1                    7   \n",
       "4                  1                         1                    7   \n",
       "\n",
       "   time_in_hospital  ... citoglipton insulin  glyburide-metformin  \\\n",
       "0                 1  ...          No      No                   No   \n",
       "1                 3  ...          No      Up                   No   \n",
       "2                 2  ...          No      No                   No   \n",
       "3                 2  ...          No      Up                   No   \n",
       "4                 1  ...          No  Steady                   No   \n",
       "\n",
       "   glipizide-metformin  glimepiride-pioglitazone  metformin-rosiglitazone  \\\n",
       "0                   No                        No                       No   \n",
       "1                   No                        No                       No   \n",
       "2                   No                        No                       No   \n",
       "3                   No                        No                       No   \n",
       "4                   No                        No                       No   \n",
       "\n",
       "   metformin-pioglitazone  change diabetesMed readmitted  \n",
       "0                      No      No          No         NO  \n",
       "1                      No      Ch         Yes        >30  \n",
       "2                      No      No         Yes         NO  \n",
       "3                      No      Ch         Yes         NO  \n",
       "4                      No      Ch         Yes         NO  \n",
       "\n",
       "[5 rows x 50 columns]"
      ]
     },
     "execution_count": 2,
     "metadata": {},
     "output_type": "execute_result"
    }
   ],
   "source": [
    "# Loading the required dataset\n",
    "medical_data = pd.read_csv(\"dataset_diabetes/diabetic_data.csv\",na_values=\"?\",low_memory=False)\n",
    "medical_data.head()"
   ]
  },
  {
   "cell_type": "code",
   "execution_count": 3,
   "metadata": {},
   "outputs": [],
   "source": [
    "# Dropping columns with high percentage of missing values\n",
    "medical_data.drop(columns=[\"weight\",\"payer_code\",\"medical_specialty\"],inplace= True)"
   ]
  },
  {
   "cell_type": "code",
   "execution_count": 4,
   "metadata": {},
   "outputs": [
    {
     "name": "stdout",
     "output_type": "stream",
     "text": [
      "Unique values in column encounter_id: 101766\n",
      "Number of values in column encounter_id: 101766\n",
      "Hence being dropped\n"
     ]
    }
   ],
   "source": [
    "# Dropping column encounter_id\n",
    "print(\"Unique values in column encounter_id: {}\\nNumber of values in column encounter_id: {}\".\n",
    "      format(len(medical_data[\"encounter_id\"].unique()),len(medical_data[\"encounter_id\"])))\n",
    "print(\"Hence being dropped\")\n",
    "medical_data.drop(columns=[\"encounter_id\"],inplace= True)"
   ]
  },
  {
   "cell_type": "code",
   "execution_count": 34,
   "metadata": {},
   "outputs": [],
   "source": [
    "# Splliting the dataset into features and target\n",
    "\n",
    "X = medical_data.iloc[:,:-1] # Features\n",
    "Y = medical_data.iloc[:,-1] # Target variabels\n",
    "\n",
    "Y=Y.apply(lambda x: 1 if x != \"NO\" else 0)"
   ]
  },
  {
   "cell_type": "code",
   "execution_count": 35,
   "metadata": {},
   "outputs": [],
   "source": [
    "# # Filling in all the missing values remaining\n",
    "\n",
    "# # Using simple imputer and filling in the most frequtn values inplace of nan\n",
    "# from sklearn.impute import SimpleImputer\n",
    "# imputer = SimpleImputer(strategy= \"most_frequent\")\n",
    "# filled_X= imputer.fit_transform(X)\n",
    "\n",
    "# Assigning filled values\n",
    "X.iloc[:,:]=filled_X\n"
   ]
  },
  {
   "cell_type": "code",
   "execution_count": 36,
   "metadata": {},
   "outputs": [],
   "source": [
    "# Converting categorical variables into numerical variables \n",
    "\n",
    "from sklearn.preprocessing import OrdinalEncoder\n",
    "\n",
    "def gender_encoding (a):\n",
    "    \"\"\"\n",
    "    Input: Gender value    \n",
    "    Output: Encoded gender value\n",
    "    \n",
    "    Function to encode Male as 1, Female as -1 \n",
    "    and Other as 0    \n",
    "    \"\"\"\n",
    "    # Returning encoded values\n",
    "    if a ==  \"Male\":\n",
    "        return 1\n",
    "    elif a == \"Female\":\n",
    "        return -1\n",
    "    else:\n",
    "        return 0\n",
    "\n",
    "def medicine_status_encoding(b):\n",
    "    \"\"\"\n",
    "    Input: Medicine status    \n",
    "    Output: Encoded Medicine value\n",
    "    \n",
    "    Function to encode Up as 2, down as 1,\n",
    "    no as -1 and steady as 0\n",
    "    \n",
    "    \"\"\"\n",
    "    # Returning encoded values\n",
    "    if b == \"Up\":\n",
    "        return 2\n",
    "    elif b == \"Down\":\n",
    "        return 1\n",
    "    elif b == \"Steady\":\n",
    "        return 0\n",
    "    elif b == \"No\":\n",
    "        return -1\n",
    "    \n",
    "def cat_to_num(X, to_ordinal =[],medicines = []):\n",
    "    '''\n",
    "    Input:  X - original dataset\n",
    "            to_ordinal  - the columns that need to be oridinal encoded\n",
    "            medicines = The columns containing medicine status \n",
    "    \n",
    "    Output: X - after all the processing done\n",
    "    \n",
    "    Function to change the categorical variables present in \n",
    "    the dataset to encoded numericals  \n",
    "    \n",
    "    '''\n",
    "    Oren = OrdinalEncoder(dtype = np.int64)\n",
    "    n = X.shape[1]\n",
    "    # looping through the columns and encodering the categorical column     \n",
    "    for i in range(n):\n",
    "        \n",
    "        # Ordinal encoding for ordinal columns\n",
    "        if X.iloc[:,i].name in to_ordinal:\n",
    "            X.loc[:,X.iloc[:,i].name] = Oren.fit_transform(X.iloc[:,[i]])\n",
    "            \n",
    "        # Gender encoding the gender columns\n",
    "        elif X.iloc[:,i].name == \"gender\":\n",
    "            X[X.iloc[:,i].name] = X[X.iloc[:,i].name].apply(gender_encoding) \n",
    "        \n",
    "        # Encoding the medcine status\n",
    "        elif X.iloc[:,i].name in medicines:\n",
    "            X[X.iloc[:,i].name] = X[X.iloc[:,i].name].apply(medicine_status_encoding)         \n",
    "    \n",
    "    return X\n",
    "\n",
    "\n",
    "\n",
    "# Defining the columns to be ordinal encoded and columns with medicine status\n",
    "medicine_columns = X.iloc[:,20:-2].columns\n",
    "ordinal_columns = [\"patient_nbr\",\"race\",\"age\",\"diag_1\",\"diag_2\",\"diag_3\",\"max_glu_serum\",\"A1Cresult\",\"change\",\"diabetesMed\"]\n",
    "\n",
    "# Converting all the categorical variables to encoded numericals\n",
    "X = cat_to_num(X,to_ordinal=ordinal_columns,medicines=medicine_columns)\n"
   ]
  },
  {
   "cell_type": "markdown",
   "metadata": {},
   "source": [
    "### Semi-supervised learning"
   ]
  },
  {
   "cell_type": "code",
   "execution_count": 42,
   "metadata": {},
   "outputs": [],
   "source": [
    "from sklearn.preprocessing import StandardScaler\n",
    "\n",
    "normalizer = StandardScaler()\n",
    "\n",
    "X.iloc[:,:] = normalizer.fit_transform(X)"
   ]
  },
  {
   "cell_type": "code",
   "execution_count": 43,
   "metadata": {},
   "outputs": [],
   "source": [
    "from sklearn.model_selection import train_test_split\n",
    "def SSL_load_data(data,target,percentage):\n",
    "    \"\"\"\n",
    "    Input: data - the features for the semi-supervised learning task\n",
    "           target - the target variable\n",
    "           percentage - the percentage of data should not be labelled\n",
    "    Output:\n",
    "           data_labelled - data for the targets that are labelled\n",
    "           data_unlabelled - data for the targets that are unlabelled\n",
    "           target_labelled - targets that are labelled\n",
    "           target_unlabelled - targets that are unlabelled\n",
    "    \"\"\"\n",
    "    data_labelled,data_unlabelled,target_labelled,target_unlabelled = train_test_split(data,target,\n",
    "                                                                                       test_size = percentage,\n",
    "                                                                                       random_state = 123)\n",
    "    \n",
    "    return  data_labelled,data_unlabelled,target_labelled,target_unlabelled"
   ]
  },
  {
   "cell_type": "code",
   "execution_count": 44,
   "metadata": {},
   "outputs": [],
   "source": [
    "from sklearn.semi_supervised import LabelPropagation,LabelSpreading"
   ]
  },
  {
   "cell_type": "code",
   "execution_count": 47,
   "metadata": {},
   "outputs": [
    {
     "data": {
      "text/plain": [
       "LabelPropagation(kernel='knn', n_jobs=-1)"
      ]
     },
     "execution_count": 47,
     "metadata": {},
     "output_type": "execute_result"
    }
   ],
   "source": [
    "# 10 percent\n",
    "X_labelled,X_unlabelled,Y_labelled,Y_unlabelled = SSL_load_data(X,Y,.1)\n",
    "\n",
    "lp_model_1 = LabelPropagation(kernel=\"knn\",n_jobs=-1)\n",
    "ls_model_1 = LabelSpreading(kernel=\"knn\",n_jobs=-1)\n",
    "\n",
    "lp_model_1.fit(X_labelled,Y_labelled)\n",
    "\n",
    "ls_model_1.fit(X_labelled,Y_labelled)"
   ]
  },
  {
   "cell_type": "code",
   "execution_count": 55,
   "metadata": {},
   "outputs": [],
   "source": [
    "lp_1_accuracy = lp_model_1.score(X_unlabelled,Y_unlabelled)\n",
    "lp_1_pred = lp_model_1.predict(X_unlabelled)\n",
    "ls_1_accuracy=ls_model_1.score(X_unlabelled,Y_unlabelled)\n",
    "ls_1_pred = ls_model_1.predict(X_unlabelled)"
   ]
  },
  {
   "cell_type": "code",
   "execution_count": 49,
   "metadata": {},
   "outputs": [
    {
     "data": {
      "text/plain": [
       "LabelSpreading(kernel='knn', n_jobs=-1)"
      ]
     },
     "execution_count": 49,
     "metadata": {},
     "output_type": "execute_result"
    }
   ],
   "source": [
    "# 20 percent\n",
    "X_labelled,X_unlabelled,Y_labelled,Y_unlabelled = SSL_load_data(X,Y,.2)\n",
    "\n",
    "lp_model_2 = LabelPropagation(kernel=\"knn\",n_jobs=-1)\n",
    "ls_model_2 = LabelSpreading(kernel=\"knn\",n_jobs=-1)\n",
    "\n",
    "lp_model_2.fit(X_labelled,Y_labelled)\n",
    "ls_model_2.fit(X_labelled,Y_labelled)"
   ]
  },
  {
   "cell_type": "code",
   "execution_count": 56,
   "metadata": {},
   "outputs": [],
   "source": [
    "lp_2_accuracy = lp_model_2.score(X_unlabelled,Y_unlabelled)\n",
    "lp_2_pred = lp_model_2.predict(X_unlabelled)\n",
    "ls_2_accuracy=ls_model_2.score(X_unlabelled,Y_unlabelled)\n",
    "ls_2_pred = ls_model_2.predict(X_unlabelled)"
   ]
  },
  {
   "cell_type": "code",
   "execution_count": 50,
   "metadata": {},
   "outputs": [
    {
     "data": {
      "text/plain": [
       "LabelSpreading(kernel='knn', n_jobs=-1)"
      ]
     },
     "execution_count": 50,
     "metadata": {},
     "output_type": "execute_result"
    }
   ],
   "source": [
    "# 50 percent\n",
    "X_labelled,X_unlabelled,Y_labelled,Y_unlabelled = SSL_load_data(X,Y,.5)\n",
    "\n",
    "lp_model_3 = LabelPropagation(kernel=\"knn\",n_jobs=-1)\n",
    "ls_model_3 = LabelSpreading(kernel=\"knn\",n_jobs=-1)\n",
    "\n",
    "lp_model_3.fit(X_labelled,Y_labelled)\n",
    "ls_model_3.fit(X_labelled,Y_labelled)"
   ]
  },
  {
   "cell_type": "code",
   "execution_count": 57,
   "metadata": {},
   "outputs": [],
   "source": [
    "lp_3_accuracy = lp_model_3.score(X_unlabelled,Y_unlabelled)\n",
    "lp_3_pred = lp_model_3.predict(X_unlabelled)\n",
    "ls_3_accuracy=ls_model_3.score(X_unlabelled,Y_unlabelled)\n",
    "ls_3_pred = ls_model_3.predict(X_unlabelled)"
   ]
  },
  {
   "cell_type": "code",
   "execution_count": 51,
   "metadata": {},
   "outputs": [
    {
     "data": {
      "text/plain": [
       "LabelSpreading(kernel='knn', n_jobs=-1)"
      ]
     },
     "execution_count": 51,
     "metadata": {},
     "output_type": "execute_result"
    }
   ],
   "source": [
    "# 90 percent\n",
    "X_labelled,X_unlabelled,Y_labelled,Y_unlabelled = SSL_load_data(X,Y,.9)\n",
    "\n",
    "lp_model_4 = LabelPropagation(kernel=\"knn\",n_jobs=-1)\n",
    "ls_model_4 = LabelSpreading(kernel=\"knn\",n_jobs=-1)\n",
    "\n",
    "lp_model_4.fit(X_labelled,Y_labelled)\n",
    "ls_model_4.fit(X_labelled,Y_labelled)"
   ]
  },
  {
   "cell_type": "code",
   "execution_count": null,
   "metadata": {},
   "outputs": [],
   "source": [
    "lp_4_accuracy = lp_model_4.score(X_unlabelled,Y_unlabelled)\n",
    "lp_4_pred = lp_model_4.predict(X_unlabelled)\n",
    "ls_4_accuracy=ls_model_4.score(X_unlabelled,Y_unlabelled)\n",
    "ls_4_pred = ls_model_4.predict(X_unlabelled)"
   ]
  },
  {
   "cell_type": "code",
   "execution_count": 52,
   "metadata": {},
   "outputs": [
    {
     "data": {
      "text/plain": [
       "LabelSpreading(kernel='knn', n_jobs=-1)"
      ]
     },
     "execution_count": 52,
     "metadata": {},
     "output_type": "execute_result"
    }
   ],
   "source": [
    "# 95 percent\n",
    "X_labelled,X_unlabelled,Y_labelled,Y_unlabelled = SSL_load_data(X,Y,.95)\n",
    "\n",
    "lp_model_5 = LabelPropagation(kernel=\"knn\",n_jobs=-1)\n",
    "ls_model_5 = LabelSpreading(kernel=\"knn\",n_jobs=-1)\n",
    "\n",
    "lp_model_5.fit(X_labelled,Y_labelled)\n",
    "ls_model_5.fit(X_labelled,Y_labelled)"
   ]
  },
  {
   "cell_type": "code",
   "execution_count": null,
   "metadata": {},
   "outputs": [],
   "source": [
    "lp_5_accuracy = lp_model_5.score(X_unlabelled,Y_unlabelled)\n",
    "lp_5_pred = lp_model_5.predict(X_unlabelled)\n",
    "ls_5_accuracy=ls_model_5.score(X_unlabelled,Y_unlabelled)\n",
    "ls_5_pred = ls_model_5.predict(X_unlabelled)"
   ]
  },
  {
   "cell_type": "code",
   "execution_count": null,
   "metadata": {},
   "outputs": [],
   "source": []
  }
 ],
 "metadata": {
  "kernelspec": {
   "display_name": "Python 3",
   "language": "python",
   "name": "python3"
  },
  "language_info": {
   "codemirror_mode": {
    "name": "ipython",
    "version": 3
   },
   "file_extension": ".py",
   "mimetype": "text/x-python",
   "name": "python",
   "nbconvert_exporter": "python",
   "pygments_lexer": "ipython3",
   "version": "3.7.7"
  },
  "varInspector": {
   "cols": {
    "lenName": 16,
    "lenType": 16,
    "lenVar": 40
   },
   "kernels_config": {
    "python": {
     "delete_cmd_postfix": "",
     "delete_cmd_prefix": "del ",
     "library": "var_list.py",
     "varRefreshCmd": "print(var_dic_list())"
    },
    "r": {
     "delete_cmd_postfix": ") ",
     "delete_cmd_prefix": "rm(",
     "library": "var_list.r",
     "varRefreshCmd": "cat(var_dic_list()) "
    }
   },
   "position": {
    "height": "255px",
    "left": "944px",
    "right": "20px",
    "top": "6px",
    "width": "549px"
   },
   "types_to_exclude": [
    "module",
    "function",
    "builtin_function_or_method",
    "instance",
    "_Feature"
   ],
   "window_display": true
  }
 },
 "nbformat": 4,
 "nbformat_minor": 4
}
