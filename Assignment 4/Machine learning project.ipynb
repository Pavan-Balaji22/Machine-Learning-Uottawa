{
 "cells": [
  {
   "cell_type": "code",
   "execution_count": 1,
   "metadata": {},
   "outputs": [],
   "source": [
    "import numpy as np\n",
    "import pandas as pd\n",
    "import matplotlib.pyplot as plt"
   ]
  },
  {
   "cell_type": "markdown",
   "metadata": {},
   "source": [
    "## PART A"
   ]
  },
  {
   "cell_type": "markdown",
   "metadata": {},
   "source": [
    "### Feature Engineering"
   ]
  },
  {
   "cell_type": "code",
   "execution_count": 2,
   "metadata": {
    "scrolled": true
   },
   "outputs": [
    {
     "data": {
      "text/html": [
       "<div>\n",
       "<style scoped>\n",
       "    .dataframe tbody tr th:only-of-type {\n",
       "        vertical-align: middle;\n",
       "    }\n",
       "\n",
       "    .dataframe tbody tr th {\n",
       "        vertical-align: top;\n",
       "    }\n",
       "\n",
       "    .dataframe thead th {\n",
       "        text-align: right;\n",
       "    }\n",
       "</style>\n",
       "<table border=\"1\" class=\"dataframe\">\n",
       "  <thead>\n",
       "    <tr style=\"text-align: right;\">\n",
       "      <th></th>\n",
       "      <th>encounter_id</th>\n",
       "      <th>patient_nbr</th>\n",
       "      <th>race</th>\n",
       "      <th>gender</th>\n",
       "      <th>age</th>\n",
       "      <th>weight</th>\n",
       "      <th>admission_type_id</th>\n",
       "      <th>discharge_disposition_id</th>\n",
       "      <th>admission_source_id</th>\n",
       "      <th>time_in_hospital</th>\n",
       "      <th>...</th>\n",
       "      <th>citoglipton</th>\n",
       "      <th>insulin</th>\n",
       "      <th>glyburide-metformin</th>\n",
       "      <th>glipizide-metformin</th>\n",
       "      <th>glimepiride-pioglitazone</th>\n",
       "      <th>metformin-rosiglitazone</th>\n",
       "      <th>metformin-pioglitazone</th>\n",
       "      <th>change</th>\n",
       "      <th>diabetesMed</th>\n",
       "      <th>readmitted</th>\n",
       "    </tr>\n",
       "  </thead>\n",
       "  <tbody>\n",
       "    <tr>\n",
       "      <th>0</th>\n",
       "      <td>2278392</td>\n",
       "      <td>8222157</td>\n",
       "      <td>Caucasian</td>\n",
       "      <td>Female</td>\n",
       "      <td>[0-10)</td>\n",
       "      <td>NaN</td>\n",
       "      <td>6</td>\n",
       "      <td>25</td>\n",
       "      <td>1</td>\n",
       "      <td>1</td>\n",
       "      <td>...</td>\n",
       "      <td>No</td>\n",
       "      <td>No</td>\n",
       "      <td>No</td>\n",
       "      <td>No</td>\n",
       "      <td>No</td>\n",
       "      <td>No</td>\n",
       "      <td>No</td>\n",
       "      <td>No</td>\n",
       "      <td>No</td>\n",
       "      <td>NO</td>\n",
       "    </tr>\n",
       "    <tr>\n",
       "      <th>1</th>\n",
       "      <td>149190</td>\n",
       "      <td>55629189</td>\n",
       "      <td>Caucasian</td>\n",
       "      <td>Female</td>\n",
       "      <td>[10-20)</td>\n",
       "      <td>NaN</td>\n",
       "      <td>1</td>\n",
       "      <td>1</td>\n",
       "      <td>7</td>\n",
       "      <td>3</td>\n",
       "      <td>...</td>\n",
       "      <td>No</td>\n",
       "      <td>Up</td>\n",
       "      <td>No</td>\n",
       "      <td>No</td>\n",
       "      <td>No</td>\n",
       "      <td>No</td>\n",
       "      <td>No</td>\n",
       "      <td>Ch</td>\n",
       "      <td>Yes</td>\n",
       "      <td>&gt;30</td>\n",
       "    </tr>\n",
       "    <tr>\n",
       "      <th>2</th>\n",
       "      <td>64410</td>\n",
       "      <td>86047875</td>\n",
       "      <td>AfricanAmerican</td>\n",
       "      <td>Female</td>\n",
       "      <td>[20-30)</td>\n",
       "      <td>NaN</td>\n",
       "      <td>1</td>\n",
       "      <td>1</td>\n",
       "      <td>7</td>\n",
       "      <td>2</td>\n",
       "      <td>...</td>\n",
       "      <td>No</td>\n",
       "      <td>No</td>\n",
       "      <td>No</td>\n",
       "      <td>No</td>\n",
       "      <td>No</td>\n",
       "      <td>No</td>\n",
       "      <td>No</td>\n",
       "      <td>No</td>\n",
       "      <td>Yes</td>\n",
       "      <td>NO</td>\n",
       "    </tr>\n",
       "    <tr>\n",
       "      <th>3</th>\n",
       "      <td>500364</td>\n",
       "      <td>82442376</td>\n",
       "      <td>Caucasian</td>\n",
       "      <td>Male</td>\n",
       "      <td>[30-40)</td>\n",
       "      <td>NaN</td>\n",
       "      <td>1</td>\n",
       "      <td>1</td>\n",
       "      <td>7</td>\n",
       "      <td>2</td>\n",
       "      <td>...</td>\n",
       "      <td>No</td>\n",
       "      <td>Up</td>\n",
       "      <td>No</td>\n",
       "      <td>No</td>\n",
       "      <td>No</td>\n",
       "      <td>No</td>\n",
       "      <td>No</td>\n",
       "      <td>Ch</td>\n",
       "      <td>Yes</td>\n",
       "      <td>NO</td>\n",
       "    </tr>\n",
       "    <tr>\n",
       "      <th>4</th>\n",
       "      <td>16680</td>\n",
       "      <td>42519267</td>\n",
       "      <td>Caucasian</td>\n",
       "      <td>Male</td>\n",
       "      <td>[40-50)</td>\n",
       "      <td>NaN</td>\n",
       "      <td>1</td>\n",
       "      <td>1</td>\n",
       "      <td>7</td>\n",
       "      <td>1</td>\n",
       "      <td>...</td>\n",
       "      <td>No</td>\n",
       "      <td>Steady</td>\n",
       "      <td>No</td>\n",
       "      <td>No</td>\n",
       "      <td>No</td>\n",
       "      <td>No</td>\n",
       "      <td>No</td>\n",
       "      <td>Ch</td>\n",
       "      <td>Yes</td>\n",
       "      <td>NO</td>\n",
       "    </tr>\n",
       "  </tbody>\n",
       "</table>\n",
       "<p>5 rows × 50 columns</p>\n",
       "</div>"
      ],
      "text/plain": [
       "   encounter_id  patient_nbr             race  gender      age weight  \\\n",
       "0       2278392      8222157        Caucasian  Female   [0-10)    NaN   \n",
       "1        149190     55629189        Caucasian  Female  [10-20)    NaN   \n",
       "2         64410     86047875  AfricanAmerican  Female  [20-30)    NaN   \n",
       "3        500364     82442376        Caucasian    Male  [30-40)    NaN   \n",
       "4         16680     42519267        Caucasian    Male  [40-50)    NaN   \n",
       "\n",
       "   admission_type_id  discharge_disposition_id  admission_source_id  \\\n",
       "0                  6                        25                    1   \n",
       "1                  1                         1                    7   \n",
       "2                  1                         1                    7   \n",
       "3                  1                         1                    7   \n",
       "4                  1                         1                    7   \n",
       "\n",
       "   time_in_hospital  ... citoglipton insulin  glyburide-metformin  \\\n",
       "0                 1  ...          No      No                   No   \n",
       "1                 3  ...          No      Up                   No   \n",
       "2                 2  ...          No      No                   No   \n",
       "3                 2  ...          No      Up                   No   \n",
       "4                 1  ...          No  Steady                   No   \n",
       "\n",
       "   glipizide-metformin  glimepiride-pioglitazone  metformin-rosiglitazone  \\\n",
       "0                   No                        No                       No   \n",
       "1                   No                        No                       No   \n",
       "2                   No                        No                       No   \n",
       "3                   No                        No                       No   \n",
       "4                   No                        No                       No   \n",
       "\n",
       "   metformin-pioglitazone  change diabetesMed readmitted  \n",
       "0                      No      No          No         NO  \n",
       "1                      No      Ch         Yes        >30  \n",
       "2                      No      No         Yes         NO  \n",
       "3                      No      Ch         Yes         NO  \n",
       "4                      No      Ch         Yes         NO  \n",
       "\n",
       "[5 rows x 50 columns]"
      ]
     },
     "execution_count": 2,
     "metadata": {},
     "output_type": "execute_result"
    }
   ],
   "source": [
    "# Loading the required dataset\n",
    "medical_data = pd.read_csv(\"dataset_diabetes/diabetic_data.csv\",na_values=\"?\",low_memory=False)\n",
    "medical_data.head()"
   ]
  },
  {
   "cell_type": "code",
   "execution_count": 3,
   "metadata": {
    "scrolled": true
   },
   "outputs": [
    {
     "name": "stdout",
     "output_type": "stream",
     "text": [
      "The Dataset consists of 101766 instances and 50 features\n"
     ]
    }
   ],
   "source": [
    "# Dimension of the original dataset\n",
    "print(\"The Dataset consists of {} instances and {} features\".format(*medical_data.shape))"
   ]
  },
  {
   "cell_type": "markdown",
   "metadata": {},
   "source": [
    "#### Handling Missing values"
   ]
  },
  {
   "cell_type": "code",
   "execution_count": 4,
   "metadata": {},
   "outputs": [
    {
     "data": {
      "text/plain": [
       "object    37\n",
       "int64     13\n",
       "dtype: int64"
      ]
     },
     "execution_count": 4,
     "metadata": {},
     "output_type": "execute_result"
    }
   ],
   "source": [
    "medical_data.dtypes.value_counts()"
   ]
  },
  {
   "cell_type": "code",
   "execution_count": 5,
   "metadata": {},
   "outputs": [
    {
     "name": "stdout",
     "output_type": "stream",
     "text": [
      "Columns with missing values.\n"
     ]
    },
    {
     "data": {
      "text/html": [
       "<div>\n",
       "<style scoped>\n",
       "    .dataframe tbody tr th:only-of-type {\n",
       "        vertical-align: middle;\n",
       "    }\n",
       "\n",
       "    .dataframe tbody tr th {\n",
       "        vertical-align: top;\n",
       "    }\n",
       "\n",
       "    .dataframe thead th {\n",
       "        text-align: right;\n",
       "    }\n",
       "</style>\n",
       "<table border=\"1\" class=\"dataframe\">\n",
       "  <thead>\n",
       "    <tr style=\"text-align: right;\">\n",
       "      <th></th>\n",
       "      <th>Missing value %</th>\n",
       "    </tr>\n",
       "    <tr>\n",
       "      <th>Features</th>\n",
       "      <th></th>\n",
       "    </tr>\n",
       "  </thead>\n",
       "  <tbody>\n",
       "    <tr>\n",
       "      <th>weight</th>\n",
       "      <td>96.86</td>\n",
       "    </tr>\n",
       "    <tr>\n",
       "      <th>medical_specialty</th>\n",
       "      <td>49.08</td>\n",
       "    </tr>\n",
       "    <tr>\n",
       "      <th>payer_code</th>\n",
       "      <td>39.56</td>\n",
       "    </tr>\n",
       "    <tr>\n",
       "      <th>race</th>\n",
       "      <td>2.23</td>\n",
       "    </tr>\n",
       "    <tr>\n",
       "      <th>diag_3</th>\n",
       "      <td>1.40</td>\n",
       "    </tr>\n",
       "    <tr>\n",
       "      <th>diag_2</th>\n",
       "      <td>0.35</td>\n",
       "    </tr>\n",
       "    <tr>\n",
       "      <th>diag_1</th>\n",
       "      <td>0.02</td>\n",
       "    </tr>\n",
       "  </tbody>\n",
       "</table>\n",
       "</div>"
      ],
      "text/plain": [
       "                   Missing value %\n",
       "Features                          \n",
       "weight                       96.86\n",
       "medical_specialty            49.08\n",
       "payer_code                   39.56\n",
       "race                          2.23\n",
       "diag_3                        1.40\n",
       "diag_2                        0.35\n",
       "diag_1                        0.02"
      ]
     },
     "execution_count": 5,
     "metadata": {},
     "output_type": "execute_result"
    }
   ],
   "source": [
    "# The missing value percentage of each columns\n",
    "print(\"Columns with missing values.\")\n",
    "missing=pd.DataFrame((((medical_data.isna().apply(sum))/101766)*100).apply(lambda x:round(x,ndigits=2)).sort_values(ascending = False),columns=[\"Missing value %\"])\n",
    "missing.index.set_names(\"Features\",inplace = True)\n",
    "missing[missing[\"Missing value %\"] >0]"
   ]
  },
  {
   "cell_type": "markdown",
   "metadata": {},
   "source": [
    "##### It is found that the columns \"weight\", \"payer_code\" and \"medical_specialty\" have a high percentage of missing values and hence are being dropped."
   ]
  },
  {
   "cell_type": "code",
   "execution_count": 6,
   "metadata": {},
   "outputs": [],
   "source": [
    "# Dropping columns with high percentage of missing values\n",
    "medical_data.drop(columns=[\"weight\",\"payer_code\",\"medical_specialty\"],inplace= True)"
   ]
  },
  {
   "cell_type": "markdown",
   "metadata": {},
   "source": [
    "##### \"encounter_id\" column is also dropped because it has a unique value for each instance of data and does not provide any information of the target variable."
   ]
  },
  {
   "cell_type": "code",
   "execution_count": 7,
   "metadata": {},
   "outputs": [
    {
     "name": "stdout",
     "output_type": "stream",
     "text": [
      "Unique values in column encounter_id: 101766\n",
      "Number of values in column encounter_id: 101766\n",
      "Hence being dropped\n"
     ]
    }
   ],
   "source": [
    "# Dropping column encounter_id\n",
    "print(\"Unique values in column encounter_id: {}\\nNumber of values in column encounter_id: {}\".\n",
    "      format(len(medical_data[\"encounter_id\"].unique()),len(medical_data[\"encounter_id\"])))\n",
    "print(\"Hence being dropped\")\n",
    "medical_data.drop(columns=[\"encounter_id\"],inplace= True)"
   ]
  },
  {
   "cell_type": "code",
   "execution_count": 8,
   "metadata": {},
   "outputs": [],
   "source": [
    "# Splliting the dataset into features and target\n",
    "\n",
    "X = medical_data.iloc[:,:-1] # Features\n",
    "Y = medical_data.iloc[:,-1] # Target variabels\n",
    "\n",
    "Y=Y.apply(lambda x: 1 if x != \"NO\" else 0)"
   ]
  },
  {
   "cell_type": "code",
   "execution_count": 9,
   "metadata": {},
   "outputs": [],
   "source": [
    "# # Filling in all the missing values remaining\n",
    "\n",
    "# # Using simple imputer and filling in the most frequtn values inplace of nan\n",
    "from sklearn.impute import SimpleImputer\n",
    "imputer = SimpleImputer(strategy= \"most_frequent\")\n",
    "filled_X= imputer.fit_transform(X)\n",
    "\n",
    "# Assigning filled values\n",
    "X.iloc[:,:]=filled_X\n"
   ]
  },
  {
   "cell_type": "markdown",
   "metadata": {},
   "source": [
    "#### Feature Transformation"
   ]
  },
  {
   "cell_type": "code",
   "execution_count": 10,
   "metadata": {},
   "outputs": [],
   "source": [
    "# Converting categorical variables into numerical variables \n",
    "\n",
    "from sklearn.preprocessing import OrdinalEncoder\n",
    "\n",
    "def gender_encoding (a):\n",
    "    \"\"\"\n",
    "    Input: Gender value    \n",
    "    Output: Encoded gender value\n",
    "    \n",
    "    Function to encode Male as 1, Female as -1 \n",
    "    and Other as 0    \n",
    "    \"\"\"\n",
    "    # Returning encoded values\n",
    "    if a ==  \"Male\":\n",
    "        return 1\n",
    "    elif a == \"Female\":\n",
    "        return -1\n",
    "    else:\n",
    "        return 0\n",
    "\n",
    "def medicine_status_encoding(b):\n",
    "    \"\"\"\n",
    "    Input: Medicine status    \n",
    "    Output: Encoded Medicine value\n",
    "    \n",
    "    Function to encode Up as 2, down as 1,\n",
    "    no as -1 and steady as 0\n",
    "    \n",
    "    \"\"\"\n",
    "    # Returning encoded values\n",
    "    if b == \"Up\":\n",
    "        return 2\n",
    "    elif b == \"Down\":\n",
    "        return 1\n",
    "    elif b == \"Steady\":\n",
    "        return 0\n",
    "    elif b == \"No\":\n",
    "        return -1\n",
    "    \n",
    "def cat_to_num(X, to_ordinal =[],medicines = []):\n",
    "    '''\n",
    "    Input:  X - original dataset\n",
    "            to_ordinal  - the columns that need to be oridinal encoded\n",
    "            medicines = The columns containing medicine status \n",
    "    \n",
    "    Output: X - after all the processing done\n",
    "    \n",
    "    Function to change the categorical variables present in \n",
    "    the dataset to encoded numericals  \n",
    "    \n",
    "    '''\n",
    "    Oren = OrdinalEncoder(dtype = np.int64)\n",
    "    n = X.shape[1]\n",
    "    # looping through the columns and encodering the categorical column     \n",
    "    for i in range(n):\n",
    "        \n",
    "        # Ordinal encoding for ordinal columns\n",
    "        if X.iloc[:,i].name in to_ordinal:\n",
    "            X.loc[:,X.iloc[:,i].name] = Oren.fit_transform(X.iloc[:,[i]])\n",
    "            \n",
    "        # Gender encoding the gender columns\n",
    "        elif X.iloc[:,i].name == \"gender\":\n",
    "            X[X.iloc[:,i].name] = X[X.iloc[:,i].name].apply(gender_encoding) \n",
    "        \n",
    "        # Encoding the medcine status\n",
    "        elif X.iloc[:,i].name in medicines:\n",
    "            X[X.iloc[:,i].name] = X[X.iloc[:,i].name].apply(medicine_status_encoding)         \n",
    "    \n",
    "    return X\n",
    "\n",
    "\n",
    "\n",
    "# Defining the columns to be ordinal encoded and columns with medicine status\n",
    "medicine_columns = X.iloc[:,20:-2].columns\n",
    "ordinal_columns = [\"patient_nbr\",\"race\",\"age\",\"diag_1\",\"diag_2\",\"diag_3\",\"max_glu_serum\",\"A1Cresult\",\"change\",\"diabetesMed\"]\n",
    "\n",
    "# Converting all the categorical variables to encoded numericals\n",
    "X = cat_to_num(X,to_ordinal=ordinal_columns,medicines=medicine_columns)\n"
   ]
  },
  {
   "cell_type": "code",
   "execution_count": 11,
   "metadata": {},
   "outputs": [],
   "source": [
    "# Performing Data normalization\n",
    "from sklearn.preprocessing import StandardScaler\n",
    "\n",
    "normalizer = StandardScaler()\n",
    "\n",
    "X.iloc[:,:] = normalizer.fit_transform(X)"
   ]
  },
  {
   "cell_type": "code",
   "execution_count": 12,
   "metadata": {},
   "outputs": [
    {
     "data": {
      "text/html": [
       "<div>\n",
       "<style scoped>\n",
       "    .dataframe tbody tr th:only-of-type {\n",
       "        vertical-align: middle;\n",
       "    }\n",
       "\n",
       "    .dataframe tbody tr th {\n",
       "        vertical-align: top;\n",
       "    }\n",
       "\n",
       "    .dataframe thead th {\n",
       "        text-align: right;\n",
       "    }\n",
       "</style>\n",
       "<table border=\"1\" class=\"dataframe\">\n",
       "  <thead>\n",
       "    <tr style=\"text-align: right;\">\n",
       "      <th></th>\n",
       "      <th>patient_nbr</th>\n",
       "      <th>race</th>\n",
       "      <th>gender</th>\n",
       "      <th>age</th>\n",
       "      <th>admission_type_id</th>\n",
       "      <th>discharge_disposition_id</th>\n",
       "      <th>admission_source_id</th>\n",
       "      <th>time_in_hospital</th>\n",
       "      <th>num_lab_procedures</th>\n",
       "      <th>num_procedures</th>\n",
       "      <th>...</th>\n",
       "      <th>examide</th>\n",
       "      <th>citoglipton</th>\n",
       "      <th>insulin</th>\n",
       "      <th>glyburide-metformin</th>\n",
       "      <th>glipizide-metformin</th>\n",
       "      <th>glimepiride-pioglitazone</th>\n",
       "      <th>metformin-rosiglitazone</th>\n",
       "      <th>metformin-pioglitazone</th>\n",
       "      <th>change</th>\n",
       "      <th>diabetesMed</th>\n",
       "    </tr>\n",
       "  </thead>\n",
       "  <tbody>\n",
       "    <tr>\n",
       "      <th>0</th>\n",
       "      <td>-1.222446</td>\n",
       "      <td>0.391474</td>\n",
       "      <td>-0.927438</td>\n",
       "      <td>-3.824600</td>\n",
       "      <td>2.750800</td>\n",
       "      <td>4.031022</td>\n",
       "      <td>-1.169873</td>\n",
       "      <td>-1.137649</td>\n",
       "      <td>-0.106517</td>\n",
       "      <td>-0.785398</td>\n",
       "      <td>...</td>\n",
       "      <td>0.0</td>\n",
       "      <td>0.0</td>\n",
       "      <td>-0.870219</td>\n",
       "      <td>-0.081566</td>\n",
       "      <td>-0.011303</td>\n",
       "      <td>-0.003135</td>\n",
       "      <td>-0.004433</td>\n",
       "      <td>-0.003135</td>\n",
       "      <td>0.926591</td>\n",
       "      <td>-1.829868</td>\n",
       "    </tr>\n",
       "    <tr>\n",
       "      <th>1</th>\n",
       "      <td>0.132405</td>\n",
       "      <td>0.391474</td>\n",
       "      <td>-0.927438</td>\n",
       "      <td>-3.197277</td>\n",
       "      <td>-0.708461</td>\n",
       "      <td>-0.514312</td>\n",
       "      <td>0.306482</td>\n",
       "      <td>-0.467653</td>\n",
       "      <td>0.808384</td>\n",
       "      <td>-0.785398</td>\n",
       "      <td>...</td>\n",
       "      <td>0.0</td>\n",
       "      <td>0.0</td>\n",
       "      <td>2.107113</td>\n",
       "      <td>-0.081566</td>\n",
       "      <td>-0.011303</td>\n",
       "      <td>-0.003135</td>\n",
       "      <td>-0.004433</td>\n",
       "      <td>-0.003135</td>\n",
       "      <td>-1.079225</td>\n",
       "      <td>0.546488</td>\n",
       "    </tr>\n",
       "    <tr>\n",
       "      <th>2</th>\n",
       "      <td>0.828245</td>\n",
       "      <td>-1.951156</td>\n",
       "      <td>-0.927438</td>\n",
       "      <td>-2.569954</td>\n",
       "      <td>-0.708461</td>\n",
       "      <td>-0.514312</td>\n",
       "      <td>0.306482</td>\n",
       "      <td>-0.802651</td>\n",
       "      <td>-1.631351</td>\n",
       "      <td>2.145781</td>\n",
       "      <td>...</td>\n",
       "      <td>0.0</td>\n",
       "      <td>0.0</td>\n",
       "      <td>-0.870219</td>\n",
       "      <td>-0.081566</td>\n",
       "      <td>-0.011303</td>\n",
       "      <td>-0.003135</td>\n",
       "      <td>-0.004433</td>\n",
       "      <td>-0.003135</td>\n",
       "      <td>0.926591</td>\n",
       "      <td>0.546488</td>\n",
       "    </tr>\n",
       "    <tr>\n",
       "      <th>3</th>\n",
       "      <td>0.695713</td>\n",
       "      <td>0.391474</td>\n",
       "      <td>1.078271</td>\n",
       "      <td>-1.942632</td>\n",
       "      <td>-0.708461</td>\n",
       "      <td>-0.514312</td>\n",
       "      <td>0.306482</td>\n",
       "      <td>-0.802651</td>\n",
       "      <td>0.045967</td>\n",
       "      <td>-0.199162</td>\n",
       "      <td>...</td>\n",
       "      <td>0.0</td>\n",
       "      <td>0.0</td>\n",
       "      <td>2.107113</td>\n",
       "      <td>-0.081566</td>\n",
       "      <td>-0.011303</td>\n",
       "      <td>-0.003135</td>\n",
       "      <td>-0.004433</td>\n",
       "      <td>-0.003135</td>\n",
       "      <td>-1.079225</td>\n",
       "      <td>0.546488</td>\n",
       "    </tr>\n",
       "    <tr>\n",
       "      <th>4</th>\n",
       "      <td>-0.156937</td>\n",
       "      <td>0.391474</td>\n",
       "      <td>1.078271</td>\n",
       "      <td>-1.315309</td>\n",
       "      <td>-0.708461</td>\n",
       "      <td>-0.514312</td>\n",
       "      <td>0.306482</td>\n",
       "      <td>-1.137649</td>\n",
       "      <td>0.401761</td>\n",
       "      <td>-0.785398</td>\n",
       "      <td>...</td>\n",
       "      <td>0.0</td>\n",
       "      <td>0.0</td>\n",
       "      <td>0.122225</td>\n",
       "      <td>-0.081566</td>\n",
       "      <td>-0.011303</td>\n",
       "      <td>-0.003135</td>\n",
       "      <td>-0.004433</td>\n",
       "      <td>-0.003135</td>\n",
       "      <td>-1.079225</td>\n",
       "      <td>0.546488</td>\n",
       "    </tr>\n",
       "  </tbody>\n",
       "</table>\n",
       "<p>5 rows × 45 columns</p>\n",
       "</div>"
      ],
      "text/plain": [
       "   patient_nbr      race    gender       age  admission_type_id  \\\n",
       "0    -1.222446  0.391474 -0.927438 -3.824600           2.750800   \n",
       "1     0.132405  0.391474 -0.927438 -3.197277          -0.708461   \n",
       "2     0.828245 -1.951156 -0.927438 -2.569954          -0.708461   \n",
       "3     0.695713  0.391474  1.078271 -1.942632          -0.708461   \n",
       "4    -0.156937  0.391474  1.078271 -1.315309          -0.708461   \n",
       "\n",
       "   discharge_disposition_id  admission_source_id  time_in_hospital  \\\n",
       "0                  4.031022            -1.169873         -1.137649   \n",
       "1                 -0.514312             0.306482         -0.467653   \n",
       "2                 -0.514312             0.306482         -0.802651   \n",
       "3                 -0.514312             0.306482         -0.802651   \n",
       "4                 -0.514312             0.306482         -1.137649   \n",
       "\n",
       "   num_lab_procedures  num_procedures  ...  examide  citoglipton   insulin  \\\n",
       "0           -0.106517       -0.785398  ...      0.0          0.0 -0.870219   \n",
       "1            0.808384       -0.785398  ...      0.0          0.0  2.107113   \n",
       "2           -1.631351        2.145781  ...      0.0          0.0 -0.870219   \n",
       "3            0.045967       -0.199162  ...      0.0          0.0  2.107113   \n",
       "4            0.401761       -0.785398  ...      0.0          0.0  0.122225   \n",
       "\n",
       "   glyburide-metformin  glipizide-metformin  glimepiride-pioglitazone  \\\n",
       "0            -0.081566            -0.011303                 -0.003135   \n",
       "1            -0.081566            -0.011303                 -0.003135   \n",
       "2            -0.081566            -0.011303                 -0.003135   \n",
       "3            -0.081566            -0.011303                 -0.003135   \n",
       "4            -0.081566            -0.011303                 -0.003135   \n",
       "\n",
       "   metformin-rosiglitazone  metformin-pioglitazone    change  diabetesMed  \n",
       "0                -0.004433               -0.003135  0.926591    -1.829868  \n",
       "1                -0.004433               -0.003135 -1.079225     0.546488  \n",
       "2                -0.004433               -0.003135  0.926591     0.546488  \n",
       "3                -0.004433               -0.003135 -1.079225     0.546488  \n",
       "4                -0.004433               -0.003135 -1.079225     0.546488  \n",
       "\n",
       "[5 rows x 45 columns]"
      ]
     },
     "execution_count": 12,
     "metadata": {},
     "output_type": "execute_result"
    }
   ],
   "source": [
    "# Data after normalization\n",
    "X.head()"
   ]
  },
  {
   "cell_type": "code",
   "execution_count": 13,
   "metadata": {},
   "outputs": [],
   "source": [
    "# Splitting the Dataset into testing and trainig datasets\n",
    "from sklearn.model_selection import train_test_split\n",
    "\n",
    "X_train,X_test,y_train,y_test = train_test_split(X,Y, test_size = .25,random_state = 123)"
   ]
  },
  {
   "cell_type": "markdown",
   "metadata": {},
   "source": [
    "### Supervised Learning"
   ]
  },
  {
   "cell_type": "markdown",
   "metadata": {},
   "source": [
    "### Task 1"
   ]
  },
  {
   "cell_type": "markdown",
   "metadata": {},
   "source": [
    "### Model Traning"
   ]
  },
  {
   "cell_type": "code",
   "execution_count": 14,
   "metadata": {},
   "outputs": [],
   "source": [
    "# Training Multi layer preceptron classifier\n",
    "from sklearn.neural_network import MLPClassifier\n",
    "from sklearn.model_selection import cross_validate\n",
    "\n",
    "MLP_model = MLPClassifier(hidden_layer_sizes=(128,64,32),max_iter=500,learning_rate_init=.003)\n",
    "MLP_results = cross_validate(MLP_model,X_train,y_train,cv = 10,return_estimator= True)"
   ]
  },
  {
   "cell_type": "code",
   "execution_count": 15,
   "metadata": {},
   "outputs": [],
   "source": [
    "# Training K nearest neighbour classifier classifier\n",
    "from sklearn.neighbors import KNeighborsClassifier\n",
    "\n",
    "knn_model = KNeighborsClassifier(n_neighbors = 20,n_jobs=-1)\n",
    "knn_results = cross_validate(knn_model,X_train,y_train,cv = 10,return_estimator= True)"
   ]
  },
  {
   "cell_type": "code",
   "execution_count": 16,
   "metadata": {},
   "outputs": [],
   "source": [
    "# Training Decision Tree classifier\n",
    "from sklearn.tree import DecisionTreeClassifier\n",
    "\n",
    "DT_model = DecisionTreeClassifier(max_depth=15,random_state=3,)\n",
    "DT_results = cross_validate(DT_model,X_train,y_train,cv = 10,return_estimator= True)"
   ]
  },
  {
   "cell_type": "code",
   "execution_count": 17,
   "metadata": {},
   "outputs": [],
   "source": [
    "# Training Navies Bayesian classifier\n",
    "from sklearn.naive_bayes import GaussianNB\n",
    "\n",
    "nb_model = GaussianNB()\n",
    "nb_results = cross_validate(nb_model,X_train,y_train,cv = 10,return_estimator= True)"
   ]
  },
  {
   "cell_type": "code",
   "execution_count": 18,
   "metadata": {},
   "outputs": [],
   "source": [
    "# Training Extreme tress classifier\n",
    "from sklearn.ensemble import ExtraTreesClassifier\n",
    "\n",
    "et_model = ExtraTreesClassifier(random_state=123,n_jobs=-1)\n",
    "et_results = cross_validate(et_model,X_train,y_train,cv = 10,return_estimator= True)"
   ]
  },
  {
   "cell_type": "markdown",
   "metadata": {},
   "source": [
    "### Model evaluation"
   ]
  },
  {
   "cell_type": "code",
   "execution_count": 19,
   "metadata": {},
   "outputs": [],
   "source": [
    "# Loading the models\n",
    "mlp_model = MLP_results[\"estimator\"][-1]\n",
    "dt_model  = DT_results[\"estimator\"][-1]\n",
    "nb_model  = nb_results[\"estimator\"][-1]\n",
    "knn_model = knn_results[\"estimator\"][-1]\n",
    "et_model  = et_results[\"estimator\"][-1]"
   ]
  },
  {
   "cell_type": "code",
   "execution_count": 20,
   "metadata": {},
   "outputs": [],
   "source": [
    "from sklearn.metrics import recall_score,f1_score,ConfusionMatrixDisplay,confusion_matrix,classification_report \n",
    "from math import ceil\n",
    "from time import gmtime,strftime\n",
    "\n",
    "# Function to evaluate f1_measure,recall and specificity\n",
    "def evaluation_metrics(estimator,X,Y):\n",
    "    \"\"\"\n",
    "    Input : estimator - the model that needs to be evaluated\n",
    "            X - The test dataset\n",
    "            Y - the test target variable\n",
    "            \n",
    "    Output : dict containing F1_score,sensitivity and specificity\n",
    "    \"\"\"\n",
    "    prediction = estimator.predict(X)\n",
    "    report = classification_report(Y,prediction,output_dict=True)\n",
    "    recall = round(report['1']['recall'],4)\n",
    "    f1 = round(report['1']['f1-score'],4)\n",
    "    spec = round(report['0']['recall'],4)\n",
    "\n",
    "    metrics = {\"f1_score\":f1,\"Recall\":recall,\"Specificity\":spec}\n",
    "    return metrics"
   ]
  },
  {
   "cell_type": "code",
   "execution_count": 21,
   "metadata": {},
   "outputs": [],
   "source": [
    "# Calculating F1-measure,recall specificity for the 5 models\n",
    "MLP_metrics = evaluation_metrics(mlp_model,X_test,y_test)\n",
    "knn_metrics = evaluation_metrics(knn_model,X_test,y_test)\n",
    "DT_metrics = evaluation_metrics(dt_model,X_test,y_test)\n",
    "nb_metrics = evaluation_metrics(nb_model,X_test,y_test)\n",
    "et_metrics = evaluation_metrics(et_model,X_test,y_test)"
   ]
  },
  {
   "cell_type": "code",
   "execution_count": 22,
   "metadata": {},
   "outputs": [],
   "source": [
    "# Calculating the runtime for the 5 models\n",
    "MLP_metrics[\"runtime\"] = strftime(\"%M min %S secs\",gmtime(ceil(np.mean(MLP_results[\"fit_time\"]))))\n",
    "knn_metrics[\"runtime\"] = strftime(\"%M min %S secs\",gmtime(ceil(np.mean(knn_results[\"fit_time\"]))))\n",
    "DT_metrics[\"runtime\"] = strftime(\"%M min %S secs\",gmtime(ceil(np.mean(DT_results[\"fit_time\"]))))\n",
    "nb_metrics[\"runtime\"] = strftime(\"%M min %S secs\",gmtime(ceil(np.mean(nb_results[\"fit_time\"]))))\n",
    "et_metrics[\"runtime\"] = strftime(\"%M min %S secs\",gmtime(ceil(np.mean(et_results[\"fit_time\"]))))"
   ]
  },
  {
   "cell_type": "code",
   "execution_count": 23,
   "metadata": {},
   "outputs": [],
   "source": [
    "# Calaculating the accuracy of the 5 models\n",
    "MLP_metrics[\"accuracy\"] = round(mlp_model.score(X_test,y_test),4)\n",
    "knn_metrics[\"accuracy\"] = round(knn_model.score(X_test,y_test),4)\n",
    "DT_metrics[\"accuracy\"] = round(dt_model.score(X_test,y_test),4)\n",
    "nb_metrics[\"accuracy\"] = round(nb_model.score(X_test,y_test),4)\n",
    "et_metrics[\"accuracy\"] = round(et_model.score(X_test,y_test),4)"
   ]
  },
  {
   "cell_type": "markdown",
   "metadata": {},
   "source": [
    "### ROC curves"
   ]
  },
  {
   "cell_type": "code",
   "execution_count": 24,
   "metadata": {},
   "outputs": [],
   "source": [
    "from sklearn.metrics import RocCurveDisplay,roc_curve,roc_auc_score"
   ]
  },
  {
   "cell_type": "code",
   "execution_count": 25,
   "metadata": {},
   "outputs": [],
   "source": [
    "# Function to plot roc and calculate area under roc\n",
    "def AUC_ROC(estimator,test_data,test_target):\n",
    "    \"\"\"\n",
    "    Input: estimator - the model\n",
    "           test_data - test dataset features\n",
    "           test_target - test dataset target\n",
    "           \n",
    "    Output: fpr - False positive rate\n",
    "            tpr - True positive rate\n",
    "            auc - area under roc\n",
    "    \n",
    "    \"\"\"\n",
    "    y_pred = estimator.predict_proba(test_data)[:,1]\n",
    "    fpr,tpr,_= roc_curve(test_target,y_pred,pos_label=1)\n",
    "    auc = roc_auc_score(test_target,y_pred)\n",
    "    \n",
    "    # Plotting the figure\n",
    "    fig= plt.figure(figsize=(7,5))\n",
    "    axes=fig.add_axes([1,1,1,1])\n",
    "    RocCurveDisplay(fpr=fpr,tpr=tpr).plot(ax = axes,lw = 2)\n",
    "    axes.set_title(\"ROC curve \")\n",
    "    plt.show()\n",
    "    \n",
    "    return fpr,tpr,auc"
   ]
  },
  {
   "cell_type": "code",
   "execution_count": 26,
   "metadata": {},
   "outputs": [
    {
     "data": {
      "image/png": "[encoded data removed]",
      "text/plain": [
       "<Figure size 504x360 with 1 Axes>"
      ]
     },
     "metadata": {
      "needs_background": "light"
     },
     "output_type": "display_data"
    }
   ],
   "source": [
    "# Plotting ROC and calculating area under roc for Multi Layer preceptron\n",
    "MLP_fpr,MLP_tpr,MLP_auc= AUC_ROC(mlp_model,X_test,y_test)\n",
    "MLP_metrics[\"AUC\"] = round(MLP_auc,4)"
   ]
  },
  {
   "cell_type": "code",
   "execution_count": 27,
   "metadata": {},
   "outputs": [
    {
     "data": {
      "image/png": "[encoded data removed]",
      "text/plain": [
       "<Figure size 504x360 with 1 Axes>"
      ]
     },
     "metadata": {
      "needs_background": "light"
     },
     "output_type": "display_data"
    }
   ],
   "source": [
    "# Plotting ROC and calculating area under roc for K nearest neighbors\n",
    "knn_fpr,knn_tpr,knn_auc= AUC_ROC(knn_model,X_test,y_test)\n",
    "knn_metrics[\"AUC\"] = round(knn_auc,4)"
   ]
  },
  {
   "cell_type": "code",
   "execution_count": 28,
   "metadata": {},
   "outputs": [
    {
     "data": {
      "image/png": "[encoded data removed]",
      "text/plain": [
       "<Figure size 504x360 with 1 Axes>"
      ]
     },
     "metadata": {
      "needs_background": "light"
     },
     "output_type": "display_data"
    }
   ],
   "source": [
    "# Plotting ROC and calculating area under roc for Decision tress classifier\n",
    "dt_fpr,dt_tpr,dt_auc= AUC_ROC(dt_model,X_test,y_test)\n",
    "DT_metrics[\"AUC\"] = round(dt_auc,4)"
   ]
  },
  {
   "cell_type": "code",
   "execution_count": 29,
   "metadata": {},
   "outputs": [
    {
     "data": {
      "image/png": "[encoded data removed]",
      "text/plain": [
       "<Figure size 504x360 with 1 Axes>"
      ]
     },
     "metadata": {
      "needs_background": "light"
     },
     "output_type": "display_data"
    }
   ],
   "source": [
    "# Plotting ROC and calculating area under roc for Navies bayesian classifier\n",
    "nb_fpr,nb_tpr,nb_auc= AUC_ROC(nb_model,X_test,y_test)\n",
    "nb_metrics[\"AUC\"] = round(nb_auc,4)"
   ]
  },
  {
   "cell_type": "code",
   "execution_count": 30,
   "metadata": {
    "scrolled": false
   },
   "outputs": [
    {
     "data": {
      "image/png": "[encoded data removed]",
      "text/plain": [
       "<Figure size 504x360 with 1 Axes>"
      ]
     },
     "metadata": {
      "needs_background": "light"
     },
     "output_type": "display_data"
    }
   ],
   "source": [
    "# Plotting ROC and calculating area under roc for Extreme learning trees\n",
    "et_fpr,et_tpr,et_auc= AUC_ROC(et_model,X_test,y_test)\n",
    "et_metrics[\"AUC\"] = round(et_auc,4)"
   ]
  },
  {
   "cell_type": "code",
   "execution_count": 31,
   "metadata": {},
   "outputs": [
    {
     "data": {
      "text/html": [
       "<div>\n",
       "<style scoped>\n",
       "    .dataframe tbody tr th:only-of-type {\n",
       "        vertical-align: middle;\n",
       "    }\n",
       "\n",
       "    .dataframe tbody tr th {\n",
       "        vertical-align: top;\n",
       "    }\n",
       "\n",
       "    .dataframe thead th {\n",
       "        text-align: right;\n",
       "    }\n",
       "</style>\n",
       "<table border=\"1\" class=\"dataframe\">\n",
       "  <thead>\n",
       "    <tr style=\"text-align: right;\">\n",
       "      <th></th>\n",
       "      <th>MLP</th>\n",
       "      <th>KNN</th>\n",
       "      <th>DT</th>\n",
       "      <th>NB</th>\n",
       "      <th>ELT</th>\n",
       "    </tr>\n",
       "  </thead>\n",
       "  <tbody>\n",
       "    <tr>\n",
       "      <th>f1_score</th>\n",
       "      <td>0.5421</td>\n",
       "      <td>0.4958</td>\n",
       "      <td>0.5707</td>\n",
       "      <td>0.6337</td>\n",
       "      <td>0.5614</td>\n",
       "    </tr>\n",
       "    <tr>\n",
       "      <th>Recall</th>\n",
       "      <td>0.539</td>\n",
       "      <td>0.4244</td>\n",
       "      <td>0.5663</td>\n",
       "      <td>0.9997</td>\n",
       "      <td>0.5111</td>\n",
       "    </tr>\n",
       "    <tr>\n",
       "      <th>Specificity</th>\n",
       "      <td>0.6112</td>\n",
       "      <td>0.7514</td>\n",
       "      <td>0.6383</td>\n",
       "      <td>0.0007</td>\n",
       "      <td>0.732</td>\n",
       "    </tr>\n",
       "    <tr>\n",
       "      <th>runtime</th>\n",
       "      <td>08 min 54 secs</td>\n",
       "      <td>01 min 05 secs</td>\n",
       "      <td>00 min 02 secs</td>\n",
       "      <td>00 min 01 secs</td>\n",
       "      <td>00 min 21 secs</td>\n",
       "    </tr>\n",
       "    <tr>\n",
       "      <th>accuracy</th>\n",
       "      <td>0.5777</td>\n",
       "      <td>0.5997</td>\n",
       "      <td>0.6049</td>\n",
       "      <td>0.464</td>\n",
       "      <td>0.6295</td>\n",
       "    </tr>\n",
       "    <tr>\n",
       "      <th>AUC</th>\n",
       "      <td>0.6035</td>\n",
       "      <td>0.6317</td>\n",
       "      <td>0.622</td>\n",
       "      <td>0.6373</td>\n",
       "      <td>0.6802</td>\n",
       "    </tr>\n",
       "  </tbody>\n",
       "</table>\n",
       "</div>"
      ],
      "text/plain": [
       "                        MLP             KNN              DT              NB  \\\n",
       "f1_score             0.5421          0.4958          0.5707          0.6337   \n",
       "Recall                0.539          0.4244          0.5663          0.9997   \n",
       "Specificity          0.6112          0.7514          0.6383          0.0007   \n",
       "runtime      08 min 54 secs  01 min 05 secs  00 min 02 secs  00 min 01 secs   \n",
       "accuracy             0.5777          0.5997          0.6049           0.464   \n",
       "AUC                  0.6035          0.6317           0.622          0.6373   \n",
       "\n",
       "                        ELT  \n",
       "f1_score             0.5614  \n",
       "Recall               0.5111  \n",
       "Specificity           0.732  \n",
       "runtime      00 min 21 secs  \n",
       "accuracy             0.6295  \n",
       "AUC                  0.6802  "
      ]
     },
     "execution_count": 31,
     "metadata": {},
     "output_type": "execute_result"
    }
   ],
   "source": [
    "# Merging the metrics of the all the models\n",
    "evaluation_data=np.c_[list(MLP_metrics.values()),\n",
    "                    list(knn_metrics.values()),\n",
    "                    list(DT_metrics.values()),\n",
    "                    list(nb_metrics.values()),\n",
    "                    list(et_metrics.values())]\n",
    "\n",
    "# Defining the index and columns of the dataset\n",
    "models=[\"MLP\",\"KNN\",'DT',\"NB\",\"ELT\"]\n",
    "metric = MLP_metrics.keys()\n",
    "\n",
    "# Creating the metric table\n",
    "metrics_table = pd.DataFrame(evaluation_data,columns=models,index = metric)\n",
    "metrics_table"
   ]
  },
  {
   "cell_type": "code",
   "execution_count": 32,
   "metadata": {
    "scrolled": false
   },
   "outputs": [
    {
     "data": {
      "image/png": "[encoded data removed]",
      "text/plain": [
       "<Figure size 504x360 with 1 Axes>"
      ]
     },
     "metadata": {
      "needs_background": "light"
     },
     "output_type": "display_data"
    }
   ],
   "source": [
    "# Plotting ROC  curves of all the models to contrast each other\n",
    "fig= plt.figure(figsize=(7,5))\n",
    "axes=fig.add_axes([1,1,1,1])\n",
    "RocCurveDisplay(fpr=MLP_fpr,tpr=MLP_tpr).plot(ax = axes,label = 'ROC for MLP',lw = 2)\n",
    "RocCurveDisplay(fpr=knn_fpr,tpr=knn_tpr).plot(ax = axes,label = 'ROC for Knn',lw = 2)\n",
    "RocCurveDisplay(fpr=dt_fpr,tpr=dt_tpr).plot(ax = axes,label = 'ROC for SVM',lw = 2)\n",
    "RocCurveDisplay(fpr=nb_fpr,tpr=nb_tpr).plot(ax = axes,label = 'ROC for NB',lw = 2)\n",
    "RocCurveDisplay(fpr=et_fpr,tpr=et_tpr).plot(ax = axes,label = 'ROC for Extreme learning Trees',lw = 2)\n",
    "axes.set_title(\"ROC curves for different models\\n\",)\n",
    "plt.show()"
   ]
  },
  {
   "cell_type": "markdown",
   "metadata": {},
   "source": [
    "### Statistical Analysis"
   ]
  },
  {
   "cell_type": "code",
   "execution_count": 33,
   "metadata": {},
   "outputs": [
    {
     "data": {
      "text/html": [
       "<style  type=\"text/css\" >\n",
       "#T_bc005412_4115_11eb_9ae5_0021cc689668row9_col0,#T_bc005412_4115_11eb_9ae5_0021cc689668row9_col1,#T_bc005412_4115_11eb_9ae5_0021cc689668row9_col2,#T_bc005412_4115_11eb_9ae5_0021cc689668row9_col3,#T_bc005412_4115_11eb_9ae5_0021cc689668row9_col4{\n",
       "            border-bottom:  solid;\n",
       "            border-width:  2px;\n",
       "        }</style><table id=\"T_bc005412_4115_11eb_9ae5_0021cc689668\" ><thead>    <tr>        <th class=\"index_name level0\" >Algorithm</th>        <th class=\"col_heading level0 col0\" >MLP</th>        <th class=\"col_heading level0 col1\" >KNN</th>        <th class=\"col_heading level0 col2\" >DT</th>        <th class=\"col_heading level0 col3\" >NB</th>        <th class=\"col_heading level0 col4\" >ELT</th>    </tr>    <tr>        <th class=\"index_name level0\" >Folds</th>        <th class=\"blank\" ></th>        <th class=\"blank\" ></th>        <th class=\"blank\" ></th>        <th class=\"blank\" ></th>        <th class=\"blank\" ></th>    </tr></thead><tbody>\n",
       "                <tr>\n",
       "                        <th id=\"T_bc005412_4115_11eb_9ae5_0021cc689668level0_row0\" class=\"row_heading level0 row0\" >1</th>\n",
       "                        <td id=\"T_bc005412_4115_11eb_9ae5_0021cc689668row0_col0\" class=\"data row0 col0\" >0.601336</td>\n",
       "                        <td id=\"T_bc005412_4115_11eb_9ae5_0021cc689668row0_col1\" class=\"data row0 col1\" >0.603301</td>\n",
       "                        <td id=\"T_bc005412_4115_11eb_9ae5_0021cc689668row0_col2\" class=\"data row0 col2\" >0.609459</td>\n",
       "                        <td id=\"T_bc005412_4115_11eb_9ae5_0021cc689668row0_col3\" class=\"data row0 col3\" >0.459976</td>\n",
       "                        <td id=\"T_bc005412_4115_11eb_9ae5_0021cc689668row0_col4\" class=\"data row0 col4\" >0.638019</td>\n",
       "            </tr>\n",
       "            <tr>\n",
       "                        <th id=\"T_bc005412_4115_11eb_9ae5_0021cc689668level0_row1\" class=\"row_heading level0 row1\" >2</th>\n",
       "                        <td id=\"T_bc005412_4115_11eb_9ae5_0021cc689668row1_col0\" class=\"data row1 col0\" >0.592297</td>\n",
       "                        <td id=\"T_bc005412_4115_11eb_9ae5_0021cc689668row1_col1\" class=\"data row1 col1\" >0.602122</td>\n",
       "                        <td id=\"T_bc005412_4115_11eb_9ae5_0021cc689668row1_col2\" class=\"data row1 col2\" >0.609983</td>\n",
       "                        <td id=\"T_bc005412_4115_11eb_9ae5_0021cc689668row1_col3\" class=\"data row1 col3\" >0.460107</td>\n",
       "                        <td id=\"T_bc005412_4115_11eb_9ae5_0021cc689668row1_col4\" class=\"data row1 col4\" >0.640115</td>\n",
       "            </tr>\n",
       "            <tr>\n",
       "                        <th id=\"T_bc005412_4115_11eb_9ae5_0021cc689668level0_row2\" class=\"row_heading level0 row2\" >3</th>\n",
       "                        <td id=\"T_bc005412_4115_11eb_9ae5_0021cc689668row2_col0\" class=\"data row2 col0\" >0.579196</td>\n",
       "                        <td id=\"T_bc005412_4115_11eb_9ae5_0021cc689668row2_col1\" class=\"data row2 col1\" >0.592297</td>\n",
       "                        <td id=\"T_bc005412_4115_11eb_9ae5_0021cc689668row2_col2\" class=\"data row2 col2\" >0.597537</td>\n",
       "                        <td id=\"T_bc005412_4115_11eb_9ae5_0021cc689668row2_col3\" class=\"data row2 col3\" >0.583519</td>\n",
       "                        <td id=\"T_bc005412_4115_11eb_9ae5_0021cc689668row2_col4\" class=\"data row2 col4\" >0.633434</td>\n",
       "            </tr>\n",
       "            <tr>\n",
       "                        <th id=\"T_bc005412_4115_11eb_9ae5_0021cc689668level0_row3\" class=\"row_heading level0 row3\" >4</th>\n",
       "                        <td id=\"T_bc005412_4115_11eb_9ae5_0021cc689668row3_col0\" class=\"data row3 col0\" >0.596882</td>\n",
       "                        <td id=\"T_bc005412_4115_11eb_9ae5_0021cc689668row3_col1\" class=\"data row3 col1\" >0.602777</td>\n",
       "                        <td id=\"T_bc005412_4115_11eb_9ae5_0021cc689668row3_col2\" class=\"data row3 col2\" >0.613127</td>\n",
       "                        <td id=\"T_bc005412_4115_11eb_9ae5_0021cc689668row3_col3\" class=\"data row3 col3\" >0.460238</td>\n",
       "                        <td id=\"T_bc005412_4115_11eb_9ae5_0021cc689668row3_col4\" class=\"data row3 col4\" >0.637757</td>\n",
       "            </tr>\n",
       "            <tr>\n",
       "                        <th id=\"T_bc005412_4115_11eb_9ae5_0021cc689668level0_row4\" class=\"row_heading level0 row4\" >5</th>\n",
       "                        <td id=\"T_bc005412_4115_11eb_9ae5_0021cc689668row4_col0\" class=\"data row4 col0\" >0.589623</td>\n",
       "                        <td id=\"T_bc005412_4115_11eb_9ae5_0021cc689668row4_col1\" class=\"data row4 col1\" >0.597615</td>\n",
       "                        <td id=\"T_bc005412_4115_11eb_9ae5_0021cc689668row4_col2\" class=\"data row4 col2\" >0.610980</td>\n",
       "                        <td id=\"T_bc005412_4115_11eb_9ae5_0021cc689668row4_col3\" class=\"data row4 col3\" >0.460430</td>\n",
       "                        <td id=\"T_bc005412_4115_11eb_9ae5_0021cc689668row4_col4\" class=\"data row4 col4\" >0.642820</td>\n",
       "            </tr>\n",
       "            <tr>\n",
       "                        <th id=\"T_bc005412_4115_11eb_9ae5_0021cc689668level0_row5\" class=\"row_heading level0 row5\" >6</th>\n",
       "                        <td id=\"T_bc005412_4115_11eb_9ae5_0021cc689668row5_col0\" class=\"data row5 col0\" >0.599319</td>\n",
       "                        <td id=\"T_bc005412_4115_11eb_9ae5_0021cc689668row5_col1\" class=\"data row5 col1\" >0.602332</td>\n",
       "                        <td id=\"T_bc005412_4115_11eb_9ae5_0021cc689668row5_col2\" class=\"data row5 col2\" >0.614256</td>\n",
       "                        <td id=\"T_bc005412_4115_11eb_9ae5_0021cc689668row5_col3\" class=\"data row5 col3\" >0.460037</td>\n",
       "                        <td id=\"T_bc005412_4115_11eb_9ae5_0021cc689668row5_col4\" class=\"data row5 col4\" >0.642427</td>\n",
       "            </tr>\n",
       "            <tr>\n",
       "                        <th id=\"T_bc005412_4115_11eb_9ae5_0021cc689668level0_row6\" class=\"row_heading level0 row6\" >7</th>\n",
       "                        <td id=\"T_bc005412_4115_11eb_9ae5_0021cc689668row6_col0\" class=\"data row6 col0\" >0.587526</td>\n",
       "                        <td id=\"T_bc005412_4115_11eb_9ae5_0021cc689668row6_col1\" class=\"data row6 col1\" >0.592374</td>\n",
       "                        <td id=\"T_bc005412_4115_11eb_9ae5_0021cc689668row6_col2\" class=\"data row6 col2\" >0.601808</td>\n",
       "                        <td id=\"T_bc005412_4115_11eb_9ae5_0021cc689668row6_col3\" class=\"data row6 col3\" >0.583333</td>\n",
       "                        <td id=\"T_bc005412_4115_11eb_9ae5_0021cc689668row6_col4\" class=\"data row6 col4\" >0.629062</td>\n",
       "            </tr>\n",
       "            <tr>\n",
       "                        <th id=\"T_bc005412_4115_11eb_9ae5_0021cc689668level0_row7\" class=\"row_heading level0 row7\" >8</th>\n",
       "                        <td id=\"T_bc005412_4115_11eb_9ae5_0021cc689668row7_col0\" class=\"data row7 col0\" >0.588181</td>\n",
       "                        <td id=\"T_bc005412_4115_11eb_9ae5_0021cc689668row7_col1\" class=\"data row7 col1\" >0.604036</td>\n",
       "                        <td id=\"T_bc005412_4115_11eb_9ae5_0021cc689668row7_col2\" class=\"data row7 col2\" >0.609932</td>\n",
       "                        <td id=\"T_bc005412_4115_11eb_9ae5_0021cc689668row7_col3\" class=\"data row7 col3\" >0.585430</td>\n",
       "                        <td id=\"T_bc005412_4115_11eb_9ae5_0021cc689668row7_col4\" class=\"data row7 col4\" >0.643999</td>\n",
       "            </tr>\n",
       "            <tr>\n",
       "                        <th id=\"T_bc005412_4115_11eb_9ae5_0021cc689668level0_row8\" class=\"row_heading level0 row8\" >9</th>\n",
       "                        <td id=\"T_bc005412_4115_11eb_9ae5_0021cc689668row8_col0\" class=\"data row8 col0\" >0.589230</td>\n",
       "                        <td id=\"T_bc005412_4115_11eb_9ae5_0021cc689668row8_col1\" class=\"data row8 col1\" >0.600629</td>\n",
       "                        <td id=\"T_bc005412_4115_11eb_9ae5_0021cc689668row8_col2\" class=\"data row8 col2\" >0.615959</td>\n",
       "                        <td id=\"T_bc005412_4115_11eb_9ae5_0021cc689668row8_col3\" class=\"data row8 col3\" >0.460037</td>\n",
       "                        <td id=\"T_bc005412_4115_11eb_9ae5_0021cc689668row8_col4\" class=\"data row8 col4\" >0.643606</td>\n",
       "            </tr>\n",
       "            <tr>\n",
       "                        <th id=\"T_bc005412_4115_11eb_9ae5_0021cc689668level0_row9\" class=\"row_heading level0 row9\" >10</th>\n",
       "                        <td id=\"T_bc005412_4115_11eb_9ae5_0021cc689668row9_col0\" class=\"data row9 col0\" >0.578747</td>\n",
       "                        <td id=\"T_bc005412_4115_11eb_9ae5_0021cc689668row9_col1\" class=\"data row9 col1\" >0.596960</td>\n",
       "                        <td id=\"T_bc005412_4115_11eb_9ae5_0021cc689668row9_col2\" class=\"data row9 col2\" >0.613732</td>\n",
       "                        <td id=\"T_bc005412_4115_11eb_9ae5_0021cc689668row9_col3\" class=\"data row9 col3\" >0.459906</td>\n",
       "                        <td id=\"T_bc005412_4115_11eb_9ae5_0021cc689668row9_col4\" class=\"data row9 col4\" >0.637841</td>\n",
       "            </tr>\n",
       "            <tr>\n",
       "                        <th id=\"T_bc005412_4115_11eb_9ae5_0021cc689668level0_row10\" class=\"row_heading level0 row10\" >Average Accuracy(mean)</th>\n",
       "                        <td id=\"T_bc005412_4115_11eb_9ae5_0021cc689668row10_col0\" class=\"data row10 col0\" >0.590234</td>\n",
       "                        <td id=\"T_bc005412_4115_11eb_9ae5_0021cc689668row10_col1\" class=\"data row10 col1\" >0.599444</td>\n",
       "                        <td id=\"T_bc005412_4115_11eb_9ae5_0021cc689668row10_col2\" class=\"data row10 col2\" >0.609677</td>\n",
       "                        <td id=\"T_bc005412_4115_11eb_9ae5_0021cc689668row10_col3\" class=\"data row10 col3\" >0.497301</td>\n",
       "                        <td id=\"T_bc005412_4115_11eb_9ae5_0021cc689668row10_col4\" class=\"data row10 col4\" >0.638908</td>\n",
       "            </tr>\n",
       "            <tr>\n",
       "                        <th id=\"T_bc005412_4115_11eb_9ae5_0021cc689668level0_row11\" class=\"row_heading level0 row11\" >Standard deviation</th>\n",
       "                        <td id=\"T_bc005412_4115_11eb_9ae5_0021cc689668row11_col0\" class=\"data row11 col0\" >0.007218</td>\n",
       "                        <td id=\"T_bc005412_4115_11eb_9ae5_0021cc689668row11_col1\" class=\"data row11 col1\" >0.004178</td>\n",
       "                        <td id=\"T_bc005412_4115_11eb_9ae5_0021cc689668row11_col2\" class=\"data row11 col2\" >0.005477</td>\n",
       "                        <td id=\"T_bc005412_4115_11eb_9ae5_0021cc689668row11_col3\" class=\"data row11 col3\" >0.056822</td>\n",
       "                        <td id=\"T_bc005412_4115_11eb_9ae5_0021cc689668row11_col4\" class=\"data row11 col4\" >0.004553</td>\n",
       "            </tr>\n",
       "    </tbody></table>"
      ],
      "text/plain": [
       "<pandas.io.formats.style.Styler at 0x1e1007be5c8>"
      ]
     },
     "execution_count": 33,
     "metadata": {},
     "output_type": "execute_result"
    }
   ],
   "source": [
    "# Merging the test scores from cross validation into one array\n",
    "Kflod_scores = np.c_[MLP_results[\"test_score\"],\n",
    "        knn_results[\"test_score\"],\n",
    "        DT_results[\"test_score\"],\n",
    "        nb_results[\"test_score\"],\n",
    "        et_results[\"test_score\"]]\n",
    "\n",
    "# Calculating the mean and standard deviation and merging it\n",
    "Kflod_scores_final = np.r_[Kflod_scores,\n",
    "                     np.mean(Kflod_scores,axis=0).reshape((1,5)),\n",
    "                     np.std(Kflod_scores,axis=0).reshape((1,5))]\n",
    "\n",
    "# Declaring Columns and index\n",
    "models=[\"MLP\",\"KNN\",'DT',\"NB\",\"ELT\"]\n",
    "fold_index = [*range(1,11),\"Average Accuracy(mean)\",\"Standard deviation\"]\n",
    "\n",
    "# Creating a table using all the results\n",
    "K_fold_table = pd.DataFrame(Kflod_scores_final,columns=models,index = fold_index)\n",
    "K_fold_table.index.set_names(\"Folds\",inplace= True)\n",
    "K_fold_table.columns.set_names(\"Algorithm\",inplace= True)\n",
    "\n",
    "# Displaying the table\n",
    "K_fold_table.style.set_properties(**{\"text-align\" : \"center\"})\n",
    "K_fold_table.style.set_properties(pd.IndexSlice[10],**{\"border-bottom\" : \"solid\",\"border-width\": \"2px\"})"
   ]
  },
  {
   "cell_type": "code",
   "execution_count": 34,
   "metadata": {},
   "outputs": [],
   "source": [
    "from scipy.stats import ttest_rel\n",
    "\n",
    "def calculate_p_values(data):\n",
    "    '''\n",
    "    Input:\n",
    "        data: \n",
    "            Data obtained from crossvalidation fro the models in consideration\n",
    "    Output:\n",
    "        p_values: \n",
    "            The p_values obtained when performing paired t-test on the models in consideration\n",
    "        differences: \n",
    "            The Dataframe show results of the paired t-test and comparisions\n",
    "    \n",
    "    Function to perform t_test and calculate p-value \n",
    "    '''\n",
    "    # Declaring Necessary variables\n",
    "    p_values = list()\n",
    "    mem = list()\n",
    "    differences = list()\n",
    "    models = list()\n",
    "    \n",
    "    # Performing t-test on all the models\n",
    "    for i in range(data.shape[1]-1):\n",
    "        for j in range(data.shape[1]):\n",
    "            if i!=j:\n",
    "                if ((j,i) not in mem):\n",
    "                    \n",
    "                    # Performing t-test on odel a and b\n",
    "                    a,b =data.iloc[:,i],data.iloc[:,j]\n",
    "                    _,p_value = ttest_rel(a,b)\n",
    "                    \n",
    "                    differences.append(np.array(a-b)) # appending difference between accuracy of model a and b in the ten folds\n",
    "                    p_values.append(p_value) # appending p_value from the t-test\n",
    "                    mem.append((i,j)) # appending the combination compared avoid repetition\n",
    "                    models.append(data.iloc[:,i].name+\"-\"+data.iloc[:,j].name) # appeding names for columns\n",
    "    \n",
    "    # Merges the Data collected and Statistics on the data\n",
    "    differences = np.c_[differences].T\n",
    "    differences = np.r_[differences,\n",
    "                        np.mean(differences,axis=0).reshape((1,differences.shape[1])),\n",
    "                        np.std(differences,axis=0).reshape((1,differences.shape[1])),\n",
    "                        np.array(p_values).reshape((1,differences.shape[1]))]\n",
    "    # Creating Dataframe\n",
    "    index = [*range(1,11),\"Average Accuracy(mean)\",\"Standard Deviation\",\"p-value\"]\n",
    "    differences = pd.DataFrame(differences,index=index,columns=models)\n",
    "    differences.index.set_names(\"Fold\",inplace=True)\n",
    "    differences.columns.set_names(\"Accuracy Difference\",inplace=True)\n",
    "    \n",
    "    \n",
    "    return p_values,differences\n",
    "# Calculating p_values and creating the table required\n",
    "p_values,statistics= calculate_p_values(K_fold_table.iloc[:10,:])"
   ]
  },
  {
   "cell_type": "code",
   "execution_count": 35,
   "metadata": {},
   "outputs": [
    {
     "data": {
      "text/html": [
       "<div>\n",
       "<style scoped>\n",
       "    .dataframe tbody tr th:only-of-type {\n",
       "        vertical-align: middle;\n",
       "    }\n",
       "\n",
       "    .dataframe tbody tr th {\n",
       "        vertical-align: top;\n",
       "    }\n",
       "\n",
       "    .dataframe thead th {\n",
       "        text-align: right;\n",
       "    }\n",
       "</style>\n",
       "<table border=\"1\" class=\"dataframe\">\n",
       "  <thead>\n",
       "    <tr style=\"text-align: right;\">\n",
       "      <th>Accuracy Difference</th>\n",
       "      <th>MLP-KNN</th>\n",
       "      <th>MLP-DT</th>\n",
       "      <th>MLP-NB</th>\n",
       "      <th>MLP-ELT</th>\n",
       "      <th>KNN-DT</th>\n",
       "      <th>KNN-NB</th>\n",
       "      <th>KNN-ELT</th>\n",
       "      <th>DT-NB</th>\n",
       "      <th>DT-ELT</th>\n",
       "      <th>NB-ELT</th>\n",
       "    </tr>\n",
       "    <tr>\n",
       "      <th>Fold</th>\n",
       "      <th></th>\n",
       "      <th></th>\n",
       "      <th></th>\n",
       "      <th></th>\n",
       "      <th></th>\n",
       "      <th></th>\n",
       "      <th></th>\n",
       "      <th></th>\n",
       "      <th></th>\n",
       "      <th></th>\n",
       "    </tr>\n",
       "  </thead>\n",
       "  <tbody>\n",
       "    <tr>\n",
       "      <th>1</th>\n",
       "      <td>-0.001965</td>\n",
       "      <td>-0.008123</td>\n",
       "      <td>0.141360</td>\n",
       "      <td>-3.668282e-02</td>\n",
       "      <td>-0.006157</td>\n",
       "      <td>0.143325</td>\n",
       "      <td>-3.471767e-02</td>\n",
       "      <td>0.149483</td>\n",
       "      <td>-2.856020e-02</td>\n",
       "      <td>-0.178043</td>\n",
       "    </tr>\n",
       "    <tr>\n",
       "      <th>2</th>\n",
       "      <td>-0.009826</td>\n",
       "      <td>-0.017686</td>\n",
       "      <td>0.132189</td>\n",
       "      <td>-4.781868e-02</td>\n",
       "      <td>-0.007861</td>\n",
       "      <td>0.142015</td>\n",
       "      <td>-3.799293e-02</td>\n",
       "      <td>0.149876</td>\n",
       "      <td>-3.013232e-02</td>\n",
       "      <td>-0.180008</td>\n",
       "    </tr>\n",
       "    <tr>\n",
       "      <th>3</th>\n",
       "      <td>-0.013101</td>\n",
       "      <td>-0.018341</td>\n",
       "      <td>-0.004323</td>\n",
       "      <td>-5.423818e-02</td>\n",
       "      <td>-0.005240</td>\n",
       "      <td>0.008778</td>\n",
       "      <td>-4.113717e-02</td>\n",
       "      <td>0.014018</td>\n",
       "      <td>-3.589676e-02</td>\n",
       "      <td>-0.049915</td>\n",
       "    </tr>\n",
       "    <tr>\n",
       "      <th>4</th>\n",
       "      <td>-0.005895</td>\n",
       "      <td>-0.016245</td>\n",
       "      <td>0.136644</td>\n",
       "      <td>-4.087515e-02</td>\n",
       "      <td>-0.010350</td>\n",
       "      <td>0.142539</td>\n",
       "      <td>-3.497969e-02</td>\n",
       "      <td>0.152889</td>\n",
       "      <td>-2.462990e-02</td>\n",
       "      <td>-0.177519</td>\n",
       "    </tr>\n",
       "    <tr>\n",
       "      <th>5</th>\n",
       "      <td>-0.007993</td>\n",
       "      <td>-0.021357</td>\n",
       "      <td>0.129193</td>\n",
       "      <td>-5.319706e-02</td>\n",
       "      <td>-0.013365</td>\n",
       "      <td>0.137186</td>\n",
       "      <td>-4.520440e-02</td>\n",
       "      <td>0.150550</td>\n",
       "      <td>-3.183962e-02</td>\n",
       "      <td>-0.182390</td>\n",
       "    </tr>\n",
       "    <tr>\n",
       "      <th>6</th>\n",
       "      <td>-0.003014</td>\n",
       "      <td>-0.014937</td>\n",
       "      <td>0.139282</td>\n",
       "      <td>-4.310797e-02</td>\n",
       "      <td>-0.011923</td>\n",
       "      <td>0.142296</td>\n",
       "      <td>-4.009434e-02</td>\n",
       "      <td>0.154219</td>\n",
       "      <td>-2.817086e-02</td>\n",
       "      <td>-0.182390</td>\n",
       "    </tr>\n",
       "    <tr>\n",
       "      <th>7</th>\n",
       "      <td>-0.004848</td>\n",
       "      <td>-0.014282</td>\n",
       "      <td>0.004193</td>\n",
       "      <td>-4.153564e-02</td>\n",
       "      <td>-0.009434</td>\n",
       "      <td>0.009041</td>\n",
       "      <td>-3.668763e-02</td>\n",
       "      <td>0.018475</td>\n",
       "      <td>-2.725367e-02</td>\n",
       "      <td>-0.045729</td>\n",
       "    </tr>\n",
       "    <tr>\n",
       "      <th>8</th>\n",
       "      <td>-0.015854</td>\n",
       "      <td>-0.021751</td>\n",
       "      <td>0.002752</td>\n",
       "      <td>-5.581761e-02</td>\n",
       "      <td>-0.005896</td>\n",
       "      <td>0.018606</td>\n",
       "      <td>-3.996331e-02</td>\n",
       "      <td>0.024502</td>\n",
       "      <td>-3.406709e-02</td>\n",
       "      <td>-0.058569</td>\n",
       "    </tr>\n",
       "    <tr>\n",
       "      <th>9</th>\n",
       "      <td>-0.011399</td>\n",
       "      <td>-0.026730</td>\n",
       "      <td>0.129193</td>\n",
       "      <td>-5.437631e-02</td>\n",
       "      <td>-0.015330</td>\n",
       "      <td>0.140592</td>\n",
       "      <td>-4.297694e-02</td>\n",
       "      <td>0.155922</td>\n",
       "      <td>-2.764675e-02</td>\n",
       "      <td>-0.183569</td>\n",
       "    </tr>\n",
       "    <tr>\n",
       "      <th>10</th>\n",
       "      <td>-0.018213</td>\n",
       "      <td>-0.034984</td>\n",
       "      <td>0.118842</td>\n",
       "      <td>-5.909329e-02</td>\n",
       "      <td>-0.016771</td>\n",
       "      <td>0.137055</td>\n",
       "      <td>-4.088050e-02</td>\n",
       "      <td>0.153826</td>\n",
       "      <td>-2.410901e-02</td>\n",
       "      <td>-0.177935</td>\n",
       "    </tr>\n",
       "    <tr>\n",
       "      <th>Average Accuracy(mean)</th>\n",
       "      <td>-0.009211</td>\n",
       "      <td>-0.019444</td>\n",
       "      <td>0.092932</td>\n",
       "      <td>-4.867427e-02</td>\n",
       "      <td>-0.010233</td>\n",
       "      <td>0.102143</td>\n",
       "      <td>-3.946346e-02</td>\n",
       "      <td>0.112376</td>\n",
       "      <td>-2.923062e-02</td>\n",
       "      <td>-0.141607</td>\n",
       "    </tr>\n",
       "    <tr>\n",
       "      <th>Standard Deviation</th>\n",
       "      <td>0.005176</td>\n",
       "      <td>0.007023</td>\n",
       "      <td>0.060591</td>\n",
       "      <td>7.285645e-03</td>\n",
       "      <td>0.003847</td>\n",
       "      <td>0.059007</td>\n",
       "      <td>3.213324e-03</td>\n",
       "      <td>0.061205</td>\n",
       "      <td>3.617124e-03</td>\n",
       "      <td>0.059156</td>\n",
       "    </tr>\n",
       "    <tr>\n",
       "      <th>p-value</th>\n",
       "      <td>0.000469</td>\n",
       "      <td>0.000016</td>\n",
       "      <td>0.001288</td>\n",
       "      <td>8.910955e-09</td>\n",
       "      <td>0.000023</td>\n",
       "      <td>0.000569</td>\n",
       "      <td>3.961615e-11</td>\n",
       "      <td>0.000376</td>\n",
       "      <td>1.653888e-09</td>\n",
       "      <td>0.000052</td>\n",
       "    </tr>\n",
       "  </tbody>\n",
       "</table>\n",
       "</div>"
      ],
      "text/plain": [
       "Accuracy Difference      MLP-KNN    MLP-DT    MLP-NB       MLP-ELT    KNN-DT  \\\n",
       "Fold                                                                           \n",
       "1                      -0.001965 -0.008123  0.141360 -3.668282e-02 -0.006157   \n",
       "2                      -0.009826 -0.017686  0.132189 -4.781868e-02 -0.007861   \n",
       "3                      -0.013101 -0.018341 -0.004323 -5.423818e-02 -0.005240   \n",
       "4                      -0.005895 -0.016245  0.136644 -4.087515e-02 -0.010350   \n",
       "5                      -0.007993 -0.021357  0.129193 -5.319706e-02 -0.013365   \n",
       "6                      -0.003014 -0.014937  0.139282 -4.310797e-02 -0.011923   \n",
       "7                      -0.004848 -0.014282  0.004193 -4.153564e-02 -0.009434   \n",
       "8                      -0.015854 -0.021751  0.002752 -5.581761e-02 -0.005896   \n",
       "9                      -0.011399 -0.026730  0.129193 -5.437631e-02 -0.015330   \n",
       "10                     -0.018213 -0.034984  0.118842 -5.909329e-02 -0.016771   \n",
       "Average Accuracy(mean) -0.009211 -0.019444  0.092932 -4.867427e-02 -0.010233   \n",
       "Standard Deviation      0.005176  0.007023  0.060591  7.285645e-03  0.003847   \n",
       "p-value                 0.000469  0.000016  0.001288  8.910955e-09  0.000023   \n",
       "\n",
       "Accuracy Difference       KNN-NB       KNN-ELT     DT-NB        DT-ELT  \\\n",
       "Fold                                                                     \n",
       "1                       0.143325 -3.471767e-02  0.149483 -2.856020e-02   \n",
       "2                       0.142015 -3.799293e-02  0.149876 -3.013232e-02   \n",
       "3                       0.008778 -4.113717e-02  0.014018 -3.589676e-02   \n",
       "4                       0.142539 -3.497969e-02  0.152889 -2.462990e-02   \n",
       "5                       0.137186 -4.520440e-02  0.150550 -3.183962e-02   \n",
       "6                       0.142296 -4.009434e-02  0.154219 -2.817086e-02   \n",
       "7                       0.009041 -3.668763e-02  0.018475 -2.725367e-02   \n",
       "8                       0.018606 -3.996331e-02  0.024502 -3.406709e-02   \n",
       "9                       0.140592 -4.297694e-02  0.155922 -2.764675e-02   \n",
       "10                      0.137055 -4.088050e-02  0.153826 -2.410901e-02   \n",
       "Average Accuracy(mean)  0.102143 -3.946346e-02  0.112376 -2.923062e-02   \n",
       "Standard Deviation      0.059007  3.213324e-03  0.061205  3.617124e-03   \n",
       "p-value                 0.000569  3.961615e-11  0.000376  1.653888e-09   \n",
       "\n",
       "Accuracy Difference       NB-ELT  \n",
       "Fold                              \n",
       "1                      -0.178043  \n",
       "2                      -0.180008  \n",
       "3                      -0.049915  \n",
       "4                      -0.177519  \n",
       "5                      -0.182390  \n",
       "6                      -0.182390  \n",
       "7                      -0.045729  \n",
       "8                      -0.058569  \n",
       "9                      -0.183569  \n",
       "10                     -0.177935  \n",
       "Average Accuracy(mean) -0.141607  \n",
       "Standard Deviation      0.059156  \n",
       "p-value                 0.000052  "
      ]
     },
     "execution_count": 35,
     "metadata": {},
     "output_type": "execute_result"
    }
   ],
   "source": [
    "# Displaying statistics\n",
    "statistics"
   ]
  },
  {
   "cell_type": "code",
   "execution_count": 36,
   "metadata": {},
   "outputs": [
    {
     "name": "stdout",
     "output_type": "stream",
     "text": [
      "From the table it is clear that there is statistical significant difference between the following models:\n",
      "\n",
      "MLP and KNN\n",
      "MLP and DT\n",
      "MLP and NB\n",
      "MLP and ELT\n",
      "KNN and DT\n",
      "KNN and NB\n",
      "KNN and ELT\n",
      "DT and NB\n",
      "DT and ELT\n",
      "NB and ELT\n"
     ]
    }
   ],
   "source": [
    "# the pairs of models with statistical significant difference\n",
    "print(\"From the table it is clear that there is statistical significant difference between the following models:\\n\")\n",
    "\n",
    "for x,y in zip(statistics.columns.values,p_values):\n",
    "    if y < 0.005:\n",
    "        algo=x.split(\"-\")\n",
    "        print(\"{} and {}\".format(algo[0],algo[1]))"
   ]
  },
  {
   "cell_type": "markdown",
   "metadata": {},
   "source": [
    "## Task 2"
   ]
  },
  {
   "cell_type": "code",
   "execution_count": 37,
   "metadata": {},
   "outputs": [],
   "source": [
    "# Treating the insuling column as target variable\n",
    "a = medical_data.columns.get_loc(\"insulin\")\n",
    "\n",
    "X_2 = medical_data.iloc[:,:a].join(medical_data.iloc[:,a+1:])\n",
    "Y_2 = medical_data.iloc[:,a]"
   ]
  },
  {
   "cell_type": "code",
   "execution_count": 38,
   "metadata": {},
   "outputs": [],
   "source": [
    "# Filling in all the missing values remaining\n",
    "\n",
    "# Using simple imputer and filling in the most frequtn values inplace of nan\n",
    "from sklearn.impute import SimpleImputer\n",
    "imputer = SimpleImputer(strategy= \"most_frequent\")\n",
    "filled_X_2= imputer.fit_transform(X_2)\n",
    "\n",
    "# Assigning filled values\n",
    "X_2.iloc[:,:]=filled_X_2"
   ]
  },
  {
   "cell_type": "code",
   "execution_count": 39,
   "metadata": {},
   "outputs": [],
   "source": [
    "# Defining the columns to be ordinal encoded and columns with medicine status\n",
    "medicine_columns = X_2.iloc[:,20:-3].columns\n",
    "ordinal_columns = [\"patient_nbr\",\"race\",\"age\",\"diag_1\",\"diag_2\",\"diag_3\",\"max_glu_serum\",\"A1Cresult\",\"change\",\"diabetesMed\",\"readmitted\"]\n",
    "\n",
    "# Converting all the categorical variables to encoded numericals\n",
    "X_2 = cat_to_num(X_2,to_ordinal=ordinal_columns,medicines=medicine_columns)"
   ]
  },
  {
   "cell_type": "code",
   "execution_count": 40,
   "metadata": {},
   "outputs": [],
   "source": [
    "# Performing Data normalization\n",
    "from sklearn.preprocessing import StandardScaler\n",
    "\n",
    "normalizer = StandardScaler()\n",
    "\n",
    "X_2.iloc[:,:] = normalizer.fit_transform(X_2)"
   ]
  },
  {
   "cell_type": "code",
   "execution_count": 41,
   "metadata": {},
   "outputs": [
    {
     "data": {
      "text/html": [
       "<div>\n",
       "<style scoped>\n",
       "    .dataframe tbody tr th:only-of-type {\n",
       "        vertical-align: middle;\n",
       "    }\n",
       "\n",
       "    .dataframe tbody tr th {\n",
       "        vertical-align: top;\n",
       "    }\n",
       "\n",
       "    .dataframe thead th {\n",
       "        text-align: right;\n",
       "    }\n",
       "</style>\n",
       "<table border=\"1\" class=\"dataframe\">\n",
       "  <thead>\n",
       "    <tr style=\"text-align: right;\">\n",
       "      <th></th>\n",
       "      <th>patient_nbr</th>\n",
       "      <th>race</th>\n",
       "      <th>gender</th>\n",
       "      <th>age</th>\n",
       "      <th>admission_type_id</th>\n",
       "      <th>discharge_disposition_id</th>\n",
       "      <th>admission_source_id</th>\n",
       "      <th>time_in_hospital</th>\n",
       "      <th>num_lab_procedures</th>\n",
       "      <th>num_procedures</th>\n",
       "      <th>...</th>\n",
       "      <th>examide</th>\n",
       "      <th>citoglipton</th>\n",
       "      <th>glyburide-metformin</th>\n",
       "      <th>glipizide-metformin</th>\n",
       "      <th>glimepiride-pioglitazone</th>\n",
       "      <th>metformin-rosiglitazone</th>\n",
       "      <th>metformin-pioglitazone</th>\n",
       "      <th>change</th>\n",
       "      <th>diabetesMed</th>\n",
       "      <th>readmitted</th>\n",
       "    </tr>\n",
       "  </thead>\n",
       "  <tbody>\n",
       "    <tr>\n",
       "      <th>0</th>\n",
       "      <td>-1.222446</td>\n",
       "      <td>0.391474</td>\n",
       "      <td>-0.927438</td>\n",
       "      <td>-3.824600</td>\n",
       "      <td>2.750800</td>\n",
       "      <td>4.031022</td>\n",
       "      <td>-1.169873</td>\n",
       "      <td>-1.137649</td>\n",
       "      <td>-0.106517</td>\n",
       "      <td>-0.785398</td>\n",
       "      <td>...</td>\n",
       "      <td>0.0</td>\n",
       "      <td>0.0</td>\n",
       "      <td>-0.081566</td>\n",
       "      <td>-0.011303</td>\n",
       "      <td>-0.003135</td>\n",
       "      <td>-0.004433</td>\n",
       "      <td>-0.003135</td>\n",
       "      <td>0.926591</td>\n",
       "      <td>-1.829868</td>\n",
       "      <td>0.83688</td>\n",
       "    </tr>\n",
       "    <tr>\n",
       "      <th>1</th>\n",
       "      <td>0.132405</td>\n",
       "      <td>0.391474</td>\n",
       "      <td>-0.927438</td>\n",
       "      <td>-3.197277</td>\n",
       "      <td>-0.708461</td>\n",
       "      <td>-0.514312</td>\n",
       "      <td>0.306482</td>\n",
       "      <td>-0.467653</td>\n",
       "      <td>0.808384</td>\n",
       "      <td>-0.785398</td>\n",
       "      <td>...</td>\n",
       "      <td>0.0</td>\n",
       "      <td>0.0</td>\n",
       "      <td>-0.081566</td>\n",
       "      <td>-0.011303</td>\n",
       "      <td>-0.003135</td>\n",
       "      <td>-0.004433</td>\n",
       "      <td>-0.003135</td>\n",
       "      <td>-1.079225</td>\n",
       "      <td>0.546488</td>\n",
       "      <td>-0.62497</td>\n",
       "    </tr>\n",
       "    <tr>\n",
       "      <th>2</th>\n",
       "      <td>0.828245</td>\n",
       "      <td>-1.951156</td>\n",
       "      <td>-0.927438</td>\n",
       "      <td>-2.569954</td>\n",
       "      <td>-0.708461</td>\n",
       "      <td>-0.514312</td>\n",
       "      <td>0.306482</td>\n",
       "      <td>-0.802651</td>\n",
       "      <td>-1.631351</td>\n",
       "      <td>2.145781</td>\n",
       "      <td>...</td>\n",
       "      <td>0.0</td>\n",
       "      <td>0.0</td>\n",
       "      <td>-0.081566</td>\n",
       "      <td>-0.011303</td>\n",
       "      <td>-0.003135</td>\n",
       "      <td>-0.004433</td>\n",
       "      <td>-0.003135</td>\n",
       "      <td>0.926591</td>\n",
       "      <td>0.546488</td>\n",
       "      <td>0.83688</td>\n",
       "    </tr>\n",
       "    <tr>\n",
       "      <th>3</th>\n",
       "      <td>0.695713</td>\n",
       "      <td>0.391474</td>\n",
       "      <td>1.078271</td>\n",
       "      <td>-1.942632</td>\n",
       "      <td>-0.708461</td>\n",
       "      <td>-0.514312</td>\n",
       "      <td>0.306482</td>\n",
       "      <td>-0.802651</td>\n",
       "      <td>0.045967</td>\n",
       "      <td>-0.199162</td>\n",
       "      <td>...</td>\n",
       "      <td>0.0</td>\n",
       "      <td>0.0</td>\n",
       "      <td>-0.081566</td>\n",
       "      <td>-0.011303</td>\n",
       "      <td>-0.003135</td>\n",
       "      <td>-0.004433</td>\n",
       "      <td>-0.003135</td>\n",
       "      <td>-1.079225</td>\n",
       "      <td>0.546488</td>\n",
       "      <td>0.83688</td>\n",
       "    </tr>\n",
       "    <tr>\n",
       "      <th>4</th>\n",
       "      <td>-0.156937</td>\n",
       "      <td>0.391474</td>\n",
       "      <td>1.078271</td>\n",
       "      <td>-1.315309</td>\n",
       "      <td>-0.708461</td>\n",
       "      <td>-0.514312</td>\n",
       "      <td>0.306482</td>\n",
       "      <td>-1.137649</td>\n",
       "      <td>0.401761</td>\n",
       "      <td>-0.785398</td>\n",
       "      <td>...</td>\n",
       "      <td>0.0</td>\n",
       "      <td>0.0</td>\n",
       "      <td>-0.081566</td>\n",
       "      <td>-0.011303</td>\n",
       "      <td>-0.003135</td>\n",
       "      <td>-0.004433</td>\n",
       "      <td>-0.003135</td>\n",
       "      <td>-1.079225</td>\n",
       "      <td>0.546488</td>\n",
       "      <td>0.83688</td>\n",
       "    </tr>\n",
       "    <tr>\n",
       "      <th>...</th>\n",
       "      <td>...</td>\n",
       "      <td>...</td>\n",
       "      <td>...</td>\n",
       "      <td>...</td>\n",
       "      <td>...</td>\n",
       "      <td>...</td>\n",
       "      <td>...</td>\n",
       "      <td>...</td>\n",
       "      <td>...</td>\n",
       "      <td>...</td>\n",
       "      <td>...</td>\n",
       "      <td>...</td>\n",
       "      <td>...</td>\n",
       "      <td>...</td>\n",
       "      <td>...</td>\n",
       "      <td>...</td>\n",
       "      <td>...</td>\n",
       "      <td>...</td>\n",
       "      <td>...</td>\n",
       "      <td>...</td>\n",
       "      <td>...</td>\n",
       "    </tr>\n",
       "    <tr>\n",
       "      <th>101761</th>\n",
       "      <td>1.288506</td>\n",
       "      <td>-1.951156</td>\n",
       "      <td>1.078271</td>\n",
       "      <td>0.566659</td>\n",
       "      <td>-0.708461</td>\n",
       "      <td>-0.135535</td>\n",
       "      <td>0.306482</td>\n",
       "      <td>-0.467653</td>\n",
       "      <td>0.401761</td>\n",
       "      <td>-0.785398</td>\n",
       "      <td>...</td>\n",
       "      <td>0.0</td>\n",
       "      <td>0.0</td>\n",
       "      <td>-0.081566</td>\n",
       "      <td>-0.011303</td>\n",
       "      <td>-0.003135</td>\n",
       "      <td>-0.004433</td>\n",
       "      <td>-0.003135</td>\n",
       "      <td>-1.079225</td>\n",
       "      <td>0.546488</td>\n",
       "      <td>-0.62497</td>\n",
       "    </tr>\n",
       "    <tr>\n",
       "      <th>101762</th>\n",
       "      <td>0.563960</td>\n",
       "      <td>-1.951156</td>\n",
       "      <td>-0.927438</td>\n",
       "      <td>1.193982</td>\n",
       "      <td>-0.708461</td>\n",
       "      <td>0.053854</td>\n",
       "      <td>-0.185636</td>\n",
       "      <td>0.202343</td>\n",
       "      <td>-0.513139</td>\n",
       "      <td>0.973309</td>\n",
       "      <td>...</td>\n",
       "      <td>0.0</td>\n",
       "      <td>0.0</td>\n",
       "      <td>-0.081566</td>\n",
       "      <td>-0.011303</td>\n",
       "      <td>-0.003135</td>\n",
       "      <td>-0.004433</td>\n",
       "      <td>-0.003135</td>\n",
       "      <td>0.926591</td>\n",
       "      <td>0.546488</td>\n",
       "      <td>0.83688</td>\n",
       "    </tr>\n",
       "    <tr>\n",
       "      <th>101763</th>\n",
       "      <td>-0.245632</td>\n",
       "      <td>0.391474</td>\n",
       "      <td>1.078271</td>\n",
       "      <td>0.566659</td>\n",
       "      <td>-0.708461</td>\n",
       "      <td>-0.514312</td>\n",
       "      <td>0.306482</td>\n",
       "      <td>-1.137649</td>\n",
       "      <td>0.503417</td>\n",
       "      <td>-0.785398</td>\n",
       "      <td>...</td>\n",
       "      <td>0.0</td>\n",
       "      <td>0.0</td>\n",
       "      <td>-0.081566</td>\n",
       "      <td>-0.011303</td>\n",
       "      <td>-0.003135</td>\n",
       "      <td>-0.004433</td>\n",
       "      <td>-0.003135</td>\n",
       "      <td>-1.079225</td>\n",
       "      <td>0.546488</td>\n",
       "      <td>0.83688</td>\n",
       "    </tr>\n",
       "    <tr>\n",
       "      <th>101764</th>\n",
       "      <td>-0.486953</td>\n",
       "      <td>0.391474</td>\n",
       "      <td>-0.927438</td>\n",
       "      <td>1.193982</td>\n",
       "      <td>-0.016609</td>\n",
       "      <td>-0.135535</td>\n",
       "      <td>0.306482</td>\n",
       "      <td>1.877333</td>\n",
       "      <td>0.096794</td>\n",
       "      <td>0.387074</td>\n",
       "      <td>...</td>\n",
       "      <td>0.0</td>\n",
       "      <td>0.0</td>\n",
       "      <td>-0.081566</td>\n",
       "      <td>-0.011303</td>\n",
       "      <td>-0.003135</td>\n",
       "      <td>-0.004433</td>\n",
       "      <td>-0.003135</td>\n",
       "      <td>-1.079225</td>\n",
       "      <td>0.546488</td>\n",
       "      <td>0.83688</td>\n",
       "    </tr>\n",
       "    <tr>\n",
       "      <th>101765</th>\n",
       "      <td>1.724343</td>\n",
       "      <td>0.391474</td>\n",
       "      <td>1.078271</td>\n",
       "      <td>0.566659</td>\n",
       "      <td>-0.708461</td>\n",
       "      <td>-0.514312</td>\n",
       "      <td>0.306482</td>\n",
       "      <td>0.537341</td>\n",
       "      <td>-1.529696</td>\n",
       "      <td>0.973309</td>\n",
       "      <td>...</td>\n",
       "      <td>0.0</td>\n",
       "      <td>0.0</td>\n",
       "      <td>-0.081566</td>\n",
       "      <td>-0.011303</td>\n",
       "      <td>-0.003135</td>\n",
       "      <td>-0.004433</td>\n",
       "      <td>-0.003135</td>\n",
       "      <td>0.926591</td>\n",
       "      <td>-1.829868</td>\n",
       "      <td>0.83688</td>\n",
       "    </tr>\n",
       "  </tbody>\n",
       "</table>\n",
       "<p>101766 rows × 45 columns</p>\n",
       "</div>"
      ],
      "text/plain": [
       "        patient_nbr      race    gender       age  admission_type_id  \\\n",
       "0         -1.222446  0.391474 -0.927438 -3.824600           2.750800   \n",
       "1          0.132405  0.391474 -0.927438 -3.197277          -0.708461   \n",
       "2          0.828245 -1.951156 -0.927438 -2.569954          -0.708461   \n",
       "3          0.695713  0.391474  1.078271 -1.942632          -0.708461   \n",
       "4         -0.156937  0.391474  1.078271 -1.315309          -0.708461   \n",
       "...             ...       ...       ...       ...                ...   \n",
       "101761     1.288506 -1.951156  1.078271  0.566659          -0.708461   \n",
       "101762     0.563960 -1.951156 -0.927438  1.193982          -0.708461   \n",
       "101763    -0.245632  0.391474  1.078271  0.566659          -0.708461   \n",
       "101764    -0.486953  0.391474 -0.927438  1.193982          -0.016609   \n",
       "101765     1.724343  0.391474  1.078271  0.566659          -0.708461   \n",
       "\n",
       "        discharge_disposition_id  admission_source_id  time_in_hospital  \\\n",
       "0                       4.031022            -1.169873         -1.137649   \n",
       "1                      -0.514312             0.306482         -0.467653   \n",
       "2                      -0.514312             0.306482         -0.802651   \n",
       "3                      -0.514312             0.306482         -0.802651   \n",
       "4                      -0.514312             0.306482         -1.137649   \n",
       "...                          ...                  ...               ...   \n",
       "101761                 -0.135535             0.306482         -0.467653   \n",
       "101762                  0.053854            -0.185636          0.202343   \n",
       "101763                 -0.514312             0.306482         -1.137649   \n",
       "101764                 -0.135535             0.306482          1.877333   \n",
       "101765                 -0.514312             0.306482          0.537341   \n",
       "\n",
       "        num_lab_procedures  num_procedures  ...  examide  citoglipton  \\\n",
       "0                -0.106517       -0.785398  ...      0.0          0.0   \n",
       "1                 0.808384       -0.785398  ...      0.0          0.0   \n",
       "2                -1.631351        2.145781  ...      0.0          0.0   \n",
       "3                 0.045967       -0.199162  ...      0.0          0.0   \n",
       "4                 0.401761       -0.785398  ...      0.0          0.0   \n",
       "...                    ...             ...  ...      ...          ...   \n",
       "101761            0.401761       -0.785398  ...      0.0          0.0   \n",
       "101762           -0.513139        0.973309  ...      0.0          0.0   \n",
       "101763            0.503417       -0.785398  ...      0.0          0.0   \n",
       "101764            0.096794        0.387074  ...      0.0          0.0   \n",
       "101765           -1.529696        0.973309  ...      0.0          0.0   \n",
       "\n",
       "        glyburide-metformin  glipizide-metformin  glimepiride-pioglitazone  \\\n",
       "0                 -0.081566            -0.011303                 -0.003135   \n",
       "1                 -0.081566            -0.011303                 -0.003135   \n",
       "2                 -0.081566            -0.011303                 -0.003135   \n",
       "3                 -0.081566            -0.011303                 -0.003135   \n",
       "4                 -0.081566            -0.011303                 -0.003135   \n",
       "...                     ...                  ...                       ...   \n",
       "101761            -0.081566            -0.011303                 -0.003135   \n",
       "101762            -0.081566            -0.011303                 -0.003135   \n",
       "101763            -0.081566            -0.011303                 -0.003135   \n",
       "101764            -0.081566            -0.011303                 -0.003135   \n",
       "101765            -0.081566            -0.011303                 -0.003135   \n",
       "\n",
       "        metformin-rosiglitazone  metformin-pioglitazone    change  \\\n",
       "0                     -0.004433               -0.003135  0.926591   \n",
       "1                     -0.004433               -0.003135 -1.079225   \n",
       "2                     -0.004433               -0.003135  0.926591   \n",
       "3                     -0.004433               -0.003135 -1.079225   \n",
       "4                     -0.004433               -0.003135 -1.079225   \n",
       "...                         ...                     ...       ...   \n",
       "101761                -0.004433               -0.003135 -1.079225   \n",
       "101762                -0.004433               -0.003135  0.926591   \n",
       "101763                -0.004433               -0.003135 -1.079225   \n",
       "101764                -0.004433               -0.003135 -1.079225   \n",
       "101765                -0.004433               -0.003135  0.926591   \n",
       "\n",
       "        diabetesMed  readmitted  \n",
       "0         -1.829868     0.83688  \n",
       "1          0.546488    -0.62497  \n",
       "2          0.546488     0.83688  \n",
       "3          0.546488     0.83688  \n",
       "4          0.546488     0.83688  \n",
       "...             ...         ...  \n",
       "101761     0.546488    -0.62497  \n",
       "101762     0.546488     0.83688  \n",
       "101763     0.546488     0.83688  \n",
       "101764     0.546488     0.83688  \n",
       "101765    -1.829868     0.83688  \n",
       "\n",
       "[101766 rows x 45 columns]"
      ]
     },
     "execution_count": 41,
     "metadata": {},
     "output_type": "execute_result"
    }
   ],
   "source": [
    "X_2"
   ]
  },
  {
   "cell_type": "code",
   "execution_count": 42,
   "metadata": {},
   "outputs": [],
   "source": [
    "# Splitting the Dataset into testing and trainig datasets\n",
    "from sklearn.model_selection import train_test_split\n",
    "\n",
    "X_train_2,X_test_2,y_train_2,y_test_2 = train_test_split(X_2,Y_2, test_size = .25,random_state = 1)"
   ]
  },
  {
   "cell_type": "markdown",
   "metadata": {},
   "source": [
    "### Model Training"
   ]
  },
  {
   "cell_type": "code",
   "execution_count": 43,
   "metadata": {},
   "outputs": [],
   "source": [
    "# Training Multi layer preceptron classifier\n",
    "from sklearn.neural_network import MLPClassifier\n",
    "from sklearn.model_selection import cross_validate\n",
    "\n",
    "MLP_model_2 = MLPClassifier(hidden_layer_sizes=(128,64,32),max_iter=500,learning_rate_init=.003)\n",
    "MLP_results_2 = cross_validate(MLP_model_2,X_train_2,y_train_2,cv = 10,return_estimator= True)"
   ]
  },
  {
   "cell_type": "code",
   "execution_count": 44,
   "metadata": {},
   "outputs": [],
   "source": [
    "# Training K nearest neighbour classifier classifier\n",
    "from sklearn.neighbors import KNeighborsClassifier\n",
    "\n",
    "knn_model_2 = KNeighborsClassifier(n_neighbors = 20,n_jobs=-1)\n",
    "knn_results_2 = cross_validate(knn_model_2,X_train_2,y_train_2,cv = 10,return_estimator= True)"
   ]
  },
  {
   "cell_type": "code",
   "execution_count": 45,
   "metadata": {},
   "outputs": [],
   "source": [
    "# Training Decision Tree classifier\n",
    "from sklearn.tree import DecisionTreeClassifier\n",
    "\n",
    "DT_model_2 = DecisionTreeClassifier(max_depth=15,random_state=3,)\n",
    "DT_results_2 = cross_validate(DT_model_2,X_train_2,y_train_2,cv = 10,return_estimator= True)"
   ]
  },
  {
   "cell_type": "code",
   "execution_count": 46,
   "metadata": {},
   "outputs": [],
   "source": [
    "# Training Navies Bayesian classifier\n",
    "from sklearn.naive_bayes import GaussianNB\n",
    "\n",
    "nb_model_2 = GaussianNB()\n",
    "nb_results_2 = cross_validate(nb_model_2,X_train_2,y_train_2,cv = 10,return_estimator= True)"
   ]
  },
  {
   "cell_type": "code",
   "execution_count": 47,
   "metadata": {},
   "outputs": [],
   "source": [
    "# Training Extreme tress classifier\n",
    "from sklearn.ensemble import ExtraTreesClassifier\n",
    "\n",
    "et_model_2 = ExtraTreesClassifier(random_state=123,n_jobs=-1)\n",
    "et_results_2 = cross_validate(et_model_2,X_train_2,y_train_2,cv = 10,return_estimator= True)"
   ]
  },
  {
   "cell_type": "markdown",
   "metadata": {},
   "source": [
    "### Model evaluation"
   ]
  },
  {
   "cell_type": "code",
   "execution_count": 48,
   "metadata": {},
   "outputs": [],
   "source": [
    "# Loading the models\n",
    "mlp_model_2 = MLP_results_2[\"estimator\"][-1]\n",
    "dt_model_2  = DT_results_2[\"estimator\"][-1]\n",
    "nb_model_2  = nb_results_2[\"estimator\"][-1]\n",
    "knn_model_2 = knn_results_2[\"estimator\"][-1]\n",
    "et_model_2  = et_results_2[\"estimator\"][-1]"
   ]
  },
  {
   "cell_type": "code",
   "execution_count": 49,
   "metadata": {},
   "outputs": [],
   "source": [
    "from sklearn.metrics import recall_score,f1_score,confusion_matrix \n",
    "from time import gmtime,strftime\n",
    "from math import ceil\n",
    "\n",
    "# Function to evaluate f1_measure,recall and specificity for multi-class \n",
    "def evaluation_metrics_multi(estimator,X,Y):\n",
    "    \"\"\"\n",
    "    Input : estimator - the model that needs to be evaluated\n",
    "            X - The test dataset\n",
    "            Y - the test target variable\n",
    "            \n",
    "    Output : dict containing F1_score,sensitivity and specificity\n",
    "    \"\"\"\n",
    "    prediction = estimator.predict(X)\n",
    "    classes=estimator.classes_\n",
    "    recall = recall_score(Y,prediction,average='macro',labels=classes)\n",
    "    f1 = f1_score(Y,prediction,average='macro',labels=classes)\n",
    "    cn = confusion_matrix(Y,prediction)\n",
    "    False_Positive = cn.sum(axis=0) - np.diag(cn)  \n",
    "    False_negative = cn.sum(axis=1) - np.diag(cn)\n",
    "    True_Positive = np.diag(cn)\n",
    "    True_negative = cn.sum() - (False_negative + False_Positive + True_Positive)\n",
    "    spec = np.mean(True_negative/(True_negative+False_Positive))\n",
    "\n",
    "    metrics = {\"f1_score\":f1,\"Recall\":recall,\"Specificity\":spec}\n",
    "    return metrics"
   ]
  },
  {
   "cell_type": "code",
   "execution_count": 50,
   "metadata": {},
   "outputs": [],
   "source": [
    "# Calculating F1-measure,recall specificity for the 5 models\n",
    "MLP_metrics_2 = evaluation_metrics_multi(mlp_model_2,X_test_2,y_test_2)\n",
    "knn_metrics_2 = evaluation_metrics_multi(knn_model_2,X_test_2,y_test_2)\n",
    "DT_metrics_2 = evaluation_metrics_multi(dt_model_2,X_test_2,y_test_2)\n",
    "nb_metrics_2 = evaluation_metrics_multi(nb_model_2,X_test_2,y_test_2)\n",
    "et_metrics_2 = evaluation_metrics_multi(et_model_2,X_test_2,y_test_2)"
   ]
  },
  {
   "cell_type": "code",
   "execution_count": 51,
   "metadata": {},
   "outputs": [],
   "source": [
    "# Calculating the runtime for the 5 models\n",
    "MLP_metrics_2[\"runtime\"] = strftime(\"%M min %S secs\",gmtime(ceil(np.mean(MLP_results_2[\"fit_time\"]))))\n",
    "knn_metrics_2[\"runtime\"] = strftime(\"%M min %S secs\",gmtime(ceil(np.mean(knn_results_2[\"fit_time\"]))))\n",
    "DT_metrics_2[\"runtime\"] = strftime(\"%M min %S secs\",gmtime(ceil(np.mean(DT_results_2[\"fit_time\"]))))\n",
    "nb_metrics_2[\"runtime\"] = strftime(\"%M min %S secs\",gmtime(ceil(np.mean(nb_results_2[\"fit_time\"]))))\n",
    "et_metrics_2[\"runtime\"] = strftime(\"%M min %S secs\",gmtime(ceil(np.mean(et_results_2[\"fit_time\"]))))"
   ]
  },
  {
   "cell_type": "code",
   "execution_count": 52,
   "metadata": {},
   "outputs": [],
   "source": [
    "# Calaculating the accuracy of the 5 models\n",
    "MLP_metrics_2[\"accuracy\"] = round(mlp_model_2.score(X_test_2,y_test_2),4)\n",
    "knn_metrics_2[\"accuracy\"] = round(knn_model_2.score(X_test_2,y_test_2),4)\n",
    "DT_metrics_2[\"accuracy\"] = round(dt_model_2.score(X_test_2,y_test_2),4)\n",
    "nb_metrics_2[\"accuracy\"] = round(nb_model_2.score(X_test_2,y_test_2),4)\n",
    "et_metrics_2[\"accuracy\"] = round(et_model_2.score(X_test_2,y_test_2),4)"
   ]
  },
  {
   "cell_type": "markdown",
   "metadata": {},
   "source": [
    "### ROC curves"
   ]
  },
  {
   "cell_type": "code",
   "execution_count": 53,
   "metadata": {},
   "outputs": [],
   "source": [
    "from sklearn.metrics import RocCurveDisplay,roc_curve,auc\n",
    "from sklearn.preprocessing import label_binarize"
   ]
  },
  {
   "cell_type": "code",
   "execution_count": 54,
   "metadata": {},
   "outputs": [],
   "source": [
    "# Function to plot roc and calculate area under roc for multi-class\n",
    "def AUC_ROC_multi(estimator,test_data,test_target):\n",
    "    \n",
    "    y_pred = estimator.predict_proba(test_data)\n",
    "    \n",
    "    \n",
    "    fpr = dict()\n",
    "    tpr = dict()\n",
    "    target=label_binarize(y_test_2,classes=estimator.classes_)\n",
    "    no_of_classes = len(estimator.classes_)\n",
    "    for i in range(no_of_classes):\n",
    "        fpr[i],tpr[i],_= roc_curve(target[:,i],y_pred[:,i])\n",
    "    \n",
    "    # Collecting unique false positive rates\n",
    "    unique_fpr = np.unique(np.concatenate([fpr[i] for i in range(no_of_classes )]))\n",
    "\n",
    "    # Interpolating the points\n",
    "    avg_tpr = np.zeros_like(unique_fpr)\n",
    "    for i in range(no_of_classes):\n",
    "        avg_tpr += np.interp(unique_fpr, fpr[i], tpr[i])\n",
    "    \n",
    "    # Calculating fpr and tpr\n",
    "    fpr_m = unique_fpr\n",
    "    tpr_m = avg_tpr /no_of_classes\n",
    "    auc2 = auc(fpr_m,tpr_m)\n",
    "    \n",
    "    \n",
    "    # Plotting the figure\n",
    "    fig= plt.figure(figsize=(7,5))\n",
    "    axes=fig.add_axes([1,1,1,1])\n",
    "    RocCurveDisplay(fpr=fpr_m,tpr=tpr_m).plot(ax = axes,lw = 2)\n",
    "    axes.set_title(\"ROC curve \")\n",
    "    plt.show()\n",
    "    \n",
    "    return fpr_m,tpr_m,auc2"
   ]
  },
  {
   "cell_type": "code",
   "execution_count": 55,
   "metadata": {},
   "outputs": [
    {
     "data": {
      "image/png": "[encoded data removed]",
      "text/plain": [
       "<Figure size 504x360 with 1 Axes>"
      ]
     },
     "metadata": {
      "needs_background": "light"
     },
     "output_type": "display_data"
    }
   ],
   "source": [
    "# Plotting ROC and calculating area under roc for Multi Layer preceptron\n",
    "MLP_2_fpr,MLP_2_tpr,MLP_2_auc= AUC_ROC_multi(mlp_model_2,X_test_2,y_test_2)\n",
    "MLP_metrics_2[\"AUC\"] = round(MLP_2_auc,4)"
   ]
  },
  {
   "cell_type": "code",
   "execution_count": 56,
   "metadata": {},
   "outputs": [
    {
     "data": {
      "image/png": "[encoded data removed]",
      "text/plain": [
       "<Figure size 504x360 with 1 Axes>"
      ]
     },
     "metadata": {
      "needs_background": "light"
     },
     "output_type": "display_data"
    }
   ],
   "source": [
    "# Plotting ROC and calculating area under roc for K nearest neighbors\n",
    "knn_2_fpr,knn_2_tpr,knn_2_auc= AUC_ROC_multi(knn_model_2,X_test_2,y_test_2)\n",
    "knn_metrics_2[\"AUC\"] = round(knn_2_auc,4)"
   ]
  },
  {
   "cell_type": "code",
   "execution_count": 57,
   "metadata": {},
   "outputs": [
    {
     "data": {
      "image/png": "[encoded data removed]",
      "text/plain": [
       "<Figure size 504x360 with 1 Axes>"
      ]
     },
     "metadata": {
      "needs_background": "light"
     },
     "output_type": "display_data"
    }
   ],
   "source": [
    "# Plotting ROC and calculating area under roc for Decision tress classifier\n",
    "dt_2_fpr,dt_2_tpr,dt_2_auc= AUC_ROC_multi(dt_model_2,X_test_2,y_test_2)\n",
    "DT_metrics_2[\"AUC\"] = round(dt_2_auc,4)"
   ]
  },
  {
   "cell_type": "code",
   "execution_count": 58,
   "metadata": {},
   "outputs": [
    {
     "data": {
      "image/png": "[encoded data removed]",
      "text/plain": [
       "<Figure size 504x360 with 1 Axes>"
      ]
     },
     "metadata": {
      "needs_background": "light"
     },
     "output_type": "display_data"
    }
   ],
   "source": [
    "# Plotting ROC and calculating area under roc for Navies bayesian classifier\n",
    "nb_2_fpr,nb_2_tpr,nb_2_auc= AUC_ROC_multi(nb_model_2,X_test_2,y_test_2)\n",
    "nb_metrics_2[\"AUC\"] = round(nb_2_auc,4)"
   ]
  },
  {
   "cell_type": "code",
   "execution_count": 59,
   "metadata": {
    "scrolled": false
   },
   "outputs": [
    {
     "data": {
      "image/png": "[encoded data removed]",
      "text/plain": [
       "<Figure size 504x360 with 1 Axes>"
      ]
     },
     "metadata": {
      "needs_background": "light"
     },
     "output_type": "display_data"
    }
   ],
   "source": [
    "# Plotting ROC and calculating area under roc for Extreme learning trees\n",
    "et_2_fpr,et_2_tpr,et_2_auc= AUC_ROC_multi(et_model_2,X_test_2,y_test_2)\n",
    "et_metrics_2[\"AUC\"] = round(et_2_auc,4)"
   ]
  },
  {
   "cell_type": "code",
   "execution_count": 60,
   "metadata": {},
   "outputs": [
    {
     "data": {
      "text/html": [
       "<div>\n",
       "<style scoped>\n",
       "    .dataframe tbody tr th:only-of-type {\n",
       "        vertical-align: middle;\n",
       "    }\n",
       "\n",
       "    .dataframe tbody tr th {\n",
       "        vertical-align: top;\n",
       "    }\n",
       "\n",
       "    .dataframe thead th {\n",
       "        text-align: right;\n",
       "    }\n",
       "</style>\n",
       "<table border=\"1\" class=\"dataframe\">\n",
       "  <thead>\n",
       "    <tr style=\"text-align: right;\">\n",
       "      <th></th>\n",
       "      <th>MLP</th>\n",
       "      <th>KNN</th>\n",
       "      <th>DT</th>\n",
       "      <th>NB</th>\n",
       "      <th>ELT</th>\n",
       "    </tr>\n",
       "  </thead>\n",
       "  <tbody>\n",
       "    <tr>\n",
       "      <th>f1_score</th>\n",
       "      <td>0.639631682127607</td>\n",
       "      <td>0.629305403742362</td>\n",
       "      <td>0.653034740167039</td>\n",
       "      <td>0.32610568572311277</td>\n",
       "      <td>0.6638487750154443</td>\n",
       "    </tr>\n",
       "    <tr>\n",
       "      <th>Recall</th>\n",
       "      <td>0.638837331450795</td>\n",
       "      <td>0.6223899411663344</td>\n",
       "      <td>0.6490531553643231</td>\n",
       "      <td>0.4599589000357284</td>\n",
       "      <td>0.655451283773315</td>\n",
       "    </tr>\n",
       "    <tr>\n",
       "      <th>Specificity</th>\n",
       "      <td>0.9232158381672899</td>\n",
       "      <td>0.91621173457466</td>\n",
       "      <td>0.9264187522493637</td>\n",
       "      <td>0.8277999653071809</td>\n",
       "      <td>0.9291537646792721</td>\n",
       "    </tr>\n",
       "    <tr>\n",
       "      <th>runtime</th>\n",
       "      <td>06 min 09 secs</td>\n",
       "      <td>01 min 00 secs</td>\n",
       "      <td>00 min 02 secs</td>\n",
       "      <td>00 min 01 secs</td>\n",
       "      <td>00 min 16 secs</td>\n",
       "    </tr>\n",
       "    <tr>\n",
       "      <th>accuracy</th>\n",
       "      <td>0.7703</td>\n",
       "      <td>0.7675</td>\n",
       "      <td>0.7873</td>\n",
       "      <td>0.4959</td>\n",
       "      <td>0.7964</td>\n",
       "    </tr>\n",
       "    <tr>\n",
       "      <th>AUC</th>\n",
       "      <td>0.9288</td>\n",
       "      <td>0.9233</td>\n",
       "      <td>0.9037</td>\n",
       "      <td>0.8139</td>\n",
       "      <td>0.9455</td>\n",
       "    </tr>\n",
       "  </tbody>\n",
       "</table>\n",
       "</div>"
      ],
      "text/plain": [
       "                            MLP                 KNN                  DT  \\\n",
       "f1_score      0.639631682127607   0.629305403742362   0.653034740167039   \n",
       "Recall        0.638837331450795  0.6223899411663344  0.6490531553643231   \n",
       "Specificity  0.9232158381672899    0.91621173457466  0.9264187522493637   \n",
       "runtime          06 min 09 secs      01 min 00 secs      00 min 02 secs   \n",
       "accuracy                 0.7703              0.7675              0.7873   \n",
       "AUC                      0.9288              0.9233              0.9037   \n",
       "\n",
       "                              NB                 ELT  \n",
       "f1_score     0.32610568572311277  0.6638487750154443  \n",
       "Recall        0.4599589000357284   0.655451283773315  \n",
       "Specificity   0.8277999653071809  0.9291537646792721  \n",
       "runtime           00 min 01 secs      00 min 16 secs  \n",
       "accuracy                  0.4959              0.7964  \n",
       "AUC                       0.8139              0.9455  "
      ]
     },
     "execution_count": 60,
     "metadata": {},
     "output_type": "execute_result"
    }
   ],
   "source": [
    "# Merging the metrics of the all the models\n",
    "evaluation_data_2=np.c_[list(MLP_metrics_2.values()),\n",
    "                    list(knn_metrics_2.values()),\n",
    "                    list(DT_metrics_2.values()),\n",
    "                     list(nb_metrics_2.values()),\n",
    "                    list(et_metrics_2.values())]\n",
    "\n",
    "# Defining the index and columns of the dataset\n",
    "models=[\"MLP\",\"KNN\",'DT',\"NB\",\"ELT\"]\n",
    "metric = MLP_metrics_2.keys()\n",
    "\n",
    "# Creating the metric table\n",
    "metrics_table_2 = pd.DataFrame(evaluation_data_2,columns=models,index = metric)\n",
    "metrics_table_2"
   ]
  },
  {
   "cell_type": "code",
   "execution_count": 61,
   "metadata": {
    "scrolled": false
   },
   "outputs": [
    {
     "data": {
      "image/png": "[encoded data removed]",
      "text/plain": [
       "<Figure size 504x360 with 1 Axes>"
      ]
     },
     "metadata": {
      "needs_background": "light"
     },
     "output_type": "display_data"
    }
   ],
   "source": [
    "# Plotting ROC  curves of all the models to contrast each other\n",
    "fig= plt.figure(figsize=(7,5))\n",
    "axes=fig.add_axes([1,1,1,1])\n",
    "RocCurveDisplay(fpr=MLP_2_fpr,tpr=MLP_2_tpr).plot(ax = axes,label = 'ROC for MLP',lw = 2)\n",
    "RocCurveDisplay(fpr=knn_2_fpr,tpr=knn_2_tpr).plot(ax = axes,label = 'ROC for Knn',lw = 2)\n",
    "RocCurveDisplay(fpr=dt_2_fpr,tpr=dt_2_tpr).plot(ax = axes,label = 'ROC for SVM',lw = 2)\n",
    "RocCurveDisplay(fpr=nb_2_fpr,tpr=nb_2_tpr).plot(ax = axes,label = 'ROC for NB',lw = 2)\n",
    "RocCurveDisplay(fpr=et_2_fpr,tpr=et_2_tpr).plot(ax = axes,label = 'ROC for Extreme learning Trees',lw = 2)\n",
    "axes.set_title(\"ROC curves for different models\\n\",)\n",
    "plt.show()"
   ]
  },
  {
   "cell_type": "markdown",
   "metadata": {},
   "source": [
    "### Statistical analysis"
   ]
  },
  {
   "cell_type": "code",
   "execution_count": 62,
   "metadata": {},
   "outputs": [
    {
     "data": {
      "text/html": [
       "<style  type=\"text/css\" >\n",
       "#T_0e3e715c_4122_11eb_a935_0021cc689668row9_col0,#T_0e3e715c_4122_11eb_a935_0021cc689668row9_col1,#T_0e3e715c_4122_11eb_a935_0021cc689668row9_col2,#T_0e3e715c_4122_11eb_a935_0021cc689668row9_col3,#T_0e3e715c_4122_11eb_a935_0021cc689668row9_col4{\n",
       "            border-bottom:  solid;\n",
       "            border-width:  2px;\n",
       "        }</style><table id=\"T_0e3e715c_4122_11eb_a935_0021cc689668\" ><thead>    <tr>        <th class=\"index_name level0\" >Algorithm</th>        <th class=\"col_heading level0 col0\" >MLP</th>        <th class=\"col_heading level0 col1\" >KNN</th>        <th class=\"col_heading level0 col2\" >DT</th>        <th class=\"col_heading level0 col3\" >NB</th>        <th class=\"col_heading level0 col4\" >ELT</th>    </tr>    <tr>        <th class=\"index_name level0\" >Folds</th>        <th class=\"blank\" ></th>        <th class=\"blank\" ></th>        <th class=\"blank\" ></th>        <th class=\"blank\" ></th>        <th class=\"blank\" ></th>    </tr></thead><tbody>\n",
       "                <tr>\n",
       "                        <th id=\"T_0e3e715c_4122_11eb_a935_0021cc689668level0_row0\" class=\"row_heading level0 row0\" >1</th>\n",
       "                        <td id=\"T_0e3e715c_4122_11eb_a935_0021cc689668row0_col0\" class=\"data row0 col0\" >0.765361</td>\n",
       "                        <td id=\"T_0e3e715c_4122_11eb_a935_0021cc689668row0_col1\" class=\"data row0 col1\" >0.763527</td>\n",
       "                        <td id=\"T_0e3e715c_4122_11eb_a935_0021cc689668row0_col2\" class=\"data row0 col2\" >0.775318</td>\n",
       "                        <td id=\"T_0e3e715c_4122_11eb_a935_0021cc689668row0_col3\" class=\"data row0 col3\" >0.491026</td>\n",
       "                        <td id=\"T_0e3e715c_4122_11eb_a935_0021cc689668row0_col4\" class=\"data row0 col4\" >0.794052</td>\n",
       "            </tr>\n",
       "            <tr>\n",
       "                        <th id=\"T_0e3e715c_4122_11eb_a935_0021cc689668level0_row1\" class=\"row_heading level0 row1\" >2</th>\n",
       "                        <td id=\"T_0e3e715c_4122_11eb_a935_0021cc689668row1_col0\" class=\"data row1 col0\" >0.772304</td>\n",
       "                        <td id=\"T_0e3e715c_4122_11eb_a935_0021cc689668row1_col1\" class=\"data row1 col1\" >0.763265</td>\n",
       "                        <td id=\"T_0e3e715c_4122_11eb_a935_0021cc689668row1_col2\" class=\"data row1 col2\" >0.783571</td>\n",
       "                        <td id=\"T_0e3e715c_4122_11eb_a935_0021cc689668row1_col3\" class=\"data row1 col3\" >0.494039</td>\n",
       "                        <td id=\"T_0e3e715c_4122_11eb_a935_0021cc689668row1_col4\" class=\"data row1 col4\" >0.791301</td>\n",
       "            </tr>\n",
       "            <tr>\n",
       "                        <th id=\"T_0e3e715c_4122_11eb_a935_0021cc689668level0_row2\" class=\"row_heading level0 row2\" >3</th>\n",
       "                        <td id=\"T_0e3e715c_4122_11eb_a935_0021cc689668row2_col0\" class=\"data row2 col0\" >0.759465</td>\n",
       "                        <td id=\"T_0e3e715c_4122_11eb_a935_0021cc689668row2_col1\" class=\"data row2 col1\" >0.767195</td>\n",
       "                        <td id=\"T_0e3e715c_4122_11eb_a935_0021cc689668row2_col2\" class=\"data row2 col2\" >0.781868</td>\n",
       "                        <td id=\"T_0e3e715c_4122_11eb_a935_0021cc689668row2_col3\" class=\"data row2 col3\" >0.487358</td>\n",
       "                        <td id=\"T_0e3e715c_4122_11eb_a935_0021cc689668row2_col4\" class=\"data row2 col4\" >0.791301</td>\n",
       "            </tr>\n",
       "            <tr>\n",
       "                        <th id=\"T_0e3e715c_4122_11eb_a935_0021cc689668level0_row3\" class=\"row_heading level0 row3\" >4</th>\n",
       "                        <td id=\"T_0e3e715c_4122_11eb_a935_0021cc689668row3_col0\" class=\"data row3 col0\" >0.771911</td>\n",
       "                        <td id=\"T_0e3e715c_4122_11eb_a935_0021cc689668row3_col1\" class=\"data row3 col1\" >0.776628</td>\n",
       "                        <td id=\"T_0e3e715c_4122_11eb_a935_0021cc689668row3_col2\" class=\"data row3 col2\" >0.784750</td>\n",
       "                        <td id=\"T_0e3e715c_4122_11eb_a935_0021cc689668row3_col3\" class=\"data row3 col3\" >0.494301</td>\n",
       "                        <td id=\"T_0e3e715c_4122_11eb_a935_0021cc689668row3_col4\" class=\"data row3 col4\" >0.803485</td>\n",
       "            </tr>\n",
       "            <tr>\n",
       "                        <th id=\"T_0e3e715c_4122_11eb_a935_0021cc689668level0_row4\" class=\"row_heading level0 row4\" >5</th>\n",
       "                        <td id=\"T_0e3e715c_4122_11eb_a935_0021cc689668row4_col0\" class=\"data row4 col0\" >0.769392</td>\n",
       "                        <td id=\"T_0e3e715c_4122_11eb_a935_0021cc689668row4_col1\" class=\"data row4 col1\" >0.769130</td>\n",
       "                        <td id=\"T_0e3e715c_4122_11eb_a935_0021cc689668row4_col2\" class=\"data row4 col2\" >0.777254</td>\n",
       "                        <td id=\"T_0e3e715c_4122_11eb_a935_0021cc689668row4_col3\" class=\"data row4 col3\" >0.498428</td>\n",
       "                        <td id=\"T_0e3e715c_4122_11eb_a935_0021cc689668row4_col4\" class=\"data row4 col4\" >0.791798</td>\n",
       "            </tr>\n",
       "            <tr>\n",
       "                        <th id=\"T_0e3e715c_4122_11eb_a935_0021cc689668level0_row5\" class=\"row_heading level0 row5\" >6</th>\n",
       "                        <td id=\"T_0e3e715c_4122_11eb_a935_0021cc689668row5_col0\" class=\"data row5 col0\" >0.771882</td>\n",
       "                        <td id=\"T_0e3e715c_4122_11eb_a935_0021cc689668row5_col1\" class=\"data row5 col1\" >0.763758</td>\n",
       "                        <td id=\"T_0e3e715c_4122_11eb_a935_0021cc689668row5_col2\" class=\"data row5 col2\" >0.783412</td>\n",
       "                        <td id=\"T_0e3e715c_4122_11eb_a935_0021cc689668row5_col3\" class=\"data row5 col3\" >0.492925</td>\n",
       "                        <td id=\"T_0e3e715c_4122_11eb_a935_0021cc689668row5_col4\" class=\"data row5 col4\" >0.792977</td>\n",
       "            </tr>\n",
       "            <tr>\n",
       "                        <th id=\"T_0e3e715c_4122_11eb_a935_0021cc689668level0_row6\" class=\"row_heading level0 row6\" >7</th>\n",
       "                        <td id=\"T_0e3e715c_4122_11eb_a935_0021cc689668row6_col0\" class=\"data row6 col0\" >0.770440</td>\n",
       "                        <td id=\"T_0e3e715c_4122_11eb_a935_0021cc689668row6_col1\" class=\"data row6 col1\" >0.763889</td>\n",
       "                        <td id=\"T_0e3e715c_4122_11eb_a935_0021cc689668row6_col2\" class=\"data row6 col2\" >0.776992</td>\n",
       "                        <td id=\"T_0e3e715c_4122_11eb_a935_0021cc689668row6_col3\" class=\"data row6 col3\" >0.493580</td>\n",
       "                        <td id=\"T_0e3e715c_4122_11eb_a935_0021cc689668row6_col4\" class=\"data row6 col4\" >0.795597</td>\n",
       "            </tr>\n",
       "            <tr>\n",
       "                        <th id=\"T_0e3e715c_4122_11eb_a935_0021cc689668level0_row7\" class=\"row_heading level0 row7\" >8</th>\n",
       "                        <td id=\"T_0e3e715c_4122_11eb_a935_0021cc689668row7_col0\" class=\"data row7 col0\" >0.766378</td>\n",
       "                        <td id=\"T_0e3e715c_4122_11eb_a935_0021cc689668row7_col1\" class=\"data row7 col1\" >0.767820</td>\n",
       "                        <td id=\"T_0e3e715c_4122_11eb_a935_0021cc689668row7_col2\" class=\"data row7 col2\" >0.775419</td>\n",
       "                        <td id=\"T_0e3e715c_4122_11eb_a935_0021cc689668row7_col3\" class=\"data row7 col3\" >0.508124</td>\n",
       "                        <td id=\"T_0e3e715c_4122_11eb_a935_0021cc689668row7_col4\" class=\"data row7 col4\" >0.790356</td>\n",
       "            </tr>\n",
       "            <tr>\n",
       "                        <th id=\"T_0e3e715c_4122_11eb_a935_0021cc689668level0_row8\" class=\"row_heading level0 row8\" >9</th>\n",
       "                        <td id=\"T_0e3e715c_4122_11eb_a935_0021cc689668row8_col0\" class=\"data row8 col0\" >0.765985</td>\n",
       "                        <td id=\"T_0e3e715c_4122_11eb_a935_0021cc689668row8_col1\" class=\"data row8 col1\" >0.769261</td>\n",
       "                        <td id=\"T_0e3e715c_4122_11eb_a935_0021cc689668row8_col2\" class=\"data row8 col2\" >0.781709</td>\n",
       "                        <td id=\"T_0e3e715c_4122_11eb_a935_0021cc689668row8_col3\" class=\"data row8 col3\" >0.482573</td>\n",
       "                        <td id=\"T_0e3e715c_4122_11eb_a935_0021cc689668row8_col4\" class=\"data row8 col4\" >0.794549</td>\n",
       "            </tr>\n",
       "            <tr>\n",
       "                        <th id=\"T_0e3e715c_4122_11eb_a935_0021cc689668level0_row9\" class=\"row_heading level0 row9\" >10</th>\n",
       "                        <td id=\"T_0e3e715c_4122_11eb_a935_0021cc689668row9_col0\" class=\"data row9 col0\" >0.772668</td>\n",
       "                        <td id=\"T_0e3e715c_4122_11eb_a935_0021cc689668row9_col1\" class=\"data row9 col1\" >0.769523</td>\n",
       "                        <td id=\"T_0e3e715c_4122_11eb_a935_0021cc689668row9_col2\" class=\"data row9 col2\" >0.775681</td>\n",
       "                        <td id=\"T_0e3e715c_4122_11eb_a935_0021cc689668row9_col3\" class=\"data row9 col3\" >0.487421</td>\n",
       "                        <td id=\"T_0e3e715c_4122_11eb_a935_0021cc689668row9_col4\" class=\"data row9 col4\" >0.789177</td>\n",
       "            </tr>\n",
       "            <tr>\n",
       "                        <th id=\"T_0e3e715c_4122_11eb_a935_0021cc689668level0_row10\" class=\"row_heading level0 row10\" >Average Accuracy(mean)</th>\n",
       "                        <td id=\"T_0e3e715c_4122_11eb_a935_0021cc689668row10_col0\" class=\"data row10 col0\" >0.768579</td>\n",
       "                        <td id=\"T_0e3e715c_4122_11eb_a935_0021cc689668row10_col1\" class=\"data row10 col1\" >0.767399</td>\n",
       "                        <td id=\"T_0e3e715c_4122_11eb_a935_0021cc689668row10_col2\" class=\"data row10 col2\" >0.779597</td>\n",
       "                        <td id=\"T_0e3e715c_4122_11eb_a935_0021cc689668row10_col3\" class=\"data row10 col3\" >0.492977</td>\n",
       "                        <td id=\"T_0e3e715c_4122_11eb_a935_0021cc689668row10_col4\" class=\"data row10 col4\" >0.793459</td>\n",
       "            </tr>\n",
       "            <tr>\n",
       "                        <th id=\"T_0e3e715c_4122_11eb_a935_0021cc689668level0_row11\" class=\"row_heading level0 row11\" >Standard deviation</th>\n",
       "                        <td id=\"T_0e3e715c_4122_11eb_a935_0021cc689668row11_col0\" class=\"data row11 col0\" >0.004021</td>\n",
       "                        <td id=\"T_0e3e715c_4122_11eb_a935_0021cc689668row11_col1\" class=\"data row11 col1\" >0.003925</td>\n",
       "                        <td id=\"T_0e3e715c_4122_11eb_a935_0021cc689668row11_col2\" class=\"data row11 col2\" >0.003604</td>\n",
       "                        <td id=\"T_0e3e715c_4122_11eb_a935_0021cc689668row11_col3\" class=\"data row11 col3\" >0.006610</td>\n",
       "                        <td id=\"T_0e3e715c_4122_11eb_a935_0021cc689668row11_col4\" class=\"data row11 col4\" >0.003833</td>\n",
       "            </tr>\n",
       "    </tbody></table>"
      ],
      "text/plain": [
       "<pandas.io.formats.style.Styler at 0x1e101026d48>"
      ]
     },
     "execution_count": 62,
     "metadata": {},
     "output_type": "execute_result"
    }
   ],
   "source": [
    "# Merging the test scores from cross validation into one array\n",
    "Kflod_scores_2 = np.c_[MLP_results_2[\"test_score\"],\n",
    "        knn_results_2[\"test_score\"],\n",
    "        DT_results_2[\"test_score\"],\n",
    "        nb_results_2[\"test_score\"],\n",
    "        et_results_2[\"test_score\"]]\n",
    "\n",
    "# Calculating the mean and standard deviation and merging it\n",
    "Kflod_scores_final_2 = np.r_[Kflod_scores_2,\n",
    "                     np.mean(Kflod_scores_2,axis=0).reshape((1,5)),\n",
    "                     np.std(Kflod_scores_2,axis=0).reshape((1,5))]\n",
    "\n",
    "# Declaring Columns and index\n",
    "models_2=[\"MLP\",\"KNN\",'DT',\"NB\",\"ELT\"]\n",
    "fold_index_2 = [*range(1,11),\"Average Accuracy(mean)\",\"Standard deviation\"]\n",
    "\n",
    "# Creating a table using all the results\n",
    "K_fold_table_2 = pd.DataFrame(Kflod_scores_final_2,columns=models_2,index = fold_index_2)\n",
    "K_fold_table_2.index.set_names(\"Folds\",inplace= True)\n",
    "K_fold_table_2.columns.set_names(\"Algorithm\",inplace= True)\n",
    "\n",
    "# Displaying the table\n",
    "K_fold_table_2.style.set_properties(**{\"text-align\" : \"center\"})\n",
    "K_fold_table_2.style.set_properties(pd.IndexSlice[10],**{\"border-bottom\" : \"solid\",\"border-width\": \"2px\"})"
   ]
  },
  {
   "cell_type": "code",
   "execution_count": 63,
   "metadata": {},
   "outputs": [],
   "source": [
    "# Calculating p_values and creating the table required\n",
    "p_values,statistics_2= calculate_p_values(K_fold_table_2.iloc[:10,:])"
   ]
  },
  {
   "cell_type": "code",
   "execution_count": 64,
   "metadata": {
    "scrolled": false
   },
   "outputs": [
    {
     "data": {
      "text/html": [
       "<div>\n",
       "<style scoped>\n",
       "    .dataframe tbody tr th:only-of-type {\n",
       "        vertical-align: middle;\n",
       "    }\n",
       "\n",
       "    .dataframe tbody tr th {\n",
       "        vertical-align: top;\n",
       "    }\n",
       "\n",
       "    .dataframe thead th {\n",
       "        text-align: right;\n",
       "    }\n",
       "</style>\n",
       "<table border=\"1\" class=\"dataframe\">\n",
       "  <thead>\n",
       "    <tr style=\"text-align: right;\">\n",
       "      <th>Accuracy Difference</th>\n",
       "      <th>MLP-KNN</th>\n",
       "      <th>MLP-DT</th>\n",
       "      <th>MLP-NB</th>\n",
       "      <th>MLP-ELT</th>\n",
       "      <th>KNN-DT</th>\n",
       "      <th>KNN-NB</th>\n",
       "      <th>KNN-ELT</th>\n",
       "      <th>DT-NB</th>\n",
       "      <th>DT-ELT</th>\n",
       "      <th>NB-ELT</th>\n",
       "    </tr>\n",
       "    <tr>\n",
       "      <th>Fold</th>\n",
       "      <th></th>\n",
       "      <th></th>\n",
       "      <th></th>\n",
       "      <th></th>\n",
       "      <th></th>\n",
       "      <th></th>\n",
       "      <th></th>\n",
       "      <th></th>\n",
       "      <th></th>\n",
       "      <th></th>\n",
       "    </tr>\n",
       "  </thead>\n",
       "  <tbody>\n",
       "    <tr>\n",
       "      <th>1</th>\n",
       "      <td>0.0018</td>\n",
       "      <td>-0.0100</td>\n",
       "      <td>0.2743</td>\n",
       "      <td>-0.0287</td>\n",
       "      <td>-0.0118</td>\n",
       "      <td>0.2725</td>\n",
       "      <td>-0.0305</td>\n",
       "      <td>0.2843</td>\n",
       "      <td>-0.0187</td>\n",
       "      <td>-0.3030</td>\n",
       "    </tr>\n",
       "    <tr>\n",
       "      <th>2</th>\n",
       "      <td>0.0090</td>\n",
       "      <td>-0.0113</td>\n",
       "      <td>0.2783</td>\n",
       "      <td>-0.0190</td>\n",
       "      <td>-0.0203</td>\n",
       "      <td>0.2692</td>\n",
       "      <td>-0.0280</td>\n",
       "      <td>0.2895</td>\n",
       "      <td>-0.0077</td>\n",
       "      <td>-0.2973</td>\n",
       "    </tr>\n",
       "    <tr>\n",
       "      <th>3</th>\n",
       "      <td>-0.0077</td>\n",
       "      <td>-0.0224</td>\n",
       "      <td>0.2721</td>\n",
       "      <td>-0.0318</td>\n",
       "      <td>-0.0147</td>\n",
       "      <td>0.2798</td>\n",
       "      <td>-0.0241</td>\n",
       "      <td>0.2945</td>\n",
       "      <td>-0.0094</td>\n",
       "      <td>-0.3039</td>\n",
       "    </tr>\n",
       "    <tr>\n",
       "      <th>4</th>\n",
       "      <td>-0.0047</td>\n",
       "      <td>-0.0128</td>\n",
       "      <td>0.2776</td>\n",
       "      <td>-0.0316</td>\n",
       "      <td>-0.0081</td>\n",
       "      <td>0.2823</td>\n",
       "      <td>-0.0269</td>\n",
       "      <td>0.2904</td>\n",
       "      <td>-0.0187</td>\n",
       "      <td>-0.3092</td>\n",
       "    </tr>\n",
       "    <tr>\n",
       "      <th>5</th>\n",
       "      <td>0.0003</td>\n",
       "      <td>-0.0079</td>\n",
       "      <td>0.2710</td>\n",
       "      <td>-0.0224</td>\n",
       "      <td>-0.0081</td>\n",
       "      <td>0.2707</td>\n",
       "      <td>-0.0227</td>\n",
       "      <td>0.2788</td>\n",
       "      <td>-0.0145</td>\n",
       "      <td>-0.2934</td>\n",
       "    </tr>\n",
       "    <tr>\n",
       "      <th>6</th>\n",
       "      <td>0.0081</td>\n",
       "      <td>-0.0115</td>\n",
       "      <td>0.2790</td>\n",
       "      <td>-0.0211</td>\n",
       "      <td>-0.0197</td>\n",
       "      <td>0.2708</td>\n",
       "      <td>-0.0292</td>\n",
       "      <td>0.2905</td>\n",
       "      <td>-0.0096</td>\n",
       "      <td>-0.3001</td>\n",
       "    </tr>\n",
       "    <tr>\n",
       "      <th>7</th>\n",
       "      <td>0.0066</td>\n",
       "      <td>-0.0066</td>\n",
       "      <td>0.2769</td>\n",
       "      <td>-0.0252</td>\n",
       "      <td>-0.0131</td>\n",
       "      <td>0.2703</td>\n",
       "      <td>-0.0317</td>\n",
       "      <td>0.2834</td>\n",
       "      <td>-0.0186</td>\n",
       "      <td>-0.3020</td>\n",
       "    </tr>\n",
       "    <tr>\n",
       "      <th>8</th>\n",
       "      <td>-0.0014</td>\n",
       "      <td>-0.0090</td>\n",
       "      <td>0.2583</td>\n",
       "      <td>-0.0240</td>\n",
       "      <td>-0.0076</td>\n",
       "      <td>0.2597</td>\n",
       "      <td>-0.0225</td>\n",
       "      <td>0.2673</td>\n",
       "      <td>-0.0149</td>\n",
       "      <td>-0.2822</td>\n",
       "    </tr>\n",
       "    <tr>\n",
       "      <th>9</th>\n",
       "      <td>-0.0033</td>\n",
       "      <td>-0.0157</td>\n",
       "      <td>0.2834</td>\n",
       "      <td>-0.0286</td>\n",
       "      <td>-0.0124</td>\n",
       "      <td>0.2867</td>\n",
       "      <td>-0.0253</td>\n",
       "      <td>0.2991</td>\n",
       "      <td>-0.0128</td>\n",
       "      <td>-0.3120</td>\n",
       "    </tr>\n",
       "    <tr>\n",
       "      <th>10</th>\n",
       "      <td>0.0031</td>\n",
       "      <td>-0.0030</td>\n",
       "      <td>0.2852</td>\n",
       "      <td>-0.0165</td>\n",
       "      <td>-0.0062</td>\n",
       "      <td>0.2821</td>\n",
       "      <td>-0.0197</td>\n",
       "      <td>0.2883</td>\n",
       "      <td>-0.0135</td>\n",
       "      <td>-0.3018</td>\n",
       "    </tr>\n",
       "    <tr>\n",
       "      <th>Average Accuracy(mean)</th>\n",
       "      <td>0.0012</td>\n",
       "      <td>-0.0110</td>\n",
       "      <td>0.2756</td>\n",
       "      <td>-0.0249</td>\n",
       "      <td>-0.0122</td>\n",
       "      <td>0.2744</td>\n",
       "      <td>-0.0261</td>\n",
       "      <td>0.2866</td>\n",
       "      <td>-0.0139</td>\n",
       "      <td>-0.3005</td>\n",
       "    </tr>\n",
       "    <tr>\n",
       "      <th>Standard Deviation</th>\n",
       "      <td>0.0053</td>\n",
       "      <td>0.0050</td>\n",
       "      <td>0.0072</td>\n",
       "      <td>0.0050</td>\n",
       "      <td>0.0047</td>\n",
       "      <td>0.0077</td>\n",
       "      <td>0.0037</td>\n",
       "      <td>0.0084</td>\n",
       "      <td>0.0039</td>\n",
       "      <td>0.0079</td>\n",
       "    </tr>\n",
       "    <tr>\n",
       "      <th>p-value</th>\n",
       "      <td>0.5240</td>\n",
       "      <td>0.0001</td>\n",
       "      <td>0.0000</td>\n",
       "      <td>0.0000</td>\n",
       "      <td>0.0000</td>\n",
       "      <td>0.0000</td>\n",
       "      <td>0.0000</td>\n",
       "      <td>0.0000</td>\n",
       "      <td>0.0000</td>\n",
       "      <td>0.0000</td>\n",
       "    </tr>\n",
       "  </tbody>\n",
       "</table>\n",
       "</div>"
      ],
      "text/plain": [
       "Accuracy Difference     MLP-KNN  MLP-DT  MLP-NB  MLP-ELT  KNN-DT  KNN-NB  \\\n",
       "Fold                                                                       \n",
       "1                        0.0018 -0.0100  0.2743  -0.0287 -0.0118  0.2725   \n",
       "2                        0.0090 -0.0113  0.2783  -0.0190 -0.0203  0.2692   \n",
       "3                       -0.0077 -0.0224  0.2721  -0.0318 -0.0147  0.2798   \n",
       "4                       -0.0047 -0.0128  0.2776  -0.0316 -0.0081  0.2823   \n",
       "5                        0.0003 -0.0079  0.2710  -0.0224 -0.0081  0.2707   \n",
       "6                        0.0081 -0.0115  0.2790  -0.0211 -0.0197  0.2708   \n",
       "7                        0.0066 -0.0066  0.2769  -0.0252 -0.0131  0.2703   \n",
       "8                       -0.0014 -0.0090  0.2583  -0.0240 -0.0076  0.2597   \n",
       "9                       -0.0033 -0.0157  0.2834  -0.0286 -0.0124  0.2867   \n",
       "10                       0.0031 -0.0030  0.2852  -0.0165 -0.0062  0.2821   \n",
       "Average Accuracy(mean)   0.0012 -0.0110  0.2756  -0.0249 -0.0122  0.2744   \n",
       "Standard Deviation       0.0053  0.0050  0.0072   0.0050  0.0047  0.0077   \n",
       "p-value                  0.5240  0.0001  0.0000   0.0000  0.0000  0.0000   \n",
       "\n",
       "Accuracy Difference     KNN-ELT   DT-NB  DT-ELT  NB-ELT  \n",
       "Fold                                                     \n",
       "1                       -0.0305  0.2843 -0.0187 -0.3030  \n",
       "2                       -0.0280  0.2895 -0.0077 -0.2973  \n",
       "3                       -0.0241  0.2945 -0.0094 -0.3039  \n",
       "4                       -0.0269  0.2904 -0.0187 -0.3092  \n",
       "5                       -0.0227  0.2788 -0.0145 -0.2934  \n",
       "6                       -0.0292  0.2905 -0.0096 -0.3001  \n",
       "7                       -0.0317  0.2834 -0.0186 -0.3020  \n",
       "8                       -0.0225  0.2673 -0.0149 -0.2822  \n",
       "9                       -0.0253  0.2991 -0.0128 -0.3120  \n",
       "10                      -0.0197  0.2883 -0.0135 -0.3018  \n",
       "Average Accuracy(mean)  -0.0261  0.2866 -0.0139 -0.3005  \n",
       "Standard Deviation       0.0037  0.0084  0.0039  0.0079  \n",
       "p-value                  0.0000  0.0000  0.0000  0.0000  "
      ]
     },
     "execution_count": 64,
     "metadata": {},
     "output_type": "execute_result"
    }
   ],
   "source": [
    "# Displaying statistics\n",
    "statistics_2.round(4)"
   ]
  },
  {
   "cell_type": "code",
   "execution_count": 65,
   "metadata": {},
   "outputs": [
    {
     "name": "stdout",
     "output_type": "stream",
     "text": [
      "From the table it is clear that there is statistical significant difference between the following models:\n",
      "\n",
      "MLP and DT\n",
      "MLP and NB\n",
      "MLP and ELT\n",
      "KNN and DT\n",
      "KNN and NB\n",
      "KNN and ELT\n",
      "DT and NB\n",
      "DT and ELT\n",
      "NB and ELT\n"
     ]
    }
   ],
   "source": [
    "# the pairs of models with statistical significant difference\n",
    "print(\"From the table it is clear that there is statistical significant difference between the following models:\\n\")\n",
    "\n",
    "for x,y in zip(statistics_2.columns.values,p_values):\n",
    "    if y < 0.005:\n",
    "        algo=x.split(\"-\")\n",
    "        print(\"{} and {}\".format(algo[0],algo[1]))"
   ]
  },
  {
   "cell_type": "markdown",
   "metadata": {},
   "source": [
    "### Semi-supervised learning"
   ]
  },
  {
   "cell_type": "code",
   "execution_count": 66,
   "metadata": {},
   "outputs": [],
   "source": [
    "# Splitting the Dataset into testing and trainig datasets\n",
    "from sklearn.model_selection import train_test_split\n",
    "\n",
    "X_train_s,X_test_s,y_train_s,y_test_s = train_test_split(X,Y, test_size = .25,random_state = 123)"
   ]
  },
  {
   "cell_type": "code",
   "execution_count": 67,
   "metadata": {},
   "outputs": [],
   "source": [
    "from sklearn.model_selection import train_test_split\n",
    "# Function to load data for semi-supervised learning \n",
    "def SSL_load_data(data,target,percentage):\n",
    "    \"\"\"\n",
    "    Input: data - the features for the semi-supervised learning task\n",
    "           target - the target variable\n",
    "           percentage - the percentage of data should not be labelled\n",
    "    Output:\n",
    "           data_labelled - data for the targets that are labelled\n",
    "           data_unlabelled - data for the targets that are unlabelled\n",
    "           target_labelled - targets that are labelled\n",
    "           target_unlabelled - targets that are unlabelled\n",
    "    \"\"\"\n",
    "    data_labelled,data_unlabelled,target_labelled,target_unlabelled = train_test_split(data,target,\n",
    "                                                                                       test_size = percentage,\n",
    "                                                                                       random_state = 123)\n",
    "    \n",
    "    return  data_labelled,data_unlabelled,target_labelled,target_unlabelled"
   ]
  },
  {
   "cell_type": "markdown",
   "metadata": {},
   "source": [
    "## Model training"
   ]
  },
  {
   "cell_type": "markdown",
   "metadata": {},
   "source": [
    "### Label spreading and label propagation"
   ]
  },
  {
   "cell_type": "code",
   "execution_count": 68,
   "metadata": {},
   "outputs": [],
   "source": [
    "from sklearn.semi_supervised import LabelPropagation,LabelSpreading"
   ]
  },
  {
   "cell_type": "code",
   "execution_count": 69,
   "metadata": {
    "scrolled": true
   },
   "outputs": [
    {
     "data": {
      "text/plain": [
       "LabelSpreading(kernel='knn', n_jobs=-1)"
      ]
     },
     "execution_count": 69,
     "metadata": {},
     "output_type": "execute_result"
    }
   ],
   "source": [
    "# Label propagation and Label Spreadig using 10 percent of unlabelled data\n",
    "\n",
    "# loading data with 10 percent of unlabelled data\n",
    "X_labelled_1,X_unlabelled_1,Y_labelled_1,Y_unlabelled_1 = SSL_load_data(X_train_s,y_train_s,.1)\n",
    "\n",
    "# Decalring the models\n",
    "lp_model_1 = LabelPropagation(kernel=\"knn\",n_jobs=-1)\n",
    "ls_model_1 = LabelSpreading(kernel=\"knn\",n_jobs=-1)\n",
    "\n",
    "# Tranin the models\n",
    "lp_model_1.fit(X_labelled_1,Y_labelled_1)\n",
    "ls_model_1.fit(X_labelled_1,Y_labelled_1)"
   ]
  },
  {
   "cell_type": "code",
   "execution_count": 70,
   "metadata": {},
   "outputs": [],
   "source": [
    "# Labelling data and scoring the output\n",
    "lp_1_accuracy = lp_model_1.score(X_unlabelled_1,Y_unlabelled_1)\n",
    "lp_1_pred = lp_model_1.predict(X_unlabelled_1)\n",
    "ls_1_accuracy=ls_model_1.score(X_unlabelled_1,Y_unlabelled_1)\n",
    "ls_1_pred = ls_model_1.predict(X_unlabelled_1)"
   ]
  },
  {
   "cell_type": "code",
   "execution_count": 71,
   "metadata": {},
   "outputs": [],
   "source": [
    "# Joining the pesudo labels with the labelled dataset\n",
    "features_1 = pd.concat((X_labelled_1,X_unlabelled_1))\n",
    "y_lp_1 = np.r_[Y_labelled_1,lp_1_pred]\n",
    "y_ls_1 =np.r_[Y_labelled_1,ls_1_pred]"
   ]
  },
  {
   "cell_type": "code",
   "execution_count": 72,
   "metadata": {},
   "outputs": [
    {
     "data": {
      "text/plain": [
       "LabelSpreading(kernel='knn', n_jobs=-1)"
      ]
     },
     "execution_count": 72,
     "metadata": {},
     "output_type": "execute_result"
    }
   ],
   "source": [
    "# Label propagation and Label Spreadig using 20 percent of unlabelled data\n",
    "\n",
    "# loading data with 20 percent of unlabelled data\n",
    "X_labelled_2,X_unlabelled_2,Y_labelled_2,Y_unlabelled_2 = SSL_load_data(X_train_s,y_train_s,.2)\n",
    "\n",
    "# Decalring the models\n",
    "lp_model_2 = LabelPropagation(kernel=\"knn\",n_jobs=-1)\n",
    "ls_model_2 = LabelSpreading(kernel=\"knn\",n_jobs=-1)\n",
    "\n",
    "# Tranin the models\n",
    "lp_model_2.fit(X_labelled_2,Y_labelled_2)\n",
    "ls_model_2.fit(X_labelled_2,Y_labelled_2)"
   ]
  },
  {
   "cell_type": "code",
   "execution_count": 73,
   "metadata": {},
   "outputs": [],
   "source": [
    "# Labelling data and scoring the output\n",
    "lp_2_accuracy = lp_model_2.score(X_unlabelled_2,Y_unlabelled_2)\n",
    "lp_2_pred = lp_model_2.predict(X_unlabelled_2)\n",
    "ls_2_accuracy=ls_model_2.score(X_unlabelled_2,Y_unlabelled_2)\n",
    "ls_2_pred = ls_model_2.predict(X_unlabelled_2)"
   ]
  },
  {
   "cell_type": "code",
   "execution_count": 74,
   "metadata": {},
   "outputs": [],
   "source": [
    "# Joining the pesudo labels with the labelled dataset\n",
    "features_2 = pd.concat((X_labelled_2,X_unlabelled_2))\n",
    "y_lp_2 = np.r_[Y_labelled_2,lp_2_pred]\n",
    "y_ls_2 =np.r_[Y_labelled_2,ls_2_pred]"
   ]
  },
  {
   "cell_type": "code",
   "execution_count": 75,
   "metadata": {},
   "outputs": [
    {
     "data": {
      "text/plain": [
       "LabelSpreading(kernel='knn', n_jobs=-1)"
      ]
     },
     "execution_count": 75,
     "metadata": {},
     "output_type": "execute_result"
    }
   ],
   "source": [
    "# Label propagation and Label Spreadig using 50 percent of unlabelled data\n",
    "\n",
    "# loading data with 50 percent of unlabelled data50\n",
    "X_labelled_3,X_unlabelled_3,Y_labelled_3,Y_unlabelled_3 = SSL_load_data(X_train_s,y_train_s,.5)\n",
    "\n",
    "# Decalring the models\n",
    "lp_model_3 = LabelPropagation(kernel=\"knn\",n_jobs=-1)\n",
    "ls_model_3 = LabelSpreading(kernel=\"knn\",n_jobs=-1)\n",
    "\n",
    "# Tranin the models\n",
    "lp_model_3.fit(X_labelled_3,Y_labelled_3)\n",
    "ls_model_3.fit(X_labelled_3,Y_labelled_3)"
   ]
  },
  {
   "cell_type": "code",
   "execution_count": 76,
   "metadata": {},
   "outputs": [],
   "source": [
    "# Labelling data and scoring the output\n",
    "lp_3_accuracy = lp_model_3.score(X_unlabelled_3,Y_unlabelled_3)\n",
    "lp_3_pred = lp_model_3.predict(X_unlabelled_3)\n",
    "ls_3_accuracy=ls_model_3.score(X_unlabelled_3,Y_unlabelled_3)\n",
    "ls_3_pred = ls_model_3.predict(X_unlabelled_3)"
   ]
  },
  {
   "cell_type": "code",
   "execution_count": 77,
   "metadata": {},
   "outputs": [],
   "source": [
    "# Joining the pesudo labels with the labelled dataset\n",
    "features_3 = pd.concat((X_labelled_3,X_unlabelled_3))\n",
    "y_lp_3 = np.r_[Y_labelled_3,lp_3_pred]\n",
    "y_ls_3 =np.r_[Y_labelled_3,ls_3_pred]"
   ]
  },
  {
   "cell_type": "code",
   "execution_count": 78,
   "metadata": {},
   "outputs": [
    {
     "data": {
      "text/plain": [
       "LabelSpreading(kernel='knn', n_jobs=-1)"
      ]
     },
     "execution_count": 78,
     "metadata": {},
     "output_type": "execute_result"
    }
   ],
   "source": [
    "# Label propagation and Label Spreadig using 90 percent of unlabelled data\n",
    "\n",
    "# loading data with 90 percent of unlabelled data\n",
    "X_labelled_4,X_unlabelled_4,Y_labelled_4,Y_unlabelled_4 = SSL_load_data(X_train_s,y_train_s,.9)\n",
    "\n",
    "# Decalring the models\n",
    "lp_model_4 = LabelPropagation(kernel=\"knn\",n_jobs=-1)\n",
    "ls_model_4 = LabelSpreading(kernel=\"knn\",n_jobs=-1)\n",
    "\n",
    "# Tranin the models\n",
    "lp_model_4.fit(X_labelled_4,Y_labelled_4)\n",
    "ls_model_4.fit(X_labelled_4,Y_labelled_4)"
   ]
  },
  {
   "cell_type": "code",
   "execution_count": 79,
   "metadata": {},
   "outputs": [],
   "source": [
    "# Labelling data and scoring the output\n",
    "lp_4_accuracy = lp_model_4.score(X_unlabelled_4,Y_unlabelled_4)\n",
    "lp_4_pred = lp_model_4.predict(X_unlabelled_4)\n",
    "ls_4_accuracy=ls_model_4.score(X_unlabelled_4,Y_unlabelled_4)\n",
    "ls_4_pred = ls_model_4.predict(X_unlabelled_4)"
   ]
  },
  {
   "cell_type": "code",
   "execution_count": 80,
   "metadata": {},
   "outputs": [],
   "source": [
    "# Joining the pesudo labels with the labelled dataset\n",
    "features_4 = pd.concat((X_labelled_4,X_unlabelled_4))\n",
    "y_lp_4 = np.r_[Y_labelled_4,lp_4_pred]\n",
    "y_ls_4 =np.r_[Y_labelled_4,ls_4_pred]"
   ]
  },
  {
   "cell_type": "code",
   "execution_count": 81,
   "metadata": {},
   "outputs": [
    {
     "data": {
      "text/plain": [
       "LabelSpreading(kernel='knn', n_jobs=-1)"
      ]
     },
     "execution_count": 81,
     "metadata": {},
     "output_type": "execute_result"
    }
   ],
   "source": [
    "# Label propagation and Label Spreadig using 95 percent of unlabelled data\n",
    "\n",
    "# loading data with 95 percent of unlabelled data\n",
    "X_labelled_5,X_unlabelled_5,Y_labelled_5,Y_unlabelled_5 = SSL_load_data(X_train_s,y_train_s,.95)\n",
    "\n",
    "# Decalring the models\n",
    "lp_model_5 = LabelPropagation(kernel=\"knn\",n_jobs=-1)\n",
    "ls_model_5 = LabelSpreading(kernel=\"knn\",n_jobs=-1)\n",
    "\n",
    "# Tranin the models\n",
    "lp_model_5.fit(X_labelled_5,Y_labelled_5)\n",
    "ls_model_5.fit(X_labelled_5,Y_labelled_5)"
   ]
  },
  {
   "cell_type": "code",
   "execution_count": 82,
   "metadata": {},
   "outputs": [],
   "source": [
    "# Labelling data and scoring the output\n",
    "lp_5_accuracy = lp_model_5.score(X_unlabelled_5,Y_unlabelled_5)\n",
    "lp_5_pred = lp_model_5.predict(X_unlabelled_5)\n",
    "ls_5_accuracy=ls_model_5.score(X_unlabelled_5,Y_unlabelled_5)\n",
    "ls_5_pred = ls_model_5.predict(X_unlabelled_5)"
   ]
  },
  {
   "cell_type": "code",
   "execution_count": 83,
   "metadata": {},
   "outputs": [],
   "source": [
    "# Joining the pesudo labels with the labelled dataset\n",
    "features_5 = pd.concat((X_labelled_5,X_unlabelled_5))\n",
    "y_lp_5 = np.r_[Y_labelled_5,lp_5_pred]\n",
    "y_ls_5 =np.r_[Y_labelled_5,ls_5_pred]"
   ]
  },
  {
   "cell_type": "markdown",
   "metadata": {},
   "source": [
    "### Self_learning"
   ]
  },
  {
   "cell_type": "code",
   "execution_count": 84,
   "metadata": {},
   "outputs": [],
   "source": [
    "class self_learning:\n",
    "    \n",
    "    def __init__(self,estimator):\n",
    "        \n",
    "        self.model = estimator     \n",
    "        \n",
    "    def fit(self,X,y):\n",
    "        \n",
    "        self.X_labelled = X\n",
    "        self.y_labelled = y        \n",
    "        self.model.fit(self.X_labelled,self.y_labelled)\n",
    "    \n",
    "    def label_data(self,X):\n",
    "        \n",
    "        X_unlabelled = X       \n",
    "        \n",
    "        pred = self.model.predict(X_unlabelled)\n",
    "    \n",
    "        X_labelled = pd.concat((self.X_labelled,X_unlabelled))\n",
    "        y_labelled = np.r_[self.y_labelled,pred]\n",
    "\n",
    "        self.fit(X_labelled,y_labelled)\n",
    "            \n",
    "        return X_labelled,y_labelled\n",
    "    \n",
    "    def score(y_test):\n",
    "        return self.model.score(y_test,self.pred)"
   ]
  },
  {
   "cell_type": "code",
   "execution_count": 85,
   "metadata": {},
   "outputs": [],
   "source": [
    "n = int(X_unlabelled_1.shape[0]/10)"
   ]
  },
  {
   "cell_type": "code",
   "execution_count": 86,
   "metadata": {},
   "outputs": [
    {
     "data": {
      "text/plain": [
       "((68691, 45), (68691,))"
      ]
     },
     "execution_count": 86,
     "metadata": {},
     "output_type": "execute_result"
    }
   ],
   "source": [
    "X_labelled_1.shape,Y_labelled_1.shape"
   ]
  },
  {
   "cell_type": "code",
   "execution_count": 87,
   "metadata": {},
   "outputs": [],
   "source": [
    "from sklearn.ensemble import RandomForestClassifier\n",
    "\n",
    "rf = RandomForestClassifier()\n",
    "pd.set_option('mode.chained_assignment',None)"
   ]
  },
  {
   "cell_type": "code",
   "execution_count": 88,
   "metadata": {},
   "outputs": [],
   "source": [
    "self_1 = self_learning(rf)\n",
    "self_1.fit(X_labelled_1,Y_labelled_1)"
   ]
  },
  {
   "cell_type": "code",
   "execution_count": 89,
   "metadata": {},
   "outputs": [],
   "source": [
    "self_1_feature,y_self_1=self_1.label_data(X_unlabelled_1)"
   ]
  },
  {
   "cell_type": "code",
   "execution_count": 90,
   "metadata": {},
   "outputs": [],
   "source": [
    "self_2 = self_learning(rf)\n",
    "self_2.fit(X_labelled_2,Y_labelled_2)"
   ]
  },
  {
   "cell_type": "code",
   "execution_count": 91,
   "metadata": {},
   "outputs": [],
   "source": [
    "self_2_feature,y_self_2=self_2.label_data(X_unlabelled_2)"
   ]
  },
  {
   "cell_type": "code",
   "execution_count": 92,
   "metadata": {},
   "outputs": [],
   "source": [
    "self_3 = self_learning(rf)\n",
    "self_3.fit(X_labelled_3,Y_labelled_3)"
   ]
  },
  {
   "cell_type": "code",
   "execution_count": 93,
   "metadata": {},
   "outputs": [],
   "source": [
    "self_3_feature,y_self_3=self_3.label_data(X_unlabelled_3)"
   ]
  },
  {
   "cell_type": "code",
   "execution_count": 94,
   "metadata": {},
   "outputs": [],
   "source": [
    "self_4 = self_learning(rf)\n",
    "self_4.fit(X_labelled_4,Y_labelled_4)"
   ]
  },
  {
   "cell_type": "code",
   "execution_count": 95,
   "metadata": {},
   "outputs": [],
   "source": [
    "self_4_feature,y_self_4=self_4.label_data(X_unlabelled_4)"
   ]
  },
  {
   "cell_type": "code",
   "execution_count": 96,
   "metadata": {},
   "outputs": [],
   "source": [
    "self_5 = self_learning(rf)\n",
    "self_5.fit(X_labelled_5,Y_labelled_5)"
   ]
  },
  {
   "cell_type": "code",
   "execution_count": 97,
   "metadata": {},
   "outputs": [],
   "source": [
    "self_5_feature,y_self_5=self_5.label_data(X_unlabelled_3)"
   ]
  },
  {
   "cell_type": "markdown",
   "metadata": {},
   "source": [
    "### Model evaluation"
   ]
  },
  {
   "cell_type": "code",
   "execution_count": 98,
   "metadata": {},
   "outputs": [],
   "source": [
    "from sklearn.ensemble import RandomForestClassifier\n",
    "from sklearn.model_selection import cross_validate\n",
    "rf = RandomForestClassifier(n_jobs=-1)"
   ]
  },
  {
   "cell_type": "code",
   "execution_count": 99,
   "metadata": {},
   "outputs": [],
   "source": [
    "\n",
    "lp_1_results = cross_validate(rf,features_1,y_lp_1,return_estimator=True)\n",
    "ls_1_results = cross_validate(rf,features_1,y_ls_1,return_estimator=True)\n",
    "self_1_results = cross_validate(self_1.model,self_1_feature,y_self_1,return_estimator=True)"
   ]
  },
  {
   "cell_type": "code",
   "execution_count": 100,
   "metadata": {},
   "outputs": [],
   "source": [
    "lp_2_results = cross_validate(rf,features_2,y_lp_2,return_estimator=True)\n",
    "ls_2_results = cross_validate(rf,features_2,y_ls_2,return_estimator=True)\n",
    "self_2_results = cross_validate(self_2.model,self_2_feature,y_self_2,return_estimator=True)"
   ]
  },
  {
   "cell_type": "code",
   "execution_count": 101,
   "metadata": {},
   "outputs": [],
   "source": [
    "lp_3_results = cross_validate(rf,features_3,y_lp_3,return_estimator=True)\n",
    "ls_3_results = cross_validate(rf,features_3,y_ls_3,return_estimator=True)\n",
    "self_3_results = cross_validate(self_3.model,self_3_feature,y_self_3,return_estimator=True)"
   ]
  },
  {
   "cell_type": "code",
   "execution_count": 102,
   "metadata": {},
   "outputs": [],
   "source": [
    "lp_4_results = cross_validate(rf,features_4,y_lp_4,return_estimator=True)\n",
    "ls_4_results = cross_validate(rf,features_4,y_ls_4,return_estimator=True)\n",
    "self_4_results = cross_validate(self_4.model,self_4_feature,y_self_4,return_estimator=True)"
   ]
  },
  {
   "cell_type": "code",
   "execution_count": 103,
   "metadata": {},
   "outputs": [],
   "source": [
    "lp_5_results = cross_validate(rf,features_5,y_lp_5,return_estimator=True)\n",
    "ls_5_results = cross_validate(rf,features_5,y_ls_5,return_estimator=True)\n",
    "self_5_results = cross_validate(self_5.model,self_5_feature,y_self_5,return_estimator=True)"
   ]
  },
  {
   "cell_type": "code",
   "execution_count": 104,
   "metadata": {},
   "outputs": [],
   "source": [
    "lp_1_model = lp_1_results[\"estimator\"][-1]\n",
    "ls_1_model = ls_1_results[\"estimator\"][-1]\n",
    "self_1_model = self_1_results[\"estimator\"][-1]\n",
    "\n",
    "lp_2_model = lp_2_results[\"estimator\"][-1]\n",
    "ls_2_model = ls_2_results[\"estimator\"][-1]\n",
    "self_2_model = self_2_results[\"estimator\"][-1]\n",
    "\n",
    "lp_3_model = lp_3_results[\"estimator\"][-1]\n",
    "ls_3_model = ls_3_results[\"estimator\"][-1]\n",
    "self_3_model = self_3_results[\"estimator\"][-1]\n",
    "\n",
    "lp_4_model = lp_4_results[\"estimator\"][-1]\n",
    "ls_4_model = ls_4_results[\"estimator\"][-1]\n",
    "self_4_model = self_4_results[\"estimator\"][-1]\n",
    "\n",
    "lp_5_model = lp_5_results[\"estimator\"][-1]\n",
    "ls_5_model = ls_5_results[\"estimator\"][-1]\n",
    "self_5_model = self_5_results[\"estimator\"][-1]"
   ]
  },
  {
   "cell_type": "code",
   "execution_count": 105,
   "metadata": {},
   "outputs": [
    {
     "data": {
      "text/plain": [
       "RandomForestClassifier()"
      ]
     },
     "execution_count": 105,
     "metadata": {},
     "output_type": "execute_result"
    }
   ],
   "source": [
    "self_1_results[\"estimator\"][-1]"
   ]
  },
  {
   "cell_type": "code",
   "execution_count": 106,
   "metadata": {},
   "outputs": [],
   "source": [
    "from sklearn.metrics import recall_score,f1_score,ConfusionMatrixDisplay,confusion_matrix,classification_report \n",
    "from math import ceil\n",
    "from time import gmtime,strftime\n",
    "\n",
    "# Function to evaluate f1_measure,recall and specificity\n",
    "def evaluation_metrics(estimator,X,Y):\n",
    "    \"\"\"\n",
    "    Input : estimator - the model that needs to be evaluated\n",
    "            X - The test dataset\n",
    "            Y - the test target variable\n",
    "            \n",
    "    Output : dict containing F1_score,sensitivity and specificity\n",
    "    \"\"\"\n",
    "    prediction = estimator.predict(X)\n",
    "    report = classification_report(Y,prediction,output_dict=True)\n",
    "    recall = round(report['1']['recall'],4)\n",
    "    f1 = round(report['1']['f1-score'],4)\n",
    "    spec = round(report['0']['recall'],4)\n",
    "\n",
    "    metrics = {\"f1_score\":f1,\"Recall\":recall,\"Specificity\":spec}\n",
    "    return metrics"
   ]
  },
  {
   "cell_type": "code",
   "execution_count": 107,
   "metadata": {},
   "outputs": [],
   "source": [
    "lp_1_metrics = evaluation_metrics(lp_1_model,X_test_s,y_test_s) \n",
    "ls_1_metrics = evaluation_metrics(ls_1_model,X_test_s,y_test_s)\n",
    "self_1_metrics = evaluation_metrics(self_1_model,X_test_s,y_test_s)\n",
    "\n",
    "lp_2_metrics = evaluation_metrics(lp_2_model,X_test_s,y_test_s) \n",
    "ls_2_metrics = evaluation_metrics(ls_2_model,X_test_s,y_test_s)\n",
    "self_2_metrics = evaluation_metrics(self_2_model,X_test_s,y_test_s)\n",
    "\n",
    "\n",
    "lp_3_metrics = evaluation_metrics(lp_3_model,X_test_s,y_test_s) \n",
    "ls_3_metrics = evaluation_metrics(ls_3_model,X_test_s,y_test_s) \n",
    "self_3_metrics = evaluation_metrics(self_5_model,X_test_s,y_test_s)\n",
    "\n",
    "lp_4_metrics = evaluation_metrics(lp_4_model,X_test_s,y_test_s) \n",
    "ls_4_metrics = evaluation_metrics(ls_4_model,X_test_s,y_test_s) \n",
    "self_4_metrics = evaluation_metrics(self_4_model,X_test_s,y_test_s)\n",
    "\n",
    "lp_5_metrics = evaluation_metrics(lp_5_model,X_test_s,y_test_s) \n",
    "ls_5_metrics = evaluation_metrics(ls_5_model,X_test_s,y_test_s)\n",
    "self_5_metrics = evaluation_metrics(self_5_model,X_test_s,y_test_s)\n"
   ]
  },
  {
   "cell_type": "code",
   "execution_count": 108,
   "metadata": {},
   "outputs": [],
   "source": [
    "lp_1_metrics[\"runtime\"] = strftime(\"%M min %S secs\",gmtime(ceil(np.mean(lp_1_results[\"fit_time\"]))))\n",
    "ls_1_metrics[\"runtime\"] = strftime(\"%M min %S secs\",gmtime(ceil(np.mean(lp_1_results[\"fit_time\"]))))\n",
    "self_1_metrics[\"runtime\"] = strftime(\"%M min %S secs\",gmtime(ceil(np.mean(self_1_results[\"fit_time\"]))))\n",
    "\n",
    "lp_2_metrics[\"runtime\"] = strftime(\"%M min %S secs\",gmtime(ceil(np.mean(lp_2_results[\"fit_time\"]))))\n",
    "ls_2_metrics[\"runtime\"] = strftime(\"%M min %S secs\",gmtime(ceil(np.mean(lp_2_results[\"fit_time\"]))))\n",
    "self_2_metrics[\"runtime\"] = strftime(\"%M min %S secs\",gmtime(ceil(np.mean(self_2_results[\"fit_time\"]))))\n",
    "\n",
    "lp_3_metrics[\"runtime\"] = strftime(\"%M min %S secs\",gmtime(ceil(np.mean(lp_3_results[\"fit_time\"]))))\n",
    "ls_3_metrics[\"runtime\"] = strftime(\"%M min %S secs\",gmtime(ceil(np.mean(lp_3_results[\"fit_time\"]))))\n",
    "self_3_metrics[\"runtime\"] = strftime(\"%M min %S secs\",gmtime(ceil(np.mean(self_3_results[\"fit_time\"]))))\n",
    "\n",
    "lp_4_metrics[\"runtime\"] = strftime(\"%M min %S secs\",gmtime(ceil(np.mean(lp_4_results[\"fit_time\"]))))\n",
    "ls_4_metrics[\"runtime\"] = strftime(\"%M min %S secs\",gmtime(ceil(np.mean(lp_4_results[\"fit_time\"]))))\n",
    "self_4_metrics[\"runtime\"] = strftime(\"%M min %S secs\",gmtime(ceil(np.mean(self_4_results[\"fit_time\"]))))\n",
    "\n",
    "lp_5_metrics[\"runtime\"] = strftime(\"%M min %S secs\",gmtime(ceil(np.mean(lp_5_results[\"fit_time\"]))))\n",
    "ls_5_metrics[\"runtime\"] = strftime(\"%M min %S secs\",gmtime(ceil(np.mean(lp_5_results[\"fit_time\"]))))\n",
    "self_5_metrics[\"runtime\"] = strftime(\"%M min %S secs\",gmtime(ceil(np.mean(self_5_results[\"fit_time\"]))))"
   ]
  },
  {
   "cell_type": "code",
   "execution_count": 109,
   "metadata": {},
   "outputs": [],
   "source": [
    "lp_1_metrics[\"accuracy\"] = round(lp_1_model.score(X_test_s,y_test_s),4)\n",
    "ls_1_metrics[\"accuracy\"] = round(lp_1_model.score(X_test_s,y_test_s),4)\n",
    "self_1_metrics[\"accuracy\"] = round(self_1_model.score(X_test_s,y_test_s),4)\n",
    "\n",
    "lp_2_metrics[\"accuracy\"] = round(lp_2_model.score(X_test_s,y_test_s),4)\n",
    "ls_2_metrics[\"accuracy\"] = round(lp_2_model.score(X_test_s,y_test_s),4)\n",
    "self_2_metrics[\"accuracy\"] = round(self_2_model.score(X_test_s,y_test_s),4)\n",
    "\n",
    "lp_3_metrics[\"accuracy\"] = round(lp_3_model.score(X_test_s,y_test_s),4)\n",
    "ls_3_metrics[\"accuracy\"] = round(lp_3_model.score(X_test_s,y_test_s),4)\n",
    "self_3_metrics[\"accuracy\"] = round(self_3_model.score(X_test_s,y_test_s),4)\n",
    "\n",
    "lp_4_metrics[\"accuracy\"] = round(lp_4_model.score(X_test_s,y_test_s),4)\n",
    "ls_4_metrics[\"accuracy\"] = round(lp_4_model.score(X_test_s,y_test_s),4)\n",
    "self_4_metrics[\"accuracy\"] = round(self_4_model.score(X_test_s,y_test_s),4)\n",
    "\n",
    "lp_5_metrics[\"accuracy\"] = round(lp_5_model.score(X_test_s,y_test_s),4)\n",
    "ls_5_metrics[\"accuracy\"] = round(lp_5_model.score(X_test_s,y_test_s),4)\n",
    "self_5_metrics[\"accuracy\"] = round(self_5_model.score(X_test_s,y_test_s),4)"
   ]
  },
  {
   "cell_type": "markdown",
   "metadata": {},
   "source": [
    "### ROC curve and AUC"
   ]
  },
  {
   "cell_type": "code",
   "execution_count": 110,
   "metadata": {},
   "outputs": [],
   "source": [
    "from sklearn.metrics import RocCurveDisplay,roc_curve,roc_auc_score"
   ]
  },
  {
   "cell_type": "code",
   "execution_count": 111,
   "metadata": {},
   "outputs": [],
   "source": [
    "# Function to plot roc and calculate area under roc\n",
    "def AUC_ROC(estimator,test_data,test_target):\n",
    "    \"\"\"\n",
    "    Input: estimator - the model\n",
    "           test_data - test dataset features\n",
    "           test_target - test dataset target\n",
    "           \n",
    "    Output: fpr - False positive rate\n",
    "            tpr - True positive rate\n",
    "            auc - area under roc\n",
    "    \n",
    "    \"\"\"\n",
    "    y_pred = estimator.predict_proba(test_data)[:,1]\n",
    "    fpr,tpr,_= roc_curve(test_target,y_pred,pos_label=1)\n",
    "    auc = roc_auc_score(test_target,y_pred)\n",
    "    \n",
    "    # Plotting the figure\n",
    "    fig= plt.figure(figsize=(7,5))\n",
    "    axes=fig.add_axes([1,1,1,1])\n",
    "    RocCurveDisplay(fpr=fpr,tpr=tpr).plot(ax = axes,lw = 2)\n",
    "    axes.set_title(\"ROC curve \")\n",
    "    plt.show()\n",
    "    \n",
    "    return fpr,tpr,auc"
   ]
  },
  {
   "cell_type": "code",
   "execution_count": 112,
   "metadata": {},
   "outputs": [
    {
     "data": {
      "image/png": "[encoded data removed]",
      "text/plain": [
       "<Figure size 504x360 with 1 Axes>"
      ]
     },
     "metadata": {
      "needs_background": "light"
     },
     "output_type": "display_data"
    }
   ],
   "source": [
    "lp_1_fpr,lp_1_tpr,lp_1_auc = AUC_ROC(lp_1_model,X_test_s,y_test_s)\n",
    "lp_1_metrics[\"AUC\"] = round(lp_1_auc,4)"
   ]
  },
  {
   "cell_type": "code",
   "execution_count": 113,
   "metadata": {},
   "outputs": [
    {
     "data": {
      "image/png": "[encoded data removed]",
      "text/plain": [
       "<Figure size 504x360 with 1 Axes>"
      ]
     },
     "metadata": {
      "needs_background": "light"
     },
     "output_type": "display_data"
    }
   ],
   "source": [
    "lp_2_fpr,lp_2_tpr,lp_2_auc = AUC_ROC(lp_2_model,X_test_s,y_test_s)\n",
    "lp_2_metrics[\"AUC\"] = round(lp_2_auc,4)"
   ]
  },
  {
   "cell_type": "code",
   "execution_count": 114,
   "metadata": {},
   "outputs": [
    {
     "data": {
      "image/png": "[encoded data removed]",
      "text/plain": [
       "<Figure size 504x360 with 1 Axes>"
      ]
     },
     "metadata": {
      "needs_background": "light"
     },
     "output_type": "display_data"
    }
   ],
   "source": [
    "lp_3_fpr,lp_3_tpr,lp_3_auc = AUC_ROC(lp_3_model,X_test_s,y_test_s)\n",
    "lp_3_metrics[\"AUC\"] = round(lp_3_auc,4)"
   ]
  },
  {
   "cell_type": "code",
   "execution_count": 115,
   "metadata": {},
   "outputs": [
    {
     "data": {
      "image/png": "[encoded data removed]",
      "text/plain": [
       "<Figure size 504x360 with 1 Axes>"
      ]
     },
     "metadata": {
      "needs_background": "light"
     },
     "output_type": "display_data"
    }
   ],
   "source": [
    "lp_4_fpr,lp_4_tpr,lp_4_auc = AUC_ROC(lp_4_model,X_test_s,y_test_s)\n",
    "lp_4_metrics[\"AUC\"] = round(lp_4_auc,4)"
   ]
  },
  {
   "cell_type": "code",
   "execution_count": 116,
   "metadata": {},
   "outputs": [
    {
     "data": {
      "image/png": "[encoded data removed]",
      "text/plain": [
       "<Figure size 504x360 with 1 Axes>"
      ]
     },
     "metadata": {
      "needs_background": "light"
     },
     "output_type": "display_data"
    }
   ],
   "source": [
    "lp_5_fpr,lp_5_tpr,lp_5_auc = AUC_ROC(lp_5_model,X_test_s,y_test_s)\n",
    "lp_5_metrics[\"AUC\"] = round(lp_5_auc,4)"
   ]
  },
  {
   "cell_type": "code",
   "execution_count": 117,
   "metadata": {},
   "outputs": [
    {
     "data": {
      "image/png": "[encoded data removed]",
      "text/plain": [
       "<Figure size 504x360 with 1 Axes>"
      ]
     },
     "metadata": {
      "needs_background": "light"
     },
     "output_type": "display_data"
    }
   ],
   "source": [
    "# Plotting ROC  curves of all the models to contrast each other\n",
    "fig= plt.figure(figsize=(7,5))\n",
    "axes=fig.add_axes([1,1,1,1])\n",
    "RocCurveDisplay(fpr=lp_1_fpr,tpr=lp_1_tpr).plot(ax = axes,label = 'ROC for lp_1',lw = 2)\n",
    "RocCurveDisplay(fpr=lp_2_fpr,tpr=lp_2_tpr).plot(ax = axes,label = 'ROC for lp_2',lw = 2)\n",
    "RocCurveDisplay(fpr=lp_3_fpr,tpr=lp_3_tpr).plot(ax = axes,label = 'ROC for lp_3',lw = 2)\n",
    "RocCurveDisplay(fpr=lp_4_fpr,tpr=lp_4_tpr).plot(ax = axes,label = 'ROC for lp_4',lw = 2)\n",
    "RocCurveDisplay(fpr=lp_5_fpr,tpr=lp_5_tpr).plot(ax = axes,label = 'ROC for lp_5',lw = 2)\n",
    "axes.set_title(\"ROC curves for different models\\n\",)\n",
    "plt.show()"
   ]
  },
  {
   "cell_type": "code",
   "execution_count": 118,
   "metadata": {},
   "outputs": [
    {
     "data": {
      "image/png": "[encoded data removed]",
      "text/plain": [
       "<Figure size 504x360 with 1 Axes>"
      ]
     },
     "metadata": {
      "needs_background": "light"
     },
     "output_type": "display_data"
    }
   ],
   "source": [
    "ls_1_fpr,ls_1_tpr,ls_1_auc = AUC_ROC(ls_1_model,X_test_s,y_test_s)\n",
    "ls_1_metrics[\"AUC\"] = round(ls_1_auc,4)"
   ]
  },
  {
   "cell_type": "code",
   "execution_count": 119,
   "metadata": {},
   "outputs": [
    {
     "data": {
      "image/png": "[encoded data removed]",
      "text/plain": [
       "<Figure size 504x360 with 1 Axes>"
      ]
     },
     "metadata": {
      "needs_background": "light"
     },
     "output_type": "display_data"
    }
   ],
   "source": [
    "ls_2_fpr,ls_2_tpr,ls_2_auc = AUC_ROC(ls_2_model,X_test_s,y_test_s)\n",
    "ls_2_metrics[\"AUC\"] = round(ls_2_auc,4)"
   ]
  },
  {
   "cell_type": "code",
   "execution_count": 120,
   "metadata": {},
   "outputs": [
    {
     "data": {
      "image/png": "[encoded data removed]",
      "text/plain": [
       "<Figure size 504x360 with 1 Axes>"
      ]
     },
     "metadata": {
      "needs_background": "light"
     },
     "output_type": "display_data"
    }
   ],
   "source": [
    "ls_3_fpr,ls_3_tpr,ls_3_auc = AUC_ROC(ls_3_model,X_test_s,y_test_s)\n",
    "ls_3_metrics[\"AUC\"] = round(ls_3_auc,4)"
   ]
  },
  {
   "cell_type": "code",
   "execution_count": 121,
   "metadata": {},
   "outputs": [
    {
     "data": {
      "image/png": "[encoded data removed]",
      "text/plain": [
       "<Figure size 504x360 with 1 Axes>"
      ]
     },
     "metadata": {
      "needs_background": "light"
     },
     "output_type": "display_data"
    }
   ],
   "source": [
    "ls_4_fpr,ls_4_tpr,ls_4_auc = AUC_ROC(ls_4_model,X_test_s,y_test_s)\n",
    "ls_4_metrics[\"AUC\"] = round(ls_4_auc,4)"
   ]
  },
  {
   "cell_type": "code",
   "execution_count": 122,
   "metadata": {},
   "outputs": [
    {
     "data": {
      "image/png": "[encoded data removed]",
      "text/plain": [
       "<Figure size 504x360 with 1 Axes>"
      ]
     },
     "metadata": {
      "needs_background": "light"
     },
     "output_type": "display_data"
    }
   ],
   "source": [
    "ls_5_fpr,ls_5_tpr,ls_5_auc = AUC_ROC(ls_5_model,X_test_s,y_test_s)\n",
    "ls_5_metrics[\"AUC\"] = round(ls_5_auc,4)"
   ]
  },
  {
   "cell_type": "code",
   "execution_count": 123,
   "metadata": {},
   "outputs": [
    {
     "data": {
      "image/png": "[encoded data removed]",
      "text/plain": [
       "<Figure size 504x360 with 1 Axes>"
      ]
     },
     "metadata": {
      "needs_background": "light"
     },
     "output_type": "display_data"
    }
   ],
   "source": [
    "# Plotting ROC  curves of all the models to contrast each other\n",
    "fig= plt.figure(figsize=(7,5))\n",
    "axes=fig.add_axes([1,1,1,1])\n",
    "RocCurveDisplay(fpr=ls_1_fpr,tpr=ls_1_tpr).plot(ax = axes,label = 'ROC for ls_1',lw = 2)\n",
    "RocCurveDisplay(fpr=ls_2_fpr,tpr=ls_2_tpr).plot(ax = axes,label = 'ROC for ls_2',lw = 2)\n",
    "RocCurveDisplay(fpr=ls_3_fpr,tpr=ls_3_tpr).plot(ax = axes,label = 'ROC for ls_3',lw = 2)\n",
    "RocCurveDisplay(fpr=ls_4_fpr,tpr=ls_4_tpr).plot(ax = axes,label = 'ROC for ls_4',lw = 2)\n",
    "RocCurveDisplay(fpr=ls_5_fpr,tpr=ls_5_tpr).plot(ax = axes,label = 'ROC for ls_5',lw = 2)\n",
    "axes.set_title(\"ROC curves for different models\\n\",)\n",
    "plt.show()"
   ]
  },
  {
   "cell_type": "code",
   "execution_count": 124,
   "metadata": {},
   "outputs": [
    {
     "data": {
      "image/png": "[encoded data removed]",
      "text/plain": [
       "<Figure size 504x360 with 1 Axes>"
      ]
     },
     "metadata": {
      "needs_background": "light"
     },
     "output_type": "display_data"
    }
   ],
   "source": [
    "self_1_fpr,self_1_tpr,self_1_auc = AUC_ROC(self_1_model,X_test_s,y_test_s)\n",
    "self_1_metrics[\"AUC\"] = round(self_1_auc,4)"
   ]
  },
  {
   "cell_type": "code",
   "execution_count": 125,
   "metadata": {},
   "outputs": [
    {
     "data": {
      "image/png": "[encoded data removed]",
      "text/plain": [
       "<Figure size 504x360 with 1 Axes>"
      ]
     },
     "metadata": {
      "needs_background": "light"
     },
     "output_type": "display_data"
    }
   ],
   "source": [
    "self_2_fpr,self_2_tpr,self_2_auc = AUC_ROC(self_2_model,X_test_s,y_test_s)\n",
    "self_2_metrics[\"AUC\"] = round(self_2_auc,4)"
   ]
  },
  {
   "cell_type": "code",
   "execution_count": 126,
   "metadata": {},
   "outputs": [
    {
     "data": {
      "image/png": "[encoded data removed]",
      "text/plain": [
       "<Figure size 504x360 with 1 Axes>"
      ]
     },
     "metadata": {
      "needs_background": "light"
     },
     "output_type": "display_data"
    }
   ],
   "source": [
    "self_3_fpr,self_3_tpr,self_3_auc = AUC_ROC(self_3_model,X_test_s,y_test_s)\n",
    "self_3_metrics[\"AUC\"] = round(self_3_auc,4)"
   ]
  },
  {
   "cell_type": "code",
   "execution_count": 127,
   "metadata": {},
   "outputs": [
    {
     "data": {
      "image/png": "[encoded data removed]",
      "text/plain": [
       "<Figure size 504x360 with 1 Axes>"
      ]
     },
     "metadata": {
      "needs_background": "light"
     },
     "output_type": "display_data"
    }
   ],
   "source": [
    "self_4_fpr,self_4_tpr,self_4_auc = AUC_ROC(self_4_model,X_test_s,y_test_s)\n",
    "self_4_metrics[\"AUC\"] = round(self_2_auc,4)"
   ]
  },
  {
   "cell_type": "code",
   "execution_count": 128,
   "metadata": {},
   "outputs": [
    {
     "data": {
      "image/png": "[encoded data removed]",
      "text/plain": [
       "<Figure size 504x360 with 1 Axes>"
      ]
     },
     "metadata": {
      "needs_background": "light"
     },
     "output_type": "display_data"
    }
   ],
   "source": [
    "self_5_fpr,self_5_tpr,self_5_auc = AUC_ROC(self_5_model,X_test_s,y_test_s)\n",
    "self_5_metrics[\"AUC\"] = round(self_5_auc,4)"
   ]
  },
  {
   "cell_type": "code",
   "execution_count": 129,
   "metadata": {},
   "outputs": [
    {
     "data": {
      "image/png": "[encoded data removed]",
      "text/plain": [
       "<Figure size 504x360 with 1 Axes>"
      ]
     },
     "metadata": {
      "needs_background": "light"
     },
     "output_type": "display_data"
    }
   ],
   "source": [
    "# Plotting ROC  curves of all the models to contrast each other\n",
    "fig= plt.figure(figsize=(7,5))\n",
    "axes=fig.add_axes([1,1,1,1])\n",
    "RocCurveDisplay(fpr=self_1_fpr,tpr=self_1_tpr).plot(ax = axes,label = 'ROC for self_1',lw = 2)\n",
    "RocCurveDisplay(fpr=self_2_fpr,tpr=self_2_tpr).plot(ax = axes,label = 'ROC for self_2',lw = 2)\n",
    "RocCurveDisplay(fpr=self_3_fpr,tpr=self_3_tpr).plot(ax = axes,label = 'ROC for self_3',lw = 2)\n",
    "RocCurveDisplay(fpr=self_4_fpr,tpr=self_4_tpr).plot(ax = axes,label = 'ROC for self_4',lw = 2)\n",
    "RocCurveDisplay(fpr=self_5_fpr,tpr=self_5_tpr).plot(ax = axes,label = 'ROC for self_5',lw = 2)\n",
    "axes.set_title(\"ROC curves for different models\\n\",)\n",
    "plt.show()"
   ]
  },
  {
   "cell_type": "code",
   "execution_count": 130,
   "metadata": {},
   "outputs": [],
   "source": [
    "s_data=np.c_[list(lp_1_metrics.values()),\n",
    "            list(lp_2_metrics.values()),\n",
    "            list(lp_3_metrics.values()),\n",
    "            list(lp_4_metrics.values()),\n",
    "            list(lp_5_metrics.values()),\n",
    "            list(ls_1_metrics.values()),\n",
    "            list(ls_2_metrics.values()),\n",
    "            list(ls_3_metrics.values()),\n",
    "            list(ls_4_metrics.values()),\n",
    "            list(ls_5_metrics.values()),\n",
    "            list(self_1_metrics.values()),\n",
    "            list(self_2_metrics.values()),\n",
    "            list(self_3_metrics.values()),\n",
    "            list(self_4_metrics.values()),\n",
    "            list(self_5_metrics.values())]"
   ]
  },
  {
   "cell_type": "code",
   "execution_count": 131,
   "metadata": {},
   "outputs": [],
   "source": [
    "model_type = [\"Label propagation\",\"Label Spreading\",\"Self-learning\"]\n",
    "e_metrics = list(lp_1_metrics.keys())\n",
    "ind=[\"10 %\",\"20 %\",\"50 %\",\"90 %\",\"95 %\"]\n",
    "Index=pd.MultiIndex.from_product([model_type,ind])"
   ]
  },
  {
   "cell_type": "code",
   "execution_count": 132,
   "metadata": {},
   "outputs": [],
   "source": [
    "d = pd.DataFrame(s_data.T,columns=e_metrics,index = Index)\n",
    "d.index.set_names([\"Algorithms\",\"Unlabelled percentage\"],inplace= True)"
   ]
  },
  {
   "cell_type": "code",
   "execution_count": 133,
   "metadata": {},
   "outputs": [
    {
     "data": {
      "text/html": [
       "<div>\n",
       "<style scoped>\n",
       "    .dataframe tbody tr th:only-of-type {\n",
       "        vertical-align: middle;\n",
       "    }\n",
       "\n",
       "    .dataframe tbody tr th {\n",
       "        vertical-align: top;\n",
       "    }\n",
       "\n",
       "    .dataframe thead tr th {\n",
       "        text-align: left;\n",
       "    }\n",
       "</style>\n",
       "<table border=\"1\" class=\"dataframe\">\n",
       "  <thead>\n",
       "    <tr>\n",
       "      <th>Algorithms</th>\n",
       "      <th colspan=\"5\" halign=\"left\">Label propagation</th>\n",
       "      <th colspan=\"5\" halign=\"left\">Label Spreading</th>\n",
       "      <th colspan=\"5\" halign=\"left\">Self-learning</th>\n",
       "    </tr>\n",
       "    <tr>\n",
       "      <th>Unlabelled percentage</th>\n",
       "      <th>10 %</th>\n",
       "      <th>20 %</th>\n",
       "      <th>50 %</th>\n",
       "      <th>90 %</th>\n",
       "      <th>95 %</th>\n",
       "      <th>10 %</th>\n",
       "      <th>20 %</th>\n",
       "      <th>50 %</th>\n",
       "      <th>90 %</th>\n",
       "      <th>95 %</th>\n",
       "      <th>10 %</th>\n",
       "      <th>20 %</th>\n",
       "      <th>50 %</th>\n",
       "      <th>90 %</th>\n",
       "      <th>95 %</th>\n",
       "    </tr>\n",
       "  </thead>\n",
       "  <tbody>\n",
       "    <tr>\n",
       "      <th>f1_score</th>\n",
       "      <td>0.5737</td>\n",
       "      <td>0.5673</td>\n",
       "      <td>0.5477</td>\n",
       "      <td>0.4967</td>\n",
       "      <td>0.4643</td>\n",
       "      <td>0.5786</td>\n",
       "      <td>0.571</td>\n",
       "      <td>0.5485</td>\n",
       "      <td>0.4981</td>\n",
       "      <td>0.4669</td>\n",
       "      <td>0.578</td>\n",
       "      <td>0.5638</td>\n",
       "      <td>0.5338</td>\n",
       "      <td>0.5458</td>\n",
       "      <td>0.5338</td>\n",
       "    </tr>\n",
       "    <tr>\n",
       "      <th>Recall</th>\n",
       "      <td>0.5236</td>\n",
       "      <td>0.513</td>\n",
       "      <td>0.4784</td>\n",
       "      <td>0.4172</td>\n",
       "      <td>0.378</td>\n",
       "      <td>0.5279</td>\n",
       "      <td>0.5151</td>\n",
       "      <td>0.4772</td>\n",
       "      <td>0.419</td>\n",
       "      <td>0.3807</td>\n",
       "      <td>0.5265</td>\n",
       "      <td>0.5051</td>\n",
       "      <td>0.4558</td>\n",
       "      <td>0.4716</td>\n",
       "      <td>0.4558</td>\n",
       "    </tr>\n",
       "    <tr>\n",
       "      <th>Specificity</th>\n",
       "      <td>0.739</td>\n",
       "      <td>0.7443</td>\n",
       "      <td>0.7676</td>\n",
       "      <td>0.7731</td>\n",
       "      <td>0.7836</td>\n",
       "      <td>0.7433</td>\n",
       "      <td>0.7498</td>\n",
       "      <td>0.7725</td>\n",
       "      <td>0.7721</td>\n",
       "      <td>0.7838</td>\n",
       "      <td>0.7446</td>\n",
       "      <td>0.752</td>\n",
       "      <td>0.782</td>\n",
       "      <td>0.7783</td>\n",
       "      <td>0.782</td>\n",
       "    </tr>\n",
       "    <tr>\n",
       "      <th>runtime</th>\n",
       "      <td>00 min 12 secs</td>\n",
       "      <td>00 min 11 secs</td>\n",
       "      <td>00 min 11 secs</td>\n",
       "      <td>00 min 13 secs</td>\n",
       "      <td>00 min 12 secs</td>\n",
       "      <td>00 min 12 secs</td>\n",
       "      <td>00 min 11 secs</td>\n",
       "      <td>00 min 11 secs</td>\n",
       "      <td>00 min 13 secs</td>\n",
       "      <td>00 min 12 secs</td>\n",
       "      <td>00 min 27 secs</td>\n",
       "      <td>00 min 20 secs</td>\n",
       "      <td>00 min 16 secs</td>\n",
       "      <td>00 min 15 secs</td>\n",
       "      <td>00 min 10 secs</td>\n",
       "    </tr>\n",
       "    <tr>\n",
       "      <th>accuracy</th>\n",
       "      <td>0.6391</td>\n",
       "      <td>0.6371</td>\n",
       "      <td>0.6335</td>\n",
       "      <td>0.608</td>\n",
       "      <td>0.5955</td>\n",
       "      <td>0.6391</td>\n",
       "      <td>0.6371</td>\n",
       "      <td>0.6335</td>\n",
       "      <td>0.608</td>\n",
       "      <td>0.5955</td>\n",
       "      <td>0.6434</td>\n",
       "      <td>0.6375</td>\n",
       "      <td>0.641</td>\n",
       "      <td>0.636</td>\n",
       "      <td>0.6307</td>\n",
       "    </tr>\n",
       "    <tr>\n",
       "      <th>AUC</th>\n",
       "      <td>0.6921</td>\n",
       "      <td>0.6947</td>\n",
       "      <td>0.6816</td>\n",
       "      <td>0.6462</td>\n",
       "      <td>0.626</td>\n",
       "      <td>0.694</td>\n",
       "      <td>0.6929</td>\n",
       "      <td>0.6834</td>\n",
       "      <td>0.644</td>\n",
       "      <td>0.6292</td>\n",
       "      <td>0.6968</td>\n",
       "      <td>0.6932</td>\n",
       "      <td>0.6911</td>\n",
       "      <td>0.6932</td>\n",
       "      <td>0.6724</td>\n",
       "    </tr>\n",
       "  </tbody>\n",
       "</table>\n",
       "</div>"
      ],
      "text/plain": [
       "Algorithms            Label propagation                                  \\\n",
       "Unlabelled percentage              10 %            20 %            50 %   \n",
       "f1_score                         0.5737          0.5673          0.5477   \n",
       "Recall                           0.5236           0.513          0.4784   \n",
       "Specificity                       0.739          0.7443          0.7676   \n",
       "runtime                  00 min 12 secs  00 min 11 secs  00 min 11 secs   \n",
       "accuracy                         0.6391          0.6371          0.6335   \n",
       "AUC                              0.6921          0.6947          0.6816   \n",
       "\n",
       "Algorithms                                            Label Spreading  \\\n",
       "Unlabelled percentage            90 %            95 %            10 %   \n",
       "f1_score                       0.4967          0.4643          0.5786   \n",
       "Recall                         0.4172           0.378          0.5279   \n",
       "Specificity                    0.7731          0.7836          0.7433   \n",
       "runtime                00 min 13 secs  00 min 12 secs  00 min 12 secs   \n",
       "accuracy                        0.608          0.5955          0.6391   \n",
       "AUC                            0.6462           0.626           0.694   \n",
       "\n",
       "Algorithms                                                             \\\n",
       "Unlabelled percentage            20 %            50 %            90 %   \n",
       "f1_score                        0.571          0.5485          0.4981   \n",
       "Recall                         0.5151          0.4772           0.419   \n",
       "Specificity                    0.7498          0.7725          0.7721   \n",
       "runtime                00 min 11 secs  00 min 11 secs  00 min 13 secs   \n",
       "accuracy                       0.6371          0.6335           0.608   \n",
       "AUC                            0.6929          0.6834           0.644   \n",
       "\n",
       "Algorithms                              Self-learning                  \\\n",
       "Unlabelled percentage            95 %            10 %            20 %   \n",
       "f1_score                       0.4669           0.578          0.5638   \n",
       "Recall                         0.3807          0.5265          0.5051   \n",
       "Specificity                    0.7838          0.7446           0.752   \n",
       "runtime                00 min 12 secs  00 min 27 secs  00 min 20 secs   \n",
       "accuracy                       0.5955          0.6434          0.6375   \n",
       "AUC                            0.6292          0.6968          0.6932   \n",
       "\n",
       "Algorithms                                                             \n",
       "Unlabelled percentage            50 %            90 %            95 %  \n",
       "f1_score                       0.5338          0.5458          0.5338  \n",
       "Recall                         0.4558          0.4716          0.4558  \n",
       "Specificity                     0.782          0.7783           0.782  \n",
       "runtime                00 min 16 secs  00 min 15 secs  00 min 10 secs  \n",
       "accuracy                        0.641           0.636          0.6307  \n",
       "AUC                            0.6911          0.6932          0.6724  "
      ]
     },
     "execution_count": 133,
     "metadata": {},
     "output_type": "execute_result"
    }
   ],
   "source": [
    "d.T"
   ]
  },
  {
   "cell_type": "markdown",
   "metadata": {},
   "source": [
    "### Satistical analysis"
   ]
  },
  {
   "cell_type": "code",
   "execution_count": 134,
   "metadata": {},
   "outputs": [],
   "source": [
    "stat_data=np.c_[d.T[\"Label propagation\"].loc['accuracy'].values,\n",
    "d.T[\"Label Spreading\"].loc['accuracy'].values,\n",
    "d.T[\"Self-learning\"].loc['accuracy'].values].T"
   ]
  },
  {
   "cell_type": "code",
   "execution_count": 135,
   "metadata": {},
   "outputs": [],
   "source": [
    "s_ind=[\"10 %\",\"20 %\",\"50 %\",\"90 %\",\"95 %\"]\n",
    "s_model_type = [\"Label propagation\",\"Label Spreading\",\"Self-learning\"]\n",
    "d1 = pd.DataFrame(stat_data.T,columns=s_model_type,index = s_ind )"
   ]
  },
  {
   "cell_type": "code",
   "execution_count": 136,
   "metadata": {},
   "outputs": [
    {
     "data": {
      "text/html": [
       "<div>\n",
       "<style scoped>\n",
       "    .dataframe tbody tr th:only-of-type {\n",
       "        vertical-align: middle;\n",
       "    }\n",
       "\n",
       "    .dataframe tbody tr th {\n",
       "        vertical-align: top;\n",
       "    }\n",
       "\n",
       "    .dataframe thead th {\n",
       "        text-align: right;\n",
       "    }\n",
       "</style>\n",
       "<table border=\"1\" class=\"dataframe\">\n",
       "  <thead>\n",
       "    <tr style=\"text-align: right;\">\n",
       "      <th></th>\n",
       "      <th>Label propagation</th>\n",
       "      <th>Label Spreading</th>\n",
       "      <th>Self-learning</th>\n",
       "    </tr>\n",
       "  </thead>\n",
       "  <tbody>\n",
       "    <tr>\n",
       "      <th>10 %</th>\n",
       "      <td>0.6391</td>\n",
       "      <td>0.6391</td>\n",
       "      <td>0.6434</td>\n",
       "    </tr>\n",
       "    <tr>\n",
       "      <th>20 %</th>\n",
       "      <td>0.6371</td>\n",
       "      <td>0.6371</td>\n",
       "      <td>0.6375</td>\n",
       "    </tr>\n",
       "    <tr>\n",
       "      <th>50 %</th>\n",
       "      <td>0.6335</td>\n",
       "      <td>0.6335</td>\n",
       "      <td>0.641</td>\n",
       "    </tr>\n",
       "    <tr>\n",
       "      <th>90 %</th>\n",
       "      <td>0.608</td>\n",
       "      <td>0.608</td>\n",
       "      <td>0.636</td>\n",
       "    </tr>\n",
       "    <tr>\n",
       "      <th>95 %</th>\n",
       "      <td>0.5955</td>\n",
       "      <td>0.5955</td>\n",
       "      <td>0.6307</td>\n",
       "    </tr>\n",
       "  </tbody>\n",
       "</table>\n",
       "</div>"
      ],
      "text/plain": [
       "     Label propagation Label Spreading Self-learning\n",
       "10 %            0.6391          0.6391        0.6434\n",
       "20 %            0.6371          0.6371        0.6375\n",
       "50 %            0.6335          0.6335         0.641\n",
       "90 %             0.608           0.608         0.636\n",
       "95 %            0.5955          0.5955        0.6307"
      ]
     },
     "execution_count": 136,
     "metadata": {},
     "output_type": "execute_result"
    }
   ],
   "source": [
    "d1"
   ]
  },
  {
   "cell_type": "code",
   "execution_count": 137,
   "metadata": {},
   "outputs": [],
   "source": [
    "def Friedman_test(Dataset,names):\n",
    "    \n",
    "    n,k=Dataset.shape\n",
    "    \n",
    "    Rank_table = Dataset.rank(axis=1,method=\"max\",ascending=False)\n",
    "    average_ranks=np.mean(Rank_table,axis=0)\n",
    "    \n",
    "    R_d = sum((average_ranks*n))/(n*k)\n",
    "    ssd1 = n*sum((average_ranks - R_d)**2)\n",
    "    ssd2 = sum(np.sum((Rank_table-R_d)**2).values)/(n*(k-1))\n",
    "    \n",
    "    F_stat = round(ssd1/ssd2,4) \n",
    "    \n",
    "    return F_stat,average_ranks"
   ]
  },
  {
   "cell_type": "code",
   "execution_count": 138,
   "metadata": {},
   "outputs": [],
   "source": [
    "Friedman_stat,avg_ranks = Friedman_test(Dataset=d1,names=s_model_type)"
   ]
  },
  {
   "cell_type": "code",
   "execution_count": 139,
   "metadata": {},
   "outputs": [
    {
     "name": "stdout",
     "output_type": "stream",
     "text": [
      "The Friednman Statistic obtained: 10.0\n",
      "The Average ranks from Friedman's Test:\n",
      "\n",
      "Label propagation    3.0\n",
      "Label Spreading      3.0\n",
      "Self-learning        1.0\n",
      "dtype: float64\n"
     ]
    }
   ],
   "source": [
    "print(\"The Friednman Statistic obtained: {}\".format(Friedman_stat))\n",
    "print(\"The Average ranks from Friedman's Test:\\n\")\n",
    "print(avg_ranks)"
   ]
  },
  {
   "cell_type": "markdown",
   "metadata": {},
   "source": [
    "From the value of the Friedman statistic obtained which is 10, there is significant difference in the performance of the algorithms"
   ]
  }
 ],
 "metadata": {
  "kernelspec": {
   "display_name": "Python 3",
   "language": "python",
   "name": "python3"
  },
  "language_info": {
   "codemirror_mode": {
    "name": "ipython",
    "version": 3
   },
   "file_extension": ".py",
   "mimetype": "text/x-python",
   "name": "python",
   "nbconvert_exporter": "python",
   "pygments_lexer": "ipython3",
   "version": "3.8.5"
  },
  "varInspector": {
   "cols": {
    "lenName": 16,
    "lenType": 16,
    "lenVar": 40
   },
   "kernels_config": {
    "python": {
     "delete_cmd_postfix": "",
     "delete_cmd_prefix": "del ",
     "library": "var_list.py",
     "varRefreshCmd": "print(var_dic_list())"
    },
    "r": {
     "delete_cmd_postfix": ") ",
     "delete_cmd_prefix": "rm(",
     "library": "var_list.r",
     "varRefreshCmd": "cat(var_dic_list()) "
    }
   },
   "oldHeight": 122,
   "position": {
    "height": "144px",
    "left": "782px",
    "right": "20px",
    "top": "110px",
    "width": "350px"
   },
   "types_to_exclude": [
    "module",
    "function",
    "builtin_function_or_method",
    "instance",
    "_Feature"
   ],
   "varInspector_section_display": "block",
   "window_display": false
  }
 },
 "nbformat": 4,
 "nbformat_minor": 4
}
