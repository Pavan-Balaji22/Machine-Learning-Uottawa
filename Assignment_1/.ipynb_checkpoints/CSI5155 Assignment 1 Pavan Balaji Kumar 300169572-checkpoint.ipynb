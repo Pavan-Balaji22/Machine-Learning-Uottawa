{
 "cells": [
  {
   "cell_type": "markdown",
   "metadata": {},
   "source": [
    "## Importing required modules"
   ]
  },
  {
   "cell_type": "code",
   "execution_count": 7,
   "metadata": {},
   "outputs": [],
   "source": [
    "import numpy as np\n",
    "import pandas as pd\n",
    "import matplotlib.pyplot as plt\n",
    "from sklearn.preprocessing import OneHotEncoder,OrdinalEncoder,LabelBinarizer\n",
    "from sklearn import svm\n",
    "from sklearn.model_selection import train_test_split\n",
    "from sklearn.tree import DecisionTreeClassifier\n",
    "from sklearn.tree import plot_tree\n",
    "from sklearn.neighbors import KNeighborsClassifier\n",
    "from sklearn.naive_bayes import GaussianNB\n",
    "from sklearn.metrics import confusion_matrix,ConfusionMatrixDisplay,roc_auc_score,roc_curve,RocCurveDisplay,f1_score\n",
    "from sklearn.multiclass import OneVsOneClassifier,OneVsRestClassifier"
   ]
  },
  {
   "cell_type": "markdown",
   "metadata": {},
   "source": [
    "## Loading dataset and processing for training"
   ]
  },
  {
   "cell_type": "code",
   "execution_count": 8,
   "metadata": {},
   "outputs": [],
   "source": [
    "bank_data = pd.read_csv(\"bank-additional/bank-additional-full.csv\",sep=\";\")\n",
    "X = bank_data.iloc[:,:20]\n",
    "Y = bank_data.iloc[:,20]"
   ]
  },
  {
   "cell_type": "code",
   "execution_count": 9,
   "metadata": {},
   "outputs": [],
   "source": [
    "def cat_to_num(X,cardinal,ordinal):\n",
    "    '''\n",
    "    Input:  X - original dataset\n",
    "            cardinal - the columns that need to be One hot encoded\n",
    "            ordinal  - the columns that need to be oridinal encoded\n",
    "    \n",
    "    Output: X - after all the processing done\n",
    "    \n",
    "    Function to change the categorical variables present in the dataset to encoded numericals   \n",
    "    \n",
    "    '''\n",
    "    OHen = OneHotEncoder()\n",
    "    Oren = OrdinalEncoder()\n",
    "    n = X.shape[1]\n",
    "    \n",
    "    # looping through the columns and encodering the categorical column     \n",
    "    for i in range(n):\n",
    "        \n",
    "        # One hot encoding for cardinal columns\n",
    "        if X.iloc[:,i].name in cardinal:\n",
    "            OHE = OHen.fit_transform(X.iloc[:,[i]])\n",
    "            df = pd.DataFrame(OHE.toarray(),columns=[X.iloc[:,i].name+\"_\"+y for y in X.iloc[:,i].unique()])\n",
    "            X = pd.merge(left=X,right=df,left_index=True,right_index=True)\n",
    "        \n",
    "        # Ordinal encoding for ordinal columns\n",
    "        if X.iloc[:,i].name in ordinal:\n",
    "            X.iloc[:,i] = Oren.fit_transform(X.iloc[:,[i]])\n",
    "    \n",
    "    # Dropping the cardinal categorical columns to avoind redundancy  \n",
    "    X.drop(columns=cardinal,inplace = True)\n",
    "    return X"
   ]
  },
  {
   "cell_type": "code",
   "execution_count": 6,
   "metadata": {},
   "outputs": [],
   "source": [
    "# Processing and spliting the dataset into testing and traning sets\n",
    "\n",
    "ordinal = ['day_of_week','month','contact']\n",
    "cardinal =['job','marital','education','default','housing','loan','poutcome']\n",
    "X1 = cat_to_num(X,cardinal,ordinal)\n",
    "X_train,X_test,Y_train,Y_test = train_test_split(X1,Y,test_size = .33, random_state = 2)"
   ]
  },
  {
   "cell_type": "markdown",
   "metadata": {},
   "source": [
    "## Question 1: Explorative Machine Learning – Binary Task"
   ]
  },
  {
   "cell_type": "markdown",
   "metadata": {},
   "source": [
    "\n",
    "\n",
    "## a. Show the four models constructed by the algorithms:\n",
    "* Support Vector machines\n",
    "* Decision Trees\n",
    "* K nearest neighbors\n",
    "* Navie Bayesian Classifier"
   ]
  },
  {
   "cell_type": "markdown",
   "metadata": {},
   "source": [
    "#### Support Vector machine"
   ]
  },
  {
   "cell_type": "code",
   "execution_count": 5,
   "metadata": {},
   "outputs": [
    {
     "data": {
      "text/plain": [
       "SVC(probability=True, random_state=3)"
      ]
     },
     "execution_count": 5,
     "metadata": {},
     "output_type": "execute_result"
    }
   ],
   "source": [
    "# Intialize and traning the SVM model\n",
    "svm_model = svm.SVC(probability=True,random_state=3)\n",
    "svm_model.fit(X_train,Y_train)"
   ]
  },
  {
   "cell_type": "code",
   "execution_count": 6,
   "metadata": {},
   "outputs": [
    {
     "data": {
      "text/plain": [
       "0.8964908408739792"
      ]
     },
     "execution_count": 6,
     "metadata": {},
     "output_type": "execute_result"
    }
   ],
   "source": [
    "svm_model.score(X_test,Y_test)"
   ]
  },
  {
   "cell_type": "code",
   "execution_count": 7,
   "metadata": {},
   "outputs": [
    {
     "data": {
      "text/plain": [
       "array([[4.000e+01, 0.000e+00, 6.000e+00, 3.000e+00, 4.590e+02],\n",
       "       [5.000e+01, 0.000e+00, 6.000e+00, 2.000e+00, 4.290e+02],\n",
       "       [3.500e+01, 0.000e+00, 1.000e+00, 3.000e+00, 4.250e+02],\n",
       "       ...,\n",
       "       [3.900e+01, 0.000e+00, 6.000e+00, 1.000e+00, 3.030e+02],\n",
       "       [2.800e+01, 0.000e+00, 4.000e+00, 3.000e+00, 3.180e+02],\n",
       "       [3.500e+01, 0.000e+00, 6.000e+00, 2.000e+00, 1.262e+03]])"
      ]
     },
     "execution_count": 7,
     "metadata": {},
     "output_type": "execute_result"
    }
   ],
   "source": [
    "svm_model.support_vectors_[:,:5] # the support vectors the model learned "
   ]
  },
  {
   "cell_type": "markdown",
   "metadata": {},
   "source": [
    "#### Decision Tree"
   ]
  },
  {
   "cell_type": "code",
   "execution_count": 8,
   "metadata": {},
   "outputs": [
    {
     "data": {
      "text/plain": [
       "DecisionTreeClassifier(max_depth=15, max_features=7, random_state=3)"
      ]
     },
     "execution_count": 8,
     "metadata": {},
     "output_type": "execute_result"
    }
   ],
   "source": [
    "# Intialize and traning the Decision Tree model\n",
    "DT_model = DecisionTreeClassifier(max_depth=15,max_features=7,random_state=3)\n",
    "DT_model.fit(X_train,Y_train)"
   ]
  },
  {
   "cell_type": "code",
   "execution_count": 9,
   "metadata": {},
   "outputs": [
    {
     "data": {
      "text/plain": [
       "0.8983300228058559"
      ]
     },
     "execution_count": 9,
     "metadata": {},
     "output_type": "execute_result"
    }
   ],
   "source": [
    "DT_model.score(X_test,Y_test)"
   ]
  },
  {
   "cell_type": "code",
   "execution_count": 10,
   "metadata": {},
   "outputs": [
    {
     "data": {
      "image/png": "[encoded data removed]",
      "text/plain": [
       "<Figure size 1440x720 with 1 Axes>"
      ]
     },
     "metadata": {
      "needs_background": "light"
     },
     "output_type": "display_data"
    }
   ],
   "source": [
    "# Plotting the decision tree learned by the model\n",
    "plt.figure(figsize=(20,10))\n",
    "plot_tree(DT_model,max_depth=3,fontsize=12, filled= True)\n",
    "plt.show()"
   ]
  },
  {
   "cell_type": "markdown",
   "metadata": {},
   "source": [
    "#### K - Nearest Neighbors"
   ]
  },
  {
   "cell_type": "code",
   "execution_count": 11,
   "metadata": {},
   "outputs": [
    {
     "data": {
      "text/plain": [
       "KNeighborsClassifier(n_neighbors=7)"
      ]
     },
     "execution_count": 11,
     "metadata": {},
     "output_type": "execute_result"
    }
   ],
   "source": [
    "# Intialize and traning the KNN model\n",
    "KNN_model = KNeighborsClassifier(n_neighbors=7)\n",
    "KNN_model.fit(X_train,Y_train)"
   ]
  },
  {
   "cell_type": "code",
   "execution_count": 12,
   "metadata": {},
   "outputs": [
    {
     "data": {
      "text/plain": [
       "0.9087030089016406"
      ]
     },
     "execution_count": 12,
     "metadata": {},
     "output_type": "execute_result"
    }
   ],
   "source": [
    "KNN_model.score(X_test,Y_test)"
   ]
  },
  {
   "cell_type": "code",
   "execution_count": 13,
   "metadata": {},
   "outputs": [
    {
     "data": {
      "text/plain": [
       "(array([[2.2360682 , 3.87298348, 4.12310563, 4.12310575, 4.2426408 ,\n",
       "         4.58257613, 4.69041587]]),\n",
       " array([[23155, 18042, 23814, 10542, 19837,  7131,  2837]], dtype=int64))"
      ]
     },
     "execution_count": 13,
     "metadata": {},
     "output_type": "execute_result"
    }
   ],
   "source": [
    "# the neighbours calculated by the KNN model\n",
    "\n",
    "KNN_model.kneighbors(X_test.iloc[[1],:],return_distance= True) # the K neighbors calclated by the model for the first instance"
   ]
  },
  {
   "cell_type": "markdown",
   "metadata": {},
   "source": [
    "#### Navie Bayesian Classifier"
   ]
  },
  {
   "cell_type": "code",
   "execution_count": 14,
   "metadata": {},
   "outputs": [
    {
     "data": {
      "text/plain": [
       "GaussianNB()"
      ]
     },
     "execution_count": 14,
     "metadata": {},
     "output_type": "execute_result"
    }
   ],
   "source": [
    "# Intialize and traning the Navie Bayesian model\n",
    "NB_model = GaussianNB()\n",
    "NB_model.fit(X_train,Y_train)"
   ]
  },
  {
   "cell_type": "code",
   "execution_count": 15,
   "metadata": {},
   "outputs": [
    {
     "data": {
      "text/plain": [
       "0.8408739792540278"
      ]
     },
     "execution_count": 15,
     "metadata": {},
     "output_type": "execute_result"
    }
   ],
   "source": [
    "NB_model.score(X_test,Y_test)"
   ]
  },
  {
   "cell_type": "code",
   "execution_count": 16,
   "metadata": {},
   "outputs": [],
   "source": [
    "# The mean and standard deviation of each features vs classes\n",
    "class1_mean,class2_mean=NB_model.theta_[0],NB_model.theta_[1]\n",
    "class1_variance,class2_variance=NB_model.sigma_[0]**2,NB_model.sigma_[1]**2\n",
    "\n",
    "index=pd.MultiIndex.from_arrays([[\"yes\",\"yes\",\"no\",\"no\"],['mean','std.dev','mean','std.dev']])\n",
    "Nb_df = pd.DataFrame([class1_mean,class1_variance,class2_mean,class2_variance],columns=X1.columns,index = index)"
   ]
  },
  {
   "cell_type": "code",
   "execution_count": 17,
   "metadata": {
    "scrolled": false
   },
   "outputs": [
    {
     "data": {
      "text/html": [
       "<div>\n",
       "<style scoped>\n",
       "    .dataframe tbody tr th:only-of-type {\n",
       "        vertical-align: middle;\n",
       "    }\n",
       "\n",
       "    .dataframe tbody tr th {\n",
       "        vertical-align: top;\n",
       "    }\n",
       "\n",
       "    .dataframe thead tr th {\n",
       "        text-align: left;\n",
       "    }\n",
       "</style>\n",
       "<table border=\"1\" class=\"dataframe\">\n",
       "  <thead>\n",
       "    <tr>\n",
       "      <th></th>\n",
       "      <th colspan=\"2\" halign=\"left\">yes</th>\n",
       "      <th colspan=\"2\" halign=\"left\">no</th>\n",
       "    </tr>\n",
       "    <tr>\n",
       "      <th></th>\n",
       "      <th>mean</th>\n",
       "      <th>std.dev</th>\n",
       "      <th>mean</th>\n",
       "      <th>std.dev</th>\n",
       "    </tr>\n",
       "  </thead>\n",
       "  <tbody>\n",
       "    <tr>\n",
       "      <th>age</th>\n",
       "      <td>39.918789</td>\n",
       "      <td>9.530920e+03</td>\n",
       "      <td>40.958589</td>\n",
       "      <td>3.594317e+04</td>\n",
       "    </tr>\n",
       "    <tr>\n",
       "      <th>contact</th>\n",
       "      <td>0.389773</td>\n",
       "      <td>5.660495e-02</td>\n",
       "      <td>0.167260</td>\n",
       "      <td>1.941894e-02</td>\n",
       "    </tr>\n",
       "    <tr>\n",
       "      <th>month</th>\n",
       "      <td>4.234329</td>\n",
       "      <td>2.636408e+01</td>\n",
       "      <td>4.185377</td>\n",
       "      <td>5.496891e+01</td>\n",
       "    </tr>\n",
       "    <tr>\n",
       "      <th>day_of_week</th>\n",
       "      <td>1.990246</td>\n",
       "      <td>3.829530e+00</td>\n",
       "      <td>2.047557</td>\n",
       "      <td>3.733133e+00</td>\n",
       "    </tr>\n",
       "    <tr>\n",
       "      <th>duration</th>\n",
       "      <td>220.541871</td>\n",
       "      <td>1.819940e+09</td>\n",
       "      <td>553.863151</td>\n",
       "      <td>2.870228e+10</td>\n",
       "    </tr>\n",
       "    <tr>\n",
       "      <th>campaign</th>\n",
       "      <td>2.633448</td>\n",
       "      <td>6.935285e+01</td>\n",
       "      <td>2.050146</td>\n",
       "      <td>8.049065e+00</td>\n",
       "    </tr>\n",
       "    <tr>\n",
       "      <th>pdays</th>\n",
       "      <td>983.403404</td>\n",
       "      <td>2.322368e+08</td>\n",
       "      <td>786.319638</td>\n",
       "      <td>2.754635e+10</td>\n",
       "    </tr>\n",
       "    <tr>\n",
       "      <th>previous</th>\n",
       "      <td>0.133366</td>\n",
       "      <td>2.862515e-02</td>\n",
       "      <td>0.507279</td>\n",
       "      <td>6.062903e-01</td>\n",
       "    </tr>\n",
       "    <tr>\n",
       "      <th>emp.var.rate</th>\n",
       "      <td>0.248723</td>\n",
       "      <td>4.838823e+00</td>\n",
       "      <td>-1.258072</td>\n",
       "      <td>6.916672e+00</td>\n",
       "    </tr>\n",
       "    <tr>\n",
       "      <th>cons.price.idx</th>\n",
       "      <td>93.604357</td>\n",
       "      <td>9.725757e-02</td>\n",
       "      <td>93.349349</td>\n",
       "      <td>2.131863e-01</td>\n",
       "    </tr>\n",
       "    <tr>\n",
       "      <th>cons.conf.idx</th>\n",
       "      <td>-40.601037</td>\n",
       "      <td>3.729073e+02</td>\n",
       "      <td>-39.778389</td>\n",
       "      <td>1.469712e+03</td>\n",
       "    </tr>\n",
       "    <tr>\n",
       "      <th>euribor3m</th>\n",
       "      <td>3.811977</td>\n",
       "      <td>7.197505e+00</td>\n",
       "      <td>2.098625</td>\n",
       "      <td>9.000062e+00</td>\n",
       "    </tr>\n",
       "    <tr>\n",
       "      <th>nr.employed</th>\n",
       "      <td>5176.116965</td>\n",
       "      <td>1.748089e+07</td>\n",
       "      <td>5094.039858</td>\n",
       "      <td>5.788566e+07</td>\n",
       "    </tr>\n",
       "    <tr>\n",
       "      <th>job_housemaid</th>\n",
       "      <td>0.249633</td>\n",
       "      <td>3.511281e-02</td>\n",
       "      <td>0.299579</td>\n",
       "      <td>4.405780e-02</td>\n",
       "    </tr>\n",
       "    <tr>\n",
       "      <th>job_services</th>\n",
       "      <td>0.235145</td>\n",
       "      <td>3.237117e-02</td>\n",
       "      <td>0.140408</td>\n",
       "      <td>1.458328e-02</td>\n",
       "    </tr>\n",
       "    <tr>\n",
       "      <th>job_admin.</th>\n",
       "      <td>0.036280</td>\n",
       "      <td>1.227204e-03</td>\n",
       "      <td>0.026205</td>\n",
       "      <td>6.546595e-04</td>\n",
       "    </tr>\n",
       "    <tr>\n",
       "      <th>job_blue-collar</th>\n",
       "      <td>0.026200</td>\n",
       "      <td>6.544021e-04</td>\n",
       "      <td>0.024264</td>\n",
       "      <td>5.637377e-04</td>\n",
       "    </tr>\n",
       "    <tr>\n",
       "      <th>job_technician</th>\n",
       "      <td>0.070601</td>\n",
       "      <td>4.314410e-03</td>\n",
       "      <td>0.068586</td>\n",
       "      <td>4.089610e-03</td>\n",
       "    </tr>\n",
       "    <tr>\n",
       "      <th>job_retired</th>\n",
       "      <td>0.035178</td>\n",
       "      <td>1.156568e-03</td>\n",
       "      <td>0.093497</td>\n",
       "      <td>7.195013e-03</td>\n",
       "    </tr>\n",
       "    <tr>\n",
       "      <th>job_management</th>\n",
       "      <td>0.034607</td>\n",
       "      <td>1.120702e-03</td>\n",
       "      <td>0.032676</td>\n",
       "      <td>1.003352e-03</td>\n",
       "    </tr>\n",
       "    <tr>\n",
       "      <th>job_unemployed</th>\n",
       "      <td>0.098351</td>\n",
       "      <td>7.875892e-03</td>\n",
       "      <td>0.066322</td>\n",
       "      <td>3.842876e-03</td>\n",
       "    </tr>\n",
       "    <tr>\n",
       "      <th>job_self-employed</th>\n",
       "      <td>0.016446</td>\n",
       "      <td>2.638586e-04</td>\n",
       "      <td>0.053057</td>\n",
       "      <td>2.531106e-03</td>\n",
       "    </tr>\n",
       "    <tr>\n",
       "      <th>job_unknown</th>\n",
       "      <td>0.165279</td>\n",
       "      <td>1.905224e-02</td>\n",
       "      <td>0.158525</td>\n",
       "      <td>1.781226e-02</td>\n",
       "    </tr>\n",
       "    <tr>\n",
       "      <th>job_entrepreneur</th>\n",
       "      <td>0.024527</td>\n",
       "      <td>5.756623e-04</td>\n",
       "      <td>0.029764</td>\n",
       "      <td>8.378625e-04</td>\n",
       "    </tr>\n",
       "    <tr>\n",
       "      <th>job_student</th>\n",
       "      <td>0.007754</td>\n",
       "      <td>6.024281e-05</td>\n",
       "      <td>0.007117</td>\n",
       "      <td>5.090380e-05</td>\n",
       "    </tr>\n",
       "    <tr>\n",
       "      <th>marital_married</th>\n",
       "      <td>0.114267</td>\n",
       "      <td>1.025723e-02</td>\n",
       "      <td>0.095762</td>\n",
       "      <td>7.509862e-03</td>\n",
       "    </tr>\n",
       "    <tr>\n",
       "      <th>marital_single</th>\n",
       "      <td>0.611737</td>\n",
       "      <td>5.644558e-02</td>\n",
       "      <td>0.551925</td>\n",
       "      <td>6.119276e-02</td>\n",
       "    </tr>\n",
       "    <tr>\n",
       "      <th>marital_divorced</th>\n",
       "      <td>0.272568</td>\n",
       "      <td>3.933974e-02</td>\n",
       "      <td>0.350049</td>\n",
       "      <td>5.179378e-02</td>\n",
       "    </tr>\n",
       "    <tr>\n",
       "      <th>marital_unknown</th>\n",
       "      <td>0.001428</td>\n",
       "      <td>2.232658e-06</td>\n",
       "      <td>0.002265</td>\n",
       "      <td>5.416888e-06</td>\n",
       "    </tr>\n",
       "    <tr>\n",
       "      <th>education_basic.4y</th>\n",
       "      <td>0.101534</td>\n",
       "      <td>8.334432e-03</td>\n",
       "      <td>0.094791</td>\n",
       "      <td>7.374317e-03</td>\n",
       "    </tr>\n",
       "    <tr>\n",
       "      <th>education_high.school</th>\n",
       "      <td>0.057950</td>\n",
       "      <td>2.987657e-03</td>\n",
       "      <td>0.040116</td>\n",
       "      <td>1.488034e-03</td>\n",
       "    </tr>\n",
       "    <tr>\n",
       "      <th>education_basic.6y</th>\n",
       "      <td>0.153567</td>\n",
       "      <td>1.691350e-02</td>\n",
       "      <td>0.098997</td>\n",
       "      <td>7.968164e-03</td>\n",
       "    </tr>\n",
       "    <tr>\n",
       "      <th>education_basic.9y</th>\n",
       "      <td>0.230656</td>\n",
       "      <td>3.151400e-02</td>\n",
       "      <td>0.222905</td>\n",
       "      <td>3.002817e-02</td>\n",
       "    </tr>\n",
       "    <tr>\n",
       "      <th>education_professional.course</th>\n",
       "      <td>0.000449</td>\n",
       "      <td>2.668910e-07</td>\n",
       "      <td>0.001294</td>\n",
       "      <td>1.850457e-06</td>\n",
       "    </tr>\n",
       "    <tr>\n",
       "      <th>education_unknown</th>\n",
       "      <td>0.126836</td>\n",
       "      <td>1.228038e-02</td>\n",
       "      <td>0.129731</td>\n",
       "      <td>1.276202e-02</td>\n",
       "    </tr>\n",
       "    <tr>\n",
       "      <th>education_university.degree</th>\n",
       "      <td>0.287831</td>\n",
       "      <td>4.204634e-02</td>\n",
       "      <td>0.360078</td>\n",
       "      <td>5.312548e-02</td>\n",
       "    </tr>\n",
       "    <tr>\n",
       "      <th>education_illiterate</th>\n",
       "      <td>0.041177</td>\n",
       "      <td>1.564149e-03</td>\n",
       "      <td>0.052087</td>\n",
       "      <td>2.444471e-03</td>\n",
       "    </tr>\n",
       "    <tr>\n",
       "      <th>default_no</th>\n",
       "      <td>0.778118</td>\n",
       "      <td>2.983163e-02</td>\n",
       "      <td>0.906503</td>\n",
       "      <td>7.195013e-03</td>\n",
       "    </tr>\n",
       "    <tr>\n",
       "      <th>default_unknown</th>\n",
       "      <td>0.221801</td>\n",
       "      <td>2.981595e-02</td>\n",
       "      <td>0.093497</td>\n",
       "      <td>7.195013e-03</td>\n",
       "    </tr>\n",
       "    <tr>\n",
       "      <th>default_yes</th>\n",
       "      <td>0.000082</td>\n",
       "      <td>2.235707e-08</td>\n",
       "      <td>0.000000</td>\n",
       "      <td>4.611789e-09</td>\n",
       "    </tr>\n",
       "    <tr>\n",
       "      <th>housing_no</th>\n",
       "      <td>0.454660</td>\n",
       "      <td>6.151007e-02</td>\n",
       "      <td>0.434487</td>\n",
       "      <td>6.040584e-02</td>\n",
       "    </tr>\n",
       "    <tr>\n",
       "      <th>housing_yes</th>\n",
       "      <td>0.023221</td>\n",
       "      <td>5.175356e-04</td>\n",
       "      <td>0.021352</td>\n",
       "      <td>4.395020e-04</td>\n",
       "    </tr>\n",
       "    <tr>\n",
       "      <th>housing_unknown</th>\n",
       "      <td>0.522119</td>\n",
       "      <td>6.228951e-02</td>\n",
       "      <td>0.544160</td>\n",
       "      <td>6.156242e-02</td>\n",
       "    </tr>\n",
       "    <tr>\n",
       "      <th>loan_no</th>\n",
       "      <td>0.823865</td>\n",
       "      <td>2.107696e-02</td>\n",
       "      <td>0.832417</td>\n",
       "      <td>1.947896e-02</td>\n",
       "    </tr>\n",
       "    <tr>\n",
       "      <th>loan_yes</th>\n",
       "      <td>0.023221</td>\n",
       "      <td>5.175356e-04</td>\n",
       "      <td>0.021352</td>\n",
       "      <td>4.395020e-04</td>\n",
       "    </tr>\n",
       "    <tr>\n",
       "      <th>loan_unknown</th>\n",
       "      <td>0.152914</td>\n",
       "      <td>1.679592e-02</td>\n",
       "      <td>0.146231</td>\n",
       "      <td>1.560386e-02</td>\n",
       "    </tr>\n",
       "    <tr>\n",
       "      <th>poutcome_nonexistent</th>\n",
       "      <td>0.099616</td>\n",
       "      <td>8.057015e-03</td>\n",
       "      <td>0.129731</td>\n",
       "      <td>1.276202e-02</td>\n",
       "    </tr>\n",
       "    <tr>\n",
       "      <th>poutcome_failure</th>\n",
       "      <td>0.886712</td>\n",
       "      <td>1.010456e-02</td>\n",
       "      <td>0.672921</td>\n",
       "      <td>4.847311e-02</td>\n",
       "    </tr>\n",
       "    <tr>\n",
       "      <th>poutcome_success</th>\n",
       "      <td>0.013671</td>\n",
       "      <td>1.836633e-04</td>\n",
       "      <td>0.197347</td>\n",
       "      <td>2.511247e-02</td>\n",
       "    </tr>\n",
       "  </tbody>\n",
       "</table>\n",
       "</div>"
      ],
      "text/plain": [
       "                                       yes                         no  \\\n",
       "                                      mean       std.dev         mean   \n",
       "age                              39.918789  9.530920e+03    40.958589   \n",
       "contact                           0.389773  5.660495e-02     0.167260   \n",
       "month                             4.234329  2.636408e+01     4.185377   \n",
       "day_of_week                       1.990246  3.829530e+00     2.047557   \n",
       "duration                        220.541871  1.819940e+09   553.863151   \n",
       "campaign                          2.633448  6.935285e+01     2.050146   \n",
       "pdays                           983.403404  2.322368e+08   786.319638   \n",
       "previous                          0.133366  2.862515e-02     0.507279   \n",
       "emp.var.rate                      0.248723  4.838823e+00    -1.258072   \n",
       "cons.price.idx                   93.604357  9.725757e-02    93.349349   \n",
       "cons.conf.idx                   -40.601037  3.729073e+02   -39.778389   \n",
       "euribor3m                         3.811977  7.197505e+00     2.098625   \n",
       "nr.employed                    5176.116965  1.748089e+07  5094.039858   \n",
       "job_housemaid                     0.249633  3.511281e-02     0.299579   \n",
       "job_services                      0.235145  3.237117e-02     0.140408   \n",
       "job_admin.                        0.036280  1.227204e-03     0.026205   \n",
       "job_blue-collar                   0.026200  6.544021e-04     0.024264   \n",
       "job_technician                    0.070601  4.314410e-03     0.068586   \n",
       "job_retired                       0.035178  1.156568e-03     0.093497   \n",
       "job_management                    0.034607  1.120702e-03     0.032676   \n",
       "job_unemployed                    0.098351  7.875892e-03     0.066322   \n",
       "job_self-employed                 0.016446  2.638586e-04     0.053057   \n",
       "job_unknown                       0.165279  1.905224e-02     0.158525   \n",
       "job_entrepreneur                  0.024527  5.756623e-04     0.029764   \n",
       "job_student                       0.007754  6.024281e-05     0.007117   \n",
       "marital_married                   0.114267  1.025723e-02     0.095762   \n",
       "marital_single                    0.611737  5.644558e-02     0.551925   \n",
       "marital_divorced                  0.272568  3.933974e-02     0.350049   \n",
       "marital_unknown                   0.001428  2.232658e-06     0.002265   \n",
       "education_basic.4y                0.101534  8.334432e-03     0.094791   \n",
       "education_high.school             0.057950  2.987657e-03     0.040116   \n",
       "education_basic.6y                0.153567  1.691350e-02     0.098997   \n",
       "education_basic.9y                0.230656  3.151400e-02     0.222905   \n",
       "education_professional.course     0.000449  2.668910e-07     0.001294   \n",
       "education_unknown                 0.126836  1.228038e-02     0.129731   \n",
       "education_university.degree       0.287831  4.204634e-02     0.360078   \n",
       "education_illiterate              0.041177  1.564149e-03     0.052087   \n",
       "default_no                        0.778118  2.983163e-02     0.906503   \n",
       "default_unknown                   0.221801  2.981595e-02     0.093497   \n",
       "default_yes                       0.000082  2.235707e-08     0.000000   \n",
       "housing_no                        0.454660  6.151007e-02     0.434487   \n",
       "housing_yes                       0.023221  5.175356e-04     0.021352   \n",
       "housing_unknown                   0.522119  6.228951e-02     0.544160   \n",
       "loan_no                           0.823865  2.107696e-02     0.832417   \n",
       "loan_yes                          0.023221  5.175356e-04     0.021352   \n",
       "loan_unknown                      0.152914  1.679592e-02     0.146231   \n",
       "poutcome_nonexistent              0.099616  8.057015e-03     0.129731   \n",
       "poutcome_failure                  0.886712  1.010456e-02     0.672921   \n",
       "poutcome_success                  0.013671  1.836633e-04     0.197347   \n",
       "\n",
       "                                             \n",
       "                                    std.dev  \n",
       "age                            3.594317e+04  \n",
       "contact                        1.941894e-02  \n",
       "month                          5.496891e+01  \n",
       "day_of_week                    3.733133e+00  \n",
       "duration                       2.870228e+10  \n",
       "campaign                       8.049065e+00  \n",
       "pdays                          2.754635e+10  \n",
       "previous                       6.062903e-01  \n",
       "emp.var.rate                   6.916672e+00  \n",
       "cons.price.idx                 2.131863e-01  \n",
       "cons.conf.idx                  1.469712e+03  \n",
       "euribor3m                      9.000062e+00  \n",
       "nr.employed                    5.788566e+07  \n",
       "job_housemaid                  4.405780e-02  \n",
       "job_services                   1.458328e-02  \n",
       "job_admin.                     6.546595e-04  \n",
       "job_blue-collar                5.637377e-04  \n",
       "job_technician                 4.089610e-03  \n",
       "job_retired                    7.195013e-03  \n",
       "job_management                 1.003352e-03  \n",
       "job_unemployed                 3.842876e-03  \n",
       "job_self-employed              2.531106e-03  \n",
       "job_unknown                    1.781226e-02  \n",
       "job_entrepreneur               8.378625e-04  \n",
       "job_student                    5.090380e-05  \n",
       "marital_married                7.509862e-03  \n",
       "marital_single                 6.119276e-02  \n",
       "marital_divorced               5.179378e-02  \n",
       "marital_unknown                5.416888e-06  \n",
       "education_basic.4y             7.374317e-03  \n",
       "education_high.school          1.488034e-03  \n",
       "education_basic.6y             7.968164e-03  \n",
       "education_basic.9y             3.002817e-02  \n",
       "education_professional.course  1.850457e-06  \n",
       "education_unknown              1.276202e-02  \n",
       "education_university.degree    5.312548e-02  \n",
       "education_illiterate           2.444471e-03  \n",
       "default_no                     7.195013e-03  \n",
       "default_unknown                7.195013e-03  \n",
       "default_yes                    4.611789e-09  \n",
       "housing_no                     6.040584e-02  \n",
       "housing_yes                    4.395020e-04  \n",
       "housing_unknown                6.156242e-02  \n",
       "loan_no                        1.947896e-02  \n",
       "loan_yes                       4.395020e-04  \n",
       "loan_unknown                   1.560386e-02  \n",
       "poutcome_nonexistent           1.276202e-02  \n",
       "poutcome_failure               4.847311e-02  \n",
       "poutcome_success               2.511247e-02  "
      ]
     },
     "execution_count": 17,
     "metadata": {},
     "output_type": "execute_result"
    }
   ],
   "source": [
    "Nb_df.transpose()"
   ]
  },
  {
   "cell_type": "markdown",
   "metadata": {},
   "source": [
    "## b. Show the Confusion Matrix for the four models"
   ]
  },
  {
   "cell_type": "markdown",
   "metadata": {},
   "source": [
    "#### Confusin Matrix of svm_model"
   ]
  },
  {
   "cell_type": "code",
   "execution_count": 18,
   "metadata": {},
   "outputs": [],
   "source": [
    "Y_pred = svm_model.predict(X_test)"
   ]
  },
  {
   "cell_type": "code",
   "execution_count": 19,
   "metadata": {},
   "outputs": [
    {
     "data": {
      "text/plain": [
       "<sklearn.metrics._plot.confusion_matrix.ConfusionMatrixDisplay at 0x22e9ac4ef88>"
      ]
     },
     "execution_count": 19,
     "metadata": {},
     "output_type": "execute_result"
    },
    {
     "data": {
      "image/png": "[encoded data removed]",
      "text/plain": [
       "<Figure size 432x288 with 2 Axes>"
      ]
     },
     "metadata": {
      "needs_background": "light"
     },
     "output_type": "display_data"
    }
   ],
   "source": [
    "ConfusionMatrixDisplay(confusion_matrix(Y_test,Y_pred)).plot(cmap= plt.cm.Blues)\n"
   ]
  },
  {
   "cell_type": "markdown",
   "metadata": {},
   "source": [
    "#### Confusin Matrix of DT_model"
   ]
  },
  {
   "cell_type": "code",
   "execution_count": 20,
   "metadata": {},
   "outputs": [],
   "source": [
    "Y_pred = DT_model.predict(X_test)"
   ]
  },
  {
   "cell_type": "code",
   "execution_count": 21,
   "metadata": {},
   "outputs": [
    {
     "data": {
      "text/plain": [
       "<sklearn.metrics._plot.confusion_matrix.ConfusionMatrixDisplay at 0x22e9ac47608>"
      ]
     },
     "execution_count": 21,
     "metadata": {},
     "output_type": "execute_result"
    },
    {
     "data": {
      "image/png": "[encoded data removed]",
      "text/plain": [
       "<Figure size 432x288 with 2 Axes>"
      ]
     },
     "metadata": {
      "needs_background": "light"
     },
     "output_type": "display_data"
    }
   ],
   "source": [
    "ConfusionMatrixDisplay(confusion_matrix(Y_test,Y_pred)).plot(cmap= plt.cm.Blues)"
   ]
  },
  {
   "cell_type": "markdown",
   "metadata": {},
   "source": [
    "#### Confusin Matrix of KNN_model"
   ]
  },
  {
   "cell_type": "code",
   "execution_count": 22,
   "metadata": {},
   "outputs": [],
   "source": [
    "Y_pred = KNN_model.predict(X_test)"
   ]
  },
  {
   "cell_type": "code",
   "execution_count": 23,
   "metadata": {},
   "outputs": [
    {
     "data": {
      "text/plain": [
       "<sklearn.metrics._plot.confusion_matrix.ConfusionMatrixDisplay at 0x22e9ac0f208>"
      ]
     },
     "execution_count": 23,
     "metadata": {},
     "output_type": "execute_result"
    },
    {
     "data": {
      "image/png": "[encoded data removed]",
      "text/plain": [
       "<Figure size 432x288 with 2 Axes>"
      ]
     },
     "metadata": {
      "needs_background": "light"
     },
     "output_type": "display_data"
    }
   ],
   "source": [
    "ConfusionMatrixDisplay(confusion_matrix(Y_test,Y_pred)).plot(cmap= plt.cm.Blues)"
   ]
  },
  {
   "cell_type": "markdown",
   "metadata": {},
   "source": [
    "#### Confusin Matrix of NB_model"
   ]
  },
  {
   "cell_type": "code",
   "execution_count": 24,
   "metadata": {},
   "outputs": [],
   "source": [
    "Y_pred = NB_model.predict(X_test)"
   ]
  },
  {
   "cell_type": "code",
   "execution_count": 25,
   "metadata": {},
   "outputs": [
    {
     "data": {
      "text/plain": [
       "<sklearn.metrics._plot.confusion_matrix.ConfusionMatrixDisplay at 0x22e9b59c9c8>"
      ]
     },
     "execution_count": 25,
     "metadata": {},
     "output_type": "execute_result"
    },
    {
     "data": {
      "image/png": "[encoded data removed]",
      "text/plain": [
       "<Figure size 432x288 with 2 Axes>"
      ]
     },
     "metadata": {
      "needs_background": "light"
     },
     "output_type": "display_data"
    }
   ],
   "source": [
    "ConfusionMatrixDisplay(confusion_matrix(Y_test,Y_pred)).plot(cmap= plt.cm.Blues)"
   ]
  },
  {
   "cell_type": "markdown",
   "metadata": {},
   "source": [
    "## c.  Draw the ROC Curves to contrast the four models"
   ]
  },
  {
   "cell_type": "code",
   "execution_count": 26,
   "metadata": {},
   "outputs": [],
   "source": [
    "# ROC for SVM model\n",
    "fprs,tprs,_= roc_curve(Y_test,svm_model.predict_proba(X_test)[:,1],pos_label='yes')\n",
    "\n",
    "# ROC for Decision Tree model\n",
    "fprd,tprd,_= roc_curve(Y_test,DT_model.predict_proba(X_test)[:,1],pos_label='yes')\n",
    "\n",
    "# ROC for Navie Bayesian model\n",
    "fprn,tprn,_= roc_curve(Y_test,NB_model.predict_proba(X_test)[:,1],pos_label='yes')\n",
    "\n",
    "# ROC for KNN model\n",
    "fprk,tprk,_= roc_curve(Y_test,KNN_model.predict_proba(X_test)[:,1],pos_label='yes')"
   ]
  },
  {
   "cell_type": "code",
   "execution_count": 27,
   "metadata": {},
   "outputs": [
    {
     "data": {
      "image/png": "[encoded data removed]",
      "text/plain": [
       "<Figure size 504x360 with 1 Axes>"
      ]
     },
     "metadata": {
      "needs_background": "light"
     },
     "output_type": "display_data"
    }
   ],
   "source": [
    "# Ploting the ROC curves for the four models \n",
    "\n",
    "fig= plt.figure(figsize=(7,5))\n",
    "axes=fig.add_axes([1,1,1,1])\n",
    "RocCurveDisplay(fpr=fprs,tpr=tprs).plot(ax = axes,label = 'ROC for SVM',lw = 2,)\n",
    "RocCurveDisplay(fpr=fprd,tpr=tprd).plot(ax = axes,label = 'ROC for Decision Tree',lw = 2)\n",
    "RocCurveDisplay(fpr=fprn,tpr=tprn).plot(ax = axes,label = 'ROC for Navie Bayesian',lw = 2)\n",
    "RocCurveDisplay(fpr=fprk,tpr=tprk).plot(ax = axes,label = 'ROC for KNN',lw = 2)\n",
    "axes.set_title(\"ROC curves for different models\\n\",)\n",
    "plt.show()"
   ]
  },
  {
   "cell_type": "code",
   "execution_count": 28,
   "metadata": {},
   "outputs": [
    {
     "name": "stdout",
     "output_type": "stream",
     "text": [
      "The Area under curve for SVM based classifier:\n",
      "0.92\n",
      "The Area under curve for Decision based classifier:\n",
      "0.77\n",
      "The Area under curve for KNN based classifier:\n",
      "0.90\n",
      "The Area under curve for Navie bayesian based classifier:\n",
      "0.82\n"
     ]
    }
   ],
   "source": [
    "# AUC for SVM model\n",
    "svm_auc= roc_auc_score(Y_test,svm_model.predict_proba(X_test)[:,1])\n",
    "\n",
    "# AUC for Decision Tree model\n",
    "DT_auc= roc_auc_score(Y_test,DT_model.predict_proba(X_test)[:,1])\n",
    "\n",
    "# AUC for Navie Bayesian model\n",
    "NB_auc= roc_auc_score(Y_test,NB_model.predict_proba(X_test)[:,1])\n",
    "\n",
    "# AUC for KNN model\n",
    "KNN_auc= roc_auc_score(Y_test,KNN_model.predict_proba(X_test)[:,1])\n",
    "\n",
    "print(\"The Area under curve for SVM based classifier:\\n{0:.2f}\".format(svm_auc))\n",
    "print(\"The Area under curve for Decision based classifier:\\n{0:.2f}\".format(DT_auc))\n",
    "print(\"The Area under curve for KNN based classifier:\\n{0:.2f}\".format(KNN_auc))\n",
    "print(\"The Area under curve for Navie bayesian based classifier:\\n{0:.2f}\".format(NB_auc))"
   ]
  },
  {
   "cell_type": "markdown",
   "metadata": {},
   "source": [
    "## d. Summary"
   ]
  },
  {
   "cell_type": "markdown",
   "metadata": {},
   "source": [
    "<p>&nbsp;&nbsp;&nbsp;&nbsp;From the four models that I built, based on Support vector machines, Decision tree, K nearest neighbors and Navies bayesian algorithms, the model based on support vector machines has performed better than the other three in this classification task. As you can see from the Roc curve plot containing the curves of each model, the roc curve of the svm_model is far left and top, indicating that it has a high recall compared to the other model. Since this is a classification task and the data is very imbalanced, the accuracy measure of the models is not a good metric to evaluate the model on. Even though the Decision tree model has high accuracy, its AUC score is lower than the other three models indicating less recall. The Naive Bayesian classifier also suffers from the same problem as the Decision tree model. K nearest neighbor model has an area under the curve that is almost similar to that of the svm_model, so we can say that it also performs the task adequately well but not as good as the svm_model. Though the accuracy of all the models is similar, their difference in performance can be seen from the AUC scores.\n",
    "</p>"
   ]
  },
  {
   "cell_type": "markdown",
   "metadata": {},
   "source": [
    "## Processing Dataset for Multi-class learning"
   ]
  },
  {
   "cell_type": "code",
   "execution_count": 53,
   "metadata": {},
   "outputs": [],
   "source": [
    "# Preparing Data for multi class classification\n",
    "ordinal = ['day_of_week','month','contact','y']\n",
    "cardinal =['job','marital','education','default','housing','loan']\n",
    "Y2=X.iloc[:,14]\n",
    "req_columns=[*range(21)]\n",
    "req_columns.remove(14)\n",
    "X2= bank_data.iloc[:,req_columns]\n",
    "X2=cat_to_num(X2,cardinal,ordinal)\n",
    "\n",
    "# Splitting the test and train data set\n",
    "\n",
    "X2_train,X2_test,Y2_train,Y2_test = train_test_split(X2,Y2,test_size = .33, random_state = 2)"
   ]
  },
  {
   "cell_type": "markdown",
   "metadata": {},
   "source": [
    "## Question 2: Multi-class learning"
   ]
  },
  {
   "cell_type": "markdown",
   "metadata": {},
   "source": [
    "## a. Use a decision tree algorithm to construct a model for multi-class problem"
   ]
  },
  {
   "cell_type": "code",
   "execution_count": 54,
   "metadata": {},
   "outputs": [
    {
     "data": {
      "text/plain": [
       "DecisionTreeClassifier(max_depth=15, max_features=7, random_state=3)"
      ]
     },
     "execution_count": 54,
     "metadata": {},
     "output_type": "execute_result"
    }
   ],
   "source": [
    "# Traning a Decision tree model to classify multiple classes\n",
    "\n",
    "multiclassmodel = DecisionTreeClassifier(max_depth=15,max_features=7,random_state=3)\n",
    "multiclassmodel.fit(X2_train,Y2_train)"
   ]
  },
  {
   "cell_type": "markdown",
   "metadata": {},
   "source": [
    "## b. Draw ROC Curves using one-versus-one comparisons."
   ]
  },
  {
   "cell_type": "code",
   "execution_count": 55,
   "metadata": {},
   "outputs": [],
   "source": [
    "# Filtering Datasets for the three classifiers failure vs nonexistent,Failure vs sucess , nonexistent vs Sucess\n",
    "# for one vs one classification\n",
    "\n",
    "# Dataset for classifier 1\n",
    "\n",
    "Yc1_train= Y2_train[Y2_train.isin(['failure','nonexistent'])]\n",
    "Xc1_train= X2_train.loc[Yc1_train.index]\n",
    "Yc1_test= Y2_test[Y2_test.isin(['failure','nonexistent'])]\n",
    "Xc1_test= X2_test.loc[Yc1_test.index]\n",
    "\n",
    "# Dataset for classifier 2\n",
    "\n",
    "Yc2_train=Y2_train[Y2_train.isin(['failure','success'])]\n",
    "Xc2_train=X2_train.loc[Yc2_train.index]\n",
    "Yc2_test=Y2_test[Y2_test.isin(['failure','success'])]\n",
    "Xc2_test=X2_test.loc[Yc2_test.index]\n",
    "\n",
    "# Dataset for classifier 3\n",
    "\n",
    "Yc3_train=Y2_train[Y2_train.isin(['nonexistent','success'])]\n",
    "Xc3_train=X2_train.loc[Yc3_train.index]\n",
    "Yc3_test=Y2_test[Y2_test.isin(['nonexistent','success'])]\n",
    "Xc3_test=X2_test.loc[Yc3_test.index]"
   ]
  },
  {
   "cell_type": "code",
   "execution_count": 56,
   "metadata": {},
   "outputs": [
    {
     "data": {
      "text/plain": [
       "DecisionTreeClassifier(max_depth=15, max_features=7, random_state=3)"
      ]
     },
     "execution_count": 56,
     "metadata": {},
     "output_type": "execute_result"
    }
   ],
   "source": [
    "c1 = DecisionTreeClassifier(max_depth=15,max_features=7,random_state=3) #classifier 1 failure vs nonexistent\n",
    "c2 = DecisionTreeClassifier(max_depth=15,max_features=7,random_state=3) #classifier 2 failure vs nonexistent\n",
    "c3 = DecisionTreeClassifier(max_depth=15,max_features=7,random_state=3) #classifier 3 failure vs nonexistent\n",
    "\n",
    "# Traning the classifiers\n",
    "\n",
    "c1.fit(Xc1_train,Yc1_train)\n",
    "c2.fit(Xc2_train,Yc2_train)\n",
    "c3.fit(Xc3_train,Yc3_train)"
   ]
  },
  {
   "cell_type": "code",
   "execution_count": 57,
   "metadata": {},
   "outputs": [],
   "source": [
    "# calculating the Roc curve for the three classifiers\n",
    "\n",
    "fprc1,tprc1,_=roc_curve(Yc1_test,c1.predict_proba(Xc1_test)[:,1],pos_label='nonexistent') #Roc curve for the three classifier 1\n",
    "fprc2,tprc2,_=roc_curve(Yc2_test,c2.predict_proba(Xc2_test)[:,1],pos_label='success') #Roc curve for the three classifier 2\n",
    "fprc3,tprc3,_=roc_curve(Yc3_test,c3.predict_proba(Xc3_test)[:,1],pos_label='success') #Roc curve for the three classifier 3"
   ]
  },
  {
   "cell_type": "code",
   "execution_count": 59,
   "metadata": {
    "scrolled": false
   },
   "outputs": [
    {
     "data": {
      "image/png": "[encoded data removed]",
      "text/plain": [
       "<Figure size 504x360 with 1 Axes>"
      ]
     },
     "metadata": {
      "needs_background": "light"
     },
     "output_type": "display_data"
    }
   ],
   "source": [
    "# Plotting the roc curves for the three classifiers\n",
    "\n",
    "fig= plt.figure(figsize=(7,5))\n",
    "axes=fig.add_axes([1,1,1,1])\n",
    "RocCurveDisplay(fpr=fprc1,tpr=tprc1).plot(ax = axes,label = 'failure vs nonexitent',lw = 3,ls=\"--\")\n",
    "RocCurveDisplay(fpr=fprc2,tpr=tprc2).plot(ax = axes,label = 'failure vs success',lw = 2)\n",
    "RocCurveDisplay(fpr=fprc3,tpr=tprc3).plot(ax = axes,label = 'success vs nonexistent',lw = 2)\n",
    "axes.set_title(\"ROC curves for different classifier\\n\",)\n",
    "plt.show()"
   ]
  },
  {
   "cell_type": "markdown",
   "metadata": {},
   "source": [
    "## c. Calculate the AUC when using the one-versus-one scheme, <br> &nbsp;&nbsp;&nbsp; using both the  macro average and a prevalence-weighted average."
   ]
  },
  {
   "cell_type": "code",
   "execution_count": 60,
   "metadata": {},
   "outputs": [
    {
     "name": "stdout",
     "output_type": "stream",
     "text": [
      "One vs One Roc Area Under curve using macro average method:\n",
      " 0.9724\n",
      "One vs One Roc Area Under curve using prevalence weighted average method:\n",
      " 0.9794 \n"
     ]
    }
   ],
   "source": [
    "#calculating Roc area under curve using macro average and prevalence weighted average methods \n",
    "#in One vs One classification\n",
    "\n",
    "macro_auc_ovo = roc_auc_score(Y2_test,multiclassmodel.predict_proba(X2_test),multi_class='ovo',average='macro')\n",
    "weighted_auc_ovo = roc_auc_score(Y2_test,multiclassmodel.predict_proba(X2_test),multi_class='ovo',average='weighted')\n",
    "\n",
    "print(\"One vs One Roc Area Under curve using macro average method:\\n {:.4f}\".format(macro_auc_ovo))\n",
    "print(\"One vs One Roc Area Under curve using prevalence weighted average method:\\n {:.4f} \".format(weighted_auc_ovo))"
   ]
  },
  {
   "cell_type": "markdown",
   "metadata": {},
   "source": [
    "## d. Summary"
   ]
  },
  {
   "cell_type": "markdown",
   "metadata": {},
   "source": [
    "<p>&nbsp;&nbsp;&nbsp;&nbsp;Since this is a Multi-class classification problem, the approach taken to learn to predict the label to which an instance belongs is different from an ordinary binary classification problem. The ROC curve plot that we see above consists of the roc curves of three different classifiers trained in One vs One method. Unlike predicting the label directly as done in binary classification, in one vs one the different classifiers are trained to vote for the most appropriate class, and the class with the highest votes is selected as the label. This voting method is the difference between Question1 and Question2.  \n",
    "</p>"
   ]
  }
 ],
 "metadata": {
  "kernelspec": {
   "display_name": "Python 3",
   "language": "python",
   "name": "python3"
  },
  "language_info": {
   "codemirror_mode": {
    "name": "ipython",
    "version": 3
   },
   "file_extension": ".py",
   "mimetype": "text/x-python",
   "name": "python",
   "nbconvert_exporter": "python",
   "pygments_lexer": "ipython3",
   "version": "3.7.7"
  },
  "varInspector": {
   "cols": {
    "lenName": 16,
    "lenType": 16,
    "lenVar": 40
   },
   "kernels_config": {
    "python": {
     "delete_cmd_postfix": "",
     "delete_cmd_prefix": "del ",
     "library": "var_list.py",
     "varRefreshCmd": "print(var_dic_list())"
    },
    "r": {
     "delete_cmd_postfix": ") ",
     "delete_cmd_prefix": "rm(",
     "library": "var_list.r",
     "varRefreshCmd": "cat(var_dic_list()) "
    }
   },
   "position": {
    "height": "246px",
    "left": "918px",
    "right": "20px",
    "top": "-21px",
    "width": "340px"
   },
   "types_to_exclude": [
    "module",
    "function",
    "builtin_function_or_method",
    "instance",
    "_Feature"
   ],
   "window_display": true
  }
 },
 "nbformat": 4,
 "nbformat_minor": 4
}
