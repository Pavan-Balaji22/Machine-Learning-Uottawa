{
 "cells": [
  {
   "cell_type": "code",
   "execution_count": 1,
   "metadata": {},
   "outputs": [],
   "source": [
    "import numpy as np\n",
    "import pandas as pd\n",
    "import matplotlib.pyplot as plt\n",
    "from sklearn.preprocessing import OneHotEncoder,OrdinalEncoder,LabelBinarizer\n",
    "from sklearn import svm\n",
    "from sklearn.model_selection import train_test_split\n",
    "from sklearn.tree import DecisionTreeClassifier\n",
    "from sklearn.tree import plot_tree\n",
    "from sklearn.neighbors import KNeighborsClassifier\n",
    "from sklearn.naive_bayes import GaussianNB\n",
    "from sklearn.metrics import confusion_matrix,ConfusionMatrixDisplay,roc_auc_score,roc_curve,RocCurveDisplay,f1_score\n",
    "from sklearn.multiclass import OneVsOneClassifier,OneVsRestClassifier"
   ]
  },
  {
   "cell_type": "code",
   "execution_count": 19,
   "metadata": {},
   "outputs": [],
   "source": [
    "bank_data = pd.read_csv(\"bank-additional/bank-additional-full.csv\",sep=\";\")\n",
    "X = bank_data.iloc[:,:20]\n",
    "Y = bank_data.iloc[:,20]"
   ]
  },
  {
   "cell_type": "code",
   "execution_count": 20,
   "metadata": {},
   "outputs": [],
   "source": [
    "def cat_to_num(X,cardinal,ordinal):\n",
    "    '''\n",
    "    Input: X - original dataset\n",
    "    \n",
    "    Output:X - modified with one hot encoder\n",
    "    \n",
    "    Function to change the categorical variables present in the dataset to one hot encoder    \n",
    "    \n",
    "    '''\n",
    "    OHen = OneHotEncoder()\n",
    "    Oren = OrdinalEncoder()\n",
    "    n = X.shape[1]\n",
    "    col_name = list() # collecting the name of columns with categorical variable\n",
    "    \n",
    "    # looping through the columns and creatinf one hot encoders for the categorical columns     \n",
    "    for i in range(n):\n",
    "        if X.iloc[:,i].name in cardinal:\n",
    "            OHE = OHen.fit_transform(X.iloc[:,[i]])\n",
    "            df = pd.DataFrame(OHE.toarray(),columns=[X.iloc[:,i].name+\"_\"+y for y in X.iloc[:,i].unique()])\n",
    "            X = pd.merge(left=X,right=df,left_index=True,right_index=True)\n",
    "            col_name.append(X.iloc[:,i].name)\n",
    "        if X.iloc[:,i].name in ordinal:\n",
    "            X.iloc[:,i] = Oren.fit_transform(X.iloc[:,[i]])\n",
    "    \n",
    "    # Dropping the categorical columns after merge the one hot encoded version    \n",
    "    X.drop(columns=col_name,inplace = True)\n",
    "    return X"
   ]
  },
  {
   "cell_type": "code",
   "execution_count": 21,
   "metadata": {},
   "outputs": [],
   "source": [
    "ordinal = ['day_of_week','month','contact']\n",
    "cardinal =['job','marital','education','default','housing','loan','poutcome']"
   ]
  },
  {
   "cell_type": "code",
   "execution_count": 22,
   "metadata": {},
   "outputs": [],
   "source": [
    "X = cat_to_num(X,cardinal,ordinal)"
   ]
  },
  {
   "cell_type": "code",
   "execution_count": 27,
   "metadata": {},
   "outputs": [
    {
     "ename": "AttributeError",
     "evalue": "module 'pandas' has no attribute 'corr'",
     "output_type": "error",
     "traceback": [
      "\u001b[1;31m---------------------------------------------------------------------------\u001b[0m",
      "\u001b[1;31mAttributeError\u001b[0m                            Traceback (most recent call last)",
      "\u001b[1;32m<ipython-input-27-d3155aafb688>\u001b[0m in \u001b[0;36m<module>\u001b[1;34m\u001b[0m\n\u001b[1;32m----> 1\u001b[1;33m \u001b[0mpd\u001b[0m\u001b[1;33m.\u001b[0m\u001b[0mcorr\u001b[0m\u001b[1;33m(\u001b[0m\u001b[0mX\u001b[0m\u001b[1;33m[\u001b[0m\u001b[1;34m'housing_no'\u001b[0m\u001b[1;33m]\u001b[0m\u001b[1;33m,\u001b[0m\u001b[0mX\u001b[0m\u001b[1;33m[\u001b[0m\u001b[1;34m'housing_yes'\u001b[0m\u001b[1;33m]\u001b[0m\u001b[1;33m)\u001b[0m\u001b[1;33m\u001b[0m\u001b[1;33m\u001b[0m\u001b[0m\n\u001b[0m",
      "\u001b[1;32mD:\\anaconda3\\lib\\site-packages\\pandas\\__init__.py\u001b[0m in \u001b[0;36m__getattr__\u001b[1;34m(name)\u001b[0m\n\u001b[0;32m    256\u001b[0m             \u001b[1;32mreturn\u001b[0m \u001b[0m_SparseArray\u001b[0m\u001b[1;33m\u001b[0m\u001b[1;33m\u001b[0m\u001b[0m\n\u001b[0;32m    257\u001b[0m \u001b[1;33m\u001b[0m\u001b[0m\n\u001b[1;32m--> 258\u001b[1;33m         \u001b[1;32mraise\u001b[0m \u001b[0mAttributeError\u001b[0m\u001b[1;33m(\u001b[0m\u001b[1;34mf\"module 'pandas' has no attribute '{name}'\"\u001b[0m\u001b[1;33m)\u001b[0m\u001b[1;33m\u001b[0m\u001b[1;33m\u001b[0m\u001b[0m\n\u001b[0m\u001b[0;32m    259\u001b[0m \u001b[1;33m\u001b[0m\u001b[0m\n\u001b[0;32m    260\u001b[0m \u001b[1;33m\u001b[0m\u001b[0m\n",
      "\u001b[1;31mAttributeError\u001b[0m: module 'pandas' has no attribute 'corr'"
     ]
    }
   ],
   "source": [
    "pd.co"
   ]
  },
  {
   "cell_type": "code",
   "execution_count": null,
   "metadata": {},
   "outputs": [],
   "source": [
    "def cat_to_num(X):\n",
    "    '''\n",
    "    Input: X - original dataset\n",
    "    \n",
    "    Output:X - modified with one hot encoder\n",
    "    \n",
    "    Function to change the categorical variables present in the dataset to one hot encoder    \n",
    "    \n",
    "    '''\n",
    "    en = OneHotEncoder()\n",
    "    n = X.shape[1]\n",
    "    col_name = list() # collecting the name of columns with categorical variable\n",
    "    \n",
    "    # looping through the columns and creatinf one hot encoders for the categorical columns     \n",
    "    for i in range(n):\n",
    "        if X.iloc[:,i].dtype == 'O':\n",
    "            OHE = en.fit_transform(X.iloc[:,[i]])\n",
    "            df = pd.DataFrame(OHE.toarray(),columns=[X.iloc[:,i].name+\"_\"+y for y in X.iloc[:,i].unique()])\n",
    "            X = pd.merge(left=X,right=df,left_index=True,right_index=True)\n",
    "            col_name.append(X.iloc[:,i].name)\n",
    "    \n",
    "    # Dropping the categorical columns after merge the one hot encoded version    \n",
    "    X.drop(columns=col_name,inplace = True)\n",
    "    return X\n"
   ]
  }
 ],
 "metadata": {
  "kernelspec": {
   "display_name": "Python 3",
   "language": "python",
   "name": "python3"
  },
  "language_info": {
   "codemirror_mode": {
    "name": "ipython",
    "version": 3
   },
   "file_extension": ".py",
   "mimetype": "text/x-python",
   "name": "python",
   "nbconvert_exporter": "python",
   "pygments_lexer": "ipython3",
   "version": "3.7.7"
  },
  "varInspector": {
   "cols": {
    "lenName": 16,
    "lenType": 16,
    "lenVar": 40
   },
   "kernels_config": {
    "python": {
     "delete_cmd_postfix": "",
     "delete_cmd_prefix": "del ",
     "library": "var_list.py",
     "varRefreshCmd": "print(var_dic_list())"
    },
    "r": {
     "delete_cmd_postfix": ") ",
     "delete_cmd_prefix": "rm(",
     "library": "var_list.r",
     "varRefreshCmd": "cat(var_dic_list()) "
    }
   },
   "position": {
    "height": "351px",
    "left": "652px",
    "right": "20px",
    "top": "145px",
    "width": "513px"
   },
   "types_to_exclude": [
    "module",
    "function",
    "builtin_function_or_method",
    "instance",
    "_Feature"
   ],
   "window_display": false
  }
 },
 "nbformat": 4,
 "nbformat_minor": 4
}
